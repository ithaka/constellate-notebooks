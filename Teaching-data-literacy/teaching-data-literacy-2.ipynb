{
 "cells": [
  {
   "cell_type": "markdown",
   "id": "73df39a0-e6c1-4a34-a85e-d9d824e429c7",
   "metadata": {},
   "source": [
    "<img align=\"left\" src=\"../All-sample-files/CC_BY.png\"><br>\n",
    "\n",
    "Created by [Nathan Kelber](http://nkelber.com) for Constellate under [Creative Commons CC BY License](https://creativecommons.org/licenses/by/4.0/)<br />\n",
    "For questions/comments/improvements, email nathan.kelber@ithaka.org.<br />"
   ]
  },
  {
   "cell_type": "markdown",
   "id": "edc7190b-c914-4286-9d1b-29db6abd1c84",
   "metadata": {},
   "source": [
    "# Teaching Data Literacy 2\n",
    "\n",
    "**Description:** \n",
    "\n",
    "This notebook introduces key ideas for teaching data literacy:\n",
    "\n",
    "* Local Installations\n",
    "* Teaching with GPU\n",
    "* Sharing Notebooks and Data\n",
    "* Constellate Data Builder\n",
    "\n",
    "**Use Case:** For Learners (Detailed explanation, not ideal for researchers)\n",
    "\n",
    "**Difficulty:** Beginners\n",
    "\n",
    "**Completion Time:** 90 minutes\n",
    "\n",
    "**Knowledge Required:** \n",
    "* Python Basics ([Start Python Basics I](../Python-basics/python-basics-1.ipynb))\n",
    "\n",
    "**Knowledge Recommended:** None\n",
    "\n",
    "**Data Format:** None\n",
    "\n",
    "**Libraries Used:** None\n",
    "\n",
    "**Research Pipeline:** None\n",
    "___"
   ]
  },
  {
   "cell_type": "markdown",
   "id": "c886487b-2f74-491e-abc7-028d5281a162",
   "metadata": {},
   "source": [
    "## Teaching with Local Installations\n",
    "\n",
    "Installing Python and Jupyter on your own computer can be a challenge, but installing it on more than 20 computers simultaneously is a significant logistical challenge. One of the reasons we created Constellate is we saw that the challenges of local installations was slowing, and in some cases preventing, people from getting started learning Python and text analysis.\n",
    "\n",
    "It is certainly possible and it can be edifying (you and your users are going to learn *a lot* about how your computers work). If you plan to do local installations, keep your classes small at first (10 students or less) until you get the hang of common issues. There's a good chance you'll run into: \"Weird! It works fine on my computer.\" Plan for at least a couple hours for getting everything installed properly. Local installation classes are more feasible for small, in-person classes. Working on technical problems through web conferencing adds an additional communication barrier.\n",
    "\n",
    "Prepare to spend many days writing documentation for users on different operating systems.\n",
    "\n",
    "Here are common pitfalls you're likely to run into:\n",
    "\n",
    "### Operating System Differences\n",
    "Your participants are likely to be using different operating systems on their computers. You will need to be prepared to support Microsoft Windows, Mac OS X, and Linux. Do you feel comfortable working with all of these operating systems? What will you do if a participant comes with a Chromebook (a variant of linux)? If you are not comfortable, it is a good idea to invite other experts that intimately know those operating systems. In each case, they should be comfortable on the command line.\n",
    "\n",
    "### Previous Installations\n",
    "Perhaps one of the most challenging problems is a machine where someone previously installed Jupyter Notebook, particularly using Anaconda. An Anaconda installation is a complicated combination of software installations that share dependencies. It is not easy to simply *uninstall* Anaconda and start over. If the user installed Anaconda for a workshop \"several years ago,\" it may not be in working condition. If it is in working condition, you will need to be prepared to show them how to launch the environment and the process may be different from others.\n",
    "\n",
    "### Administrator Access\n",
    "Does the user have administrative access on the machine. If it has been issued by a conservative IT department, they may not have sufficient permissions for installing the necessary software or accessing the relevant parts of the operating system. If an exception cannot be made (or made in a timely manner), then the user will not be able to do a local installation.\n",
    "\n",
    "### Command Line Differences\n",
    "Microsoft Windows uses a different command line than Linux and Apple Mac OS X. For Windows machines, it is recommended to install an additional command line, such as Gitbash from [Git for Windows](https://gitforwindows.org/). Otherwise, you will need to be prepared to offer command line install code (potentially including git) in a separate version for Windows users. By using Git for Windows, you can stick a single set of Unix commands.\n",
    "\n",
    "### File Path Differences\n",
    "The file system in Windows is different than Unix-based OSes like Linux and Apple Mac OS X. Beyond the structural differences, e.g. (Windows starts with `C:\\` and unix machines start with `/`), Windows path slashes are also the opposite `\\` vs. `/`. Be prepared to teach both ways of writing paths, both for use on the command line and for working within Jupyter notebooks.\n",
    "\n",
    "### Aligning Versions\n",
    "Python comes in many versions, with Python 2 being significantly different from Python 3. To the extent possible, you will want to align all the Python versions of your participants. If they have an existing installation, updating could break existing dependencies and functionalities. At the same time, users should ideally have all the same packages and versions installed. This can be a maddening experience trying to reach parity for all users. XKCD has humorously created a [comic](https://xkcd.com/1987/) about this. (It may not be as funny when you experience it.)\n",
    "\n",
    "### Path Issues and Symbolic Links\n",
    "If you are working with a Windows machine, there is a good chance you will run into PATH issues. If you are working with a Mac OS X machine, then symbolic links can be a challenge. In either case, you will need to get the command line to recognize particular commands that may appear to be installed but are not functioning properly.\n",
    "\n",
    "For many users, their installations will be straightforward. For those installations that go sideways, those participants often give up before class has even started. When you get an installation going, be prepared to offer support in the future when something breaks on the user's machine."
   ]
  },
  {
   "cell_type": "markdown",
   "id": "2a98ab4c-66c7-4769-a86a-cb11d81b5091",
   "metadata": {},
   "source": [
    "## Teaching with GPU \n",
    "While Constellate is a great option for teaching, advanced classes in (generative) artificial intelligence and machine learning may require computing resources with GPU acceleration. There are a number of commercial platforms that offer this service, usually on a pay-for-compute basis. Here are some of them:\n",
    "\n",
    "* [Google Colab](https://colab.google/)- Free basic tier of GPU compute, with pay for use available in hourly, monthly, and yearly fees.\n",
    "* [🤗 Hugging Face](https://huggingface.co/)-  Pay for use based on hourly compute.\n",
    "* [Amazon Sagemaker](https://aws.amazon.com/sagemaker/)- Pay for use based on hourly compute."
   ]
  },
  {
   "cell_type": "markdown",
   "id": "3a3a140d-9cbb-4573-b610-caf796627f6c",
   "metadata": {},
   "source": [
    "## Get Files with a Download URL in Jupyter Lab\n",
    "Here are some example ways to retrieve files to a Jupyter environment. The files could be notebooks or data.\n",
    "\n",
    "### Use a filehost URL\n",
    "\n",
    "The files could be hosted using a filehosting service:\n",
    "\n",
    "* Amazon Web Services (AWS)\n",
    "* Google Drive\n",
    "* Dropbox\n",
    "* Box\n",
    "* Microsoft OneDrive\n",
    "\n",
    "### Use a GitHub URL\n",
    "\n",
    "GitHub is an excellent choice for saving and version-tracking lessons. It is not a good choice for serving data. GitHub has a file size limit of 50 MiB and blocks files larger than 100 MiB. You can get a direct link to a particular GitHub file by grabbing the raw link.\n",
    "\n",
    "![The raw data link for a notebook file in GitHub](../All-sample-files/github-raw-link.png)\n",
    "\n",
    "The URL should start with \"raw\", like:\n",
    "`https://raw.githubusercontent.com/ithaka/constellate-notebooks/master/tokenizers.ipynb`\n",
    "\n",
    "Then users can then use the URL to download to their environment. Here are some examples of how that could be done with code:"
   ]
  },
  {
   "cell_type": "code",
   "execution_count": 2,
   "id": "f266c45c-b0c4-42d1-9178-abdc447200fd",
   "metadata": {},
   "outputs": [
    {
     "name": "stdout",
     "output_type": "stream",
     "text": [
      "/bin/bash: wget: command not found\n"
     ]
    }
   ],
   "source": [
    "### Grab files with console `wget` ###\n",
    "!wget https://github.com/ithaka/constellate-notebooks/blob/master/All-sample-files/logoJSTOR.png"
   ]
  },
  {
   "cell_type": "code",
   "execution_count": null,
   "id": "6418055d-c921-4409-81af-35174af21cac",
   "metadata": {},
   "outputs": [],
   "source": [
    "### Grab a single file with urllib.request ###\n",
    "from pathlib import Path\n",
    "\n",
    "# Check if a data folder exists. If not, create it.\n",
    "data_folder = Path('./data/')\n",
    "data_folder.mkdir(exist_ok=True)\n",
    "\n",
    "urllib.request.urlretrieve('https://file.address.txt', './data/filename.txt')\n",
    "print('Files downloaded')"
   ]
  },
  {
   "cell_type": "markdown",
   "id": "c545eb83-4fb8-4876-8449-cb7a144dc673",
   "metadata": {},
   "source": [
    "## Get Files with Jupyter Lab Git Extension\n",
    "If your Jupyter environment has the [git extension](https://github.com/jupyterlab/jupyterlab-git), it is easy to push and pull data from GitHub. It is not required to have a GitHub account to clone a repository.\n",
    "\n",
    "![The git extension in the Constellate lab](../All-sample-files/git-extension-clone.png)"
   ]
  },
  {
   "cell_type": "markdown",
   "id": "a14d7a26",
   "metadata": {},
   "source": []
  }
 ],
 "metadata": {
  "kernelspec": {
   "display_name": "Python 3 (ipykernel)",
   "language": "python",
   "name": "python3"
  },
  "language_info": {
   "codemirror_mode": {
    "name": "ipython",
    "version": 3
   },
   "file_extension": ".py",
   "mimetype": "text/x-python",
   "name": "python",
   "nbconvert_exporter": "python",
   "pygments_lexer": "ipython3",
   "version": "3.11.4"
  }
 },
 "nbformat": 4,
 "nbformat_minor": 5
}

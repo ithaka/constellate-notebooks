{
 "cells": [
  {
   "cell_type": "markdown",
   "id": "3826bcf1",
   "metadata": {},
   "source": [
    "<img align=\"left\" src=\"https://ithaka-labs.s3.amazonaws.com/static-files/images/tdm/tdmdocs/CC_BY.png\"><br />\n",
    "\n",
    "Created by [Nathan Kelber](http://nkelber.com) for [JSTOR Labs](https://labs.jstor.org/) under [Creative Commons CC BY License](https://creativecommons.org/licenses/by/4.0/)<br />\n",
    "For questions/comments/improvements, email nathan.kelber@ithaka.org.<br />\n",
    "___"
   ]
  },
  {
   "cell_type": "markdown",
   "id": "71697c60",
   "metadata": {},
   "source": [
    "# Python Basics 4\n",
    "\n",
    "**Description:** \n",
    "This lesson describes the basics of writing your own functions including:\n",
    "\n",
    "* `def` statements\n",
    "* [Local scope](https://constellate.org/docs/key-terms/#local-scope)\n",
    "* [Global scope](https://constellate.org/docs/key-terms/#global-scope)\n",
    "\n",
    "This lesson concludes with a description of popular Python packages and directions for installing them in Constellate.\n",
    "\n",
    "This is part 4 of 5 in the series *Python Basics* that will prepare you to do text analysis using the [Python](https://constellate.org/docs/key-terms/#python) programming language.\n",
    "\n",
    "**Use Case:** For Learners (Detailed explanation, not ideal for researchers)\n",
    "\n",
    "**Difficulty:** Beginner\n",
    "\n",
    "**Completion Time:** 90 minutes\n",
    "\n",
    "**Knowledge Required:** \n",
    "* [Getting Started with Jupyter Notebooks](./getting-started-with-jupyter.ipynb)\n",
    "* [Python Basics 1](./python-basics-1.ipynb)\n",
    "* [Python Basics 2](./python-basics-2.ipynb)\n",
    "* [Python Basics 3](./python-basics-3.ipynb)\n",
    "\n",
    "**Knowledge Recommended:** None\n",
    "\n",
    "**Data Format:** None\n",
    "\n",
    "**Libraries Used:** \n",
    "`time` to put make the computer wait a few seconds\n",
    "`random` to generate random numbers\n",
    "\n",
    "**Research Pipeline:** None\n",
    "___"
   ]
  },
  {
   "cell_type": "markdown",
   "id": "697fe708",
   "metadata": {},
   "source": [
    "## Functions\n",
    "\n",
    "We have used several [Python](https://constellate.org/docs/key-terms/#python) [functions](https://constellate.org/docs/key-terms/#function) already, including `print()`, `input()`, and `range()`. You can identify a function by the fact that it ends with a set of parentheses `()` where [arguments](https://constellate.org/docs/key-terms/#argument) can be **passed** into the function. Depending on the [function](https://constellate.org/docs/key-terms/#function) (and your goals for using it), a [function](https://constellate.org/docs/key-terms/#function) may accept no [arguments](https://constellate.org/docs/key-terms/#argument), a single [argument](https://constellate.org/docs/key-terms/#argument), or many [arguments](https://constellate.org/docs/key-terms/#argument). For example, when we use the `print()` [function](https://constellate.org/docs/key-terms/#function), a [string](https://constellate.org/docs/key-terms/#string) (or a variable containing a [string](https://constellate.org/docs/key-terms/#string)) is passed as an [argument](https://constellate.org/docs/key-terms/#argument).\n",
    "\n",
    "[Functions](https://constellate.org/docs/key-terms/#function) are a convenient shorthand, like a mini-program, that makes our code more **modular**. We don't need to know all the details of how the `print()` [function](https://constellate.org/docs/key-terms/#function) works in order to use it. [Functions](https://constellate.org/docs/key-terms/#function) are sometimes called \"black boxes\", in that we can put an [argument](https://constellate.org/docs/key-terms/#argument) into the box and a **return value** comes out. We don't need to know the inner details of the \"black box\" to use it. (Of course, as you advance your programming skills, you may become curious about how certain [functions](https://constellate.org/docs/key-terms/#function) work. And if you work with sensitive data, you may *need* to peer in the black box to ensure the security and accuracy of the output.)\n",
    "\n",
    "### Libraries and Modules\n",
    "\n",
    "While [Python](https://constellate.org/docs/key-terms/#python) comes with many [functions](https://constellate.org/docs/key-terms/#function), there are thousands more that others have written. Adding them all to [Python](https://constellate.org/docs/key-terms/#python) would create mass confusion, since many people could use the same name for [functions](https://constellate.org/docs/key-terms/#function) that do different things. The solution then is that [functions](https://constellate.org/docs/key-terms/#function) are stored in [modules](https://constellate.org/docs/key-terms/#module) that can be **imported** for use. A [module](https://constellate.org/docs/key-terms/#module) is a [Python](https://constellate.org/docs/key-terms/#python) file (extension \".py\") that contains the definitions for the [functions](https://constellate.org/docs/key-terms/#function) written in [Python](https://constellate.org/docs/key-terms/#python). These [modules](https://constellate.org/docs/key-terms/#module) (individual [Python](https://constellate.org/docs/key-terms/#python) files) can then be collected into even larger groups called [packages](https://constellate.org/docs/key-terms/#package) and [libraries](https://constellate.org/docs/key-terms/#library). Depending on how many [functions](https://constellate.org/docs/key-terms/#function) you need for the program you are writing, you may import a single [module](https://constellate.org/docs/key-terms/#module), a [package](https://constellate.org/docs/key-terms/#package) of [modules](https://constellate.org/docs/key-terms/#module), or a whole [library](https://constellate.org/docs/key-terms/#library).\n",
    "\n",
    "The general form of importing a [module](https://constellate.org/docs/key-terms/#module) is:\n",
    "`import module_name`\n",
    "\n",
    "You may recall from the \"Getting Started with Jupyter Notebooks\" lesson, we imported the `time` [module](https://constellate.org/docs/key-terms/#module) and used the `sleep()` [function](https://constellate.org/docs/key-terms/#function) to wait 5 seconds."
   ]
  },
  {
   "cell_type": "code",
   "execution_count": null,
   "id": "00ad02a0",
   "metadata": {},
   "outputs": [],
   "source": [
    "# A program that waits five seconds then prints \"Done\"\n",
    "\n",
    "import time # We import all the functions in the `time` module\n",
    "\n",
    "print('Waiting 5 seconds...')\n",
    "time.sleep(5) # We run the sleep() function from the time module using `time.sleep()`\n",
    "print('Done')"
   ]
  },
  {
   "cell_type": "markdown",
   "id": "c9d4846c",
   "metadata": {},
   "source": [
    "We can also just import the `sleep()` [function](https://constellate.org/docs/key-terms/#function) without importing the whole `time` [module](https://constellate.org/docs/key-terms/#module). The syntax is:\n",
    "\n",
    "`from module import function`"
   ]
  },
  {
   "cell_type": "code",
   "execution_count": null,
   "id": "353cac6a",
   "metadata": {},
   "outputs": [],
   "source": [
    "# A program that waits five seconds then prints \"Done\"\n",
    "\n",
    "from time import sleep # We import just the sleep() function from the time module\n",
    "\n",
    "\n",
    "print('Waiting 5 seconds...')\n",
    "\n",
    "sleep(5) # Notice that we just call the sleep() function, not time.sleep()\n",
    "print('Done')"
   ]
  },
  {
   "cell_type": "markdown",
   "id": "589a12a4",
   "metadata": {},
   "source": [
    "## Writing a Function\n",
    "\n",
    "In the above examples, we **called** a [function](https://constellate.org/docs/key-terms/#function) that was already written. However, we can also create our own functions!\n",
    "\n",
    "The first step is to define the function before we call it. We use a **function definition statement** followed by a function description and a [code block](https://constellate.org/docs/key-terms/#code-block) containing the function's actions:\n",
    "\n",
    "`def my_function():` <br />\n",
    "&nbsp; &nbsp; &nbsp; &nbsp;`\"\"\"Description of what the functions does\"\"\"`<br />\n",
    "&nbsp; &nbsp; &nbsp; &nbsp;`python code to be executed`\n",
    "\n",
    "\n",
    "After the [function](https://constellate.org/docs/key-terms/#function) is defined, we can **call** on it to do us a favor whenever we need by simply executing the [function](https://constellate.org/docs/key-terms/#function) like so:\n",
    "\n",
    "`my_function()`\n",
    "\n",
    "After the function is defined, we can call it as many times as we want without having to rewrite its code. In the example below, we create a function called `complimenter_function` then call it twice."
   ]
  },
  {
   "cell_type": "code",
   "execution_count": null,
   "id": "c659fdeb",
   "metadata": {},
   "outputs": [],
   "source": [
    "# Create a complimenter function\n",
    "def complimenter_function():\n",
    "    \"\"\"prints a compliment\"\"\" # Function definition statement\n",
    "    print('You are looking great today!')"
   ]
  },
  {
   "cell_type": "markdown",
   "id": "82b8e059",
   "metadata": {},
   "source": [
    "After you define a function, don't forget to call it to make it do the work!"
   ]
  },
  {
   "cell_type": "code",
   "execution_count": null,
   "id": "f5853d2e",
   "metadata": {},
   "outputs": [],
   "source": [
    "# Give a compliment by calling the function\n",
    "complimenter_function()"
   ]
  },
  {
   "cell_type": "markdown",
   "id": "ce038c1c",
   "metadata": {},
   "source": [
    "Ideally, a function definition statement should specify the data that the function takes and whether it returns any data. The triple quote notation can use single or double quotes, and it allows the string for the definition statement to expand over multiple lines in Python. If you would like to see a function's definition statement, you can use the `help()` function to check it out."
   ]
  },
  {
   "cell_type": "code",
   "execution_count": null,
   "id": "6f62e946",
   "metadata": {},
   "outputs": [],
   "source": [
    "# Examining the function definition statement for our function\n",
    "# Note that the parentheses are not included with complimenter_function\n",
    "help(complimenter_function)"
   ]
  },
  {
   "cell_type": "code",
   "execution_count": null,
   "id": "534c1286",
   "metadata": {},
   "outputs": [],
   "source": [
    "# Try using help() to read the definition for the sleep function\n"
   ]
  },
  {
   "cell_type": "markdown",
   "id": "a39772ed",
   "metadata": {},
   "source": [
    "### Parameters vs. Arguments\n",
    "\n",
    "When we write a [function](https://constellate.org/docs/key-terms/#function) definition, we can define a [parameter](https://constellate.org/docs/key-terms/#parameter) to work with the [function](https://constellate.org/docs/key-terms/#function). We use the word [parameter](https://constellate.org/docs/key-terms/#parameter) to describe the [variable](https://constellate.org/docs/key-terms/#variable) in parentheses within a [function](https://constellate.org/docs/key-terms/#function) definition:\n",
    "\n",
    "`def my_function(input_variable):` <br />\n",
    "&nbsp; &nbsp; &nbsp; &nbsp;`do this task`\n",
    "\n",
    "In the pseudo-code above, `input_variable` is a [parameter](https://constellate.org/docs/key-terms/#parameter) because it is being used within the context of a [function](https://constellate.org/docs/key-terms/#function) *definition*. When we actually call and run our [function](https://constellate.org/docs/key-terms/#function), the actual [variable](https://constellate.org/docs/key-terms/#variable) or value we pass to the [function](https://constellate.org/docs/key-terms/#function) is called an [argument](https://constellate.org/docs/key-terms/#argument)."
   ]
  },
  {
   "cell_type": "code",
   "execution_count": null,
   "id": "94da95a0",
   "metadata": {},
   "outputs": [],
   "source": [
    "# Change the complimenter function to give user-dependent compliment\n",
    "def complimenter_function(user_name):\n",
    "    \"\"\"Takes in a name string, prints a compliment with the name\"\"\"\n",
    "    print(f'You are looking great today, {user_name}!')"
   ]
  },
  {
   "cell_type": "code",
   "execution_count": null,
   "id": "ed626493",
   "metadata": {},
   "outputs": [],
   "source": [
    "# Pass an argument to a function\n",
    "complimenter_function('Sam')"
   ]
  },
  {
   "cell_type": "markdown",
   "id": "d58135fb",
   "metadata": {},
   "source": [
    "In the above example, we passed a [string](https://constellate.org/docs/key-terms/#string) into our [function](https://constellate.org/docs/key-terms/#function), but we could also pass a [variable](https://constellate.org/docs/key-terms/#variable). Try this next. Since the `complimenter_function` has already been defined, you can call it in the next cell without defining it again."
   ]
  },
  {
   "cell_type": "code",
   "execution_count": null,
   "id": "be8ef139",
   "metadata": {},
   "outputs": [],
   "source": [
    "# Ask the user for their name and store it in a variable called name\n",
    "# Then call the complimenter_function and pass in the name variable\n",
    "\n"
   ]
  },
  {
   "cell_type": "markdown",
   "id": "e0a51d7c",
   "metadata": {},
   "source": [
    "A variable passed into a function could contain a [list](https://constellate.org/docs/key-terms/#list) or [dictionary](https://constellate.org/docs/key-terms/#dictionary)."
   ]
  },
  {
   "cell_type": "code",
   "execution_count": null,
   "id": "468bc093",
   "metadata": {},
   "outputs": [],
   "source": [
    "# A list of names\n",
    "list_of_names = ['Jenny', 'Pierre', 'Hamed']\n",
    "\n",
    "def greet_a_list(names):\n",
    "    \"\"\"takes a list of names and prints out a greeting for each name\"\"\"\n",
    "    for name in names:\n",
    "        print(f'Hi {name}!')\n",
    "\n",
    "greet_a_list(list_of_names)"
   ]
  },
  {
   "cell_type": "markdown",
   "id": "eb4f09f4",
   "metadata": {},
   "source": [
    "### The Importance of Avoiding Duplication\n",
    "\n",
    "Using [functions](https://constellate.org/docs/key-terms/#function) makes it easier for us to update our code. Let's say we wanted to change our compliment. We can simply change the [function](https://constellate.org/docs/key-terms/#function) definition one time to make the change everywhere. See if you can change the compliment given by our complimenter function."
   ]
  },
  {
   "cell_type": "code",
   "execution_count": null,
   "id": "9649e738",
   "metadata": {},
   "outputs": [],
   "source": [
    "# Create a complimenter function that gives compliment\n",
    "def complimenter_function(user_name):\n",
    "    \"\"\"Takes in a name string, prints a compliment with the name\"\"\"\n",
    "    print(f'You are looking great today, {user_name}!')"
   ]
  },
  {
   "cell_type": "code",
   "execution_count": null,
   "id": "78c9a90e",
   "metadata": {},
   "outputs": [],
   "source": [
    "# Give a new compliment by calling the function\n",
    "name = input('What is your name? ')\n",
    "complimenter_function(name)\n",
    "\n",
    "friend = input('Who is your friend? ')\n",
    "complimenter_function(friend)"
   ]
  },
  {
   "cell_type": "markdown",
   "id": "1d85c0b9",
   "metadata": {},
   "source": [
    "By changing our [function](https://constellate.org/docs/key-terms/#function) definition just one time, we were able to make our program behave differently every time it was called. If our program was large, it might call our custom function hundreds of times. If our code repeated like that, we would need to change it in every place!\n",
    "\n",
    "Generally, it is good practice to avoid duplicating program code to avoid having to change it in multiple places. When programmers edit their code, they may spend time **deduplicating** (getting rid of code that repeats). This makes the code easier to read and maintain."
   ]
  },
  {
   "cell_type": "markdown",
   "id": "26568407",
   "metadata": {},
   "source": [
    "___\n",
    "<h2 style=\"color:red; display:inline\">Coding Challenge! &lt; / &gt; </h2>\n",
    "\n",
    "**In the next cell, try writing a function that accepts a [dictionary](https://constellate.org/docs/key-terms/#dictionary) as an [argument](https://constellate.org/docs/key-terms/#argument). Use a flow control statement to print out all the names and occupations for the contacts.**\n",
    "___\n",
    "\n"
   ]
  },
  {
   "cell_type": "code",
   "execution_count": null,
   "id": "a3d16303",
   "metadata": {},
   "outputs": [],
   "source": [
    "# A dictionary of names and occupations\n",
    "contacts = {\n",
    " 'Amanda Bennett': 'Engineer, electrical',\n",
    " 'Bryan Miller': 'Radiation protection practitioner',\n",
    " 'Chris Garrison': 'Planning and development surveyor',\n",
    " 'Debra Allen': 'Intelligence analyst'}\n",
    "\n",
    "# Define and then call your function here\n",
    "\n"
   ]
  },
  {
   "cell_type": "markdown",
   "id": "21b93edb",
   "metadata": {},
   "source": [
    "### Function Return Values\n",
    "\n",
    "Whether or not a [function](https://constellate.org/docs/key-terms/#function) takes an [argument](https://constellate.org/docs/key-terms/#argument), it will always return a value. If we do not specify that return value in our [function](https://constellate.org/docs/key-terms/#function) definition, it is automatically set to `None`, a special value like the Boolean `True` and `False` that simply means null or nothing. (`None` is not the same thing as, say, the integer `0`.) We can also specify return values for our [function](https://constellate.org/docs/key-terms/#function) using a [flow control statement](https://constellate.org/docs/key-terms/#flow-control-statement) followed by `return` in a [code block](https://constellate.org/docs/key-terms/#code-block).\n",
    "\n",
    "Let's write a function for telling fortunes. We can call it `fortune_picker` and it will accept a number (1-6) then return a string for the fortune."
   ]
  },
  {
   "cell_type": "code",
   "execution_count": null,
   "id": "78d9baee",
   "metadata": {},
   "outputs": [],
   "source": [
    "# A fortune-teller program that contains a function `fortune_picker`\n",
    "# `fortune_picker` accepts an integer (1-6) and returns a fortune string\n",
    "\n",
    "def fortune_picker(fortune_number): # A function definition statement that has a parameter `fortune_number`\n",
    "    \"\"\"takes an integer (1-6) and returns a fortune string\"\"\"\n",
    "    if fortune_number == 1:\n",
    "        return 'You will have six children.'\n",
    "    elif fortune_number == 2:\n",
    "        return 'You will become very wise.'\n",
    "    elif  fortune_number == 3:\n",
    "        return 'A new friend will help you find yourself.'\n",
    "    elif fortune_number == 4:\n",
    "        return 'A great fortune is coming to you.'\n",
    "    elif fortune_number == 5:\n",
    "        return 'That promising venture... it is a trap.'\n",
    "    elif fortune_number == 6: \n",
    "        return 'Sort yourself out then find love.'\n",
    "\n",
    "fortune = fortune_picker(3) # return a fortune string and store it in fortune\n",
    "print(fortune)"
   ]
  },
  {
   "cell_type": "markdown",
   "id": "37895da8",
   "metadata": {},
   "source": [
    "If you don't write a `Return` statement in your function, a `None` value will be returned. "
   ]
  },
  {
   "cell_type": "code",
   "execution_count": null,
   "id": "4ec37309",
   "metadata": {},
   "outputs": [],
   "source": [
    "# Find out the returned value for the following function\n",
    "\n",
    "def complimenter_function():\n",
    "    \"\"\"prints a compliment\"\"\" # Function definition statement\n",
    "    print('You are looking great today!')"
   ]
  },
  {
   "cell_type": "markdown",
   "id": "67870781",
   "metadata": {},
   "source": [
    "In our example, we passed the [argument](https://constellate.org/docs/key-terms/#argument) `3` that returned the [string](https://constellate.org/docs/key-terms/#string) `'A new friend will help you find yourself'`. To change the fortune, we would have to pass a different [integer](https://constellate.org/docs/key-terms/#integer) into the [function](https://constellate.org/docs/key-terms/#function). To make our fortune-teller random, we could import the [function](https://constellate.org/docs/key-terms/#function) `randint()` that chooses a random number between two [integers](https://constellate.org/docs/key-terms/#integer). We pass the two [integers](https://constellate.org/docs/key-terms/#integer) as [arguments](https://constellate.org/docs/key-terms/#argument) separated by a comma."
   ]
  },
  {
   "cell_type": "code",
   "execution_count": null,
   "id": "eb7c1875",
   "metadata": {
    "execution": {
     "iopub.execute_input": "2023-03-02T20:49:03.130194Z",
     "iopub.status.busy": "2023-03-02T20:49:03.129706Z",
     "iopub.status.idle": "2023-03-02T20:49:03.144930Z",
     "shell.execute_reply": "2023-03-02T20:49:03.143993Z",
     "shell.execute_reply.started": "2023-03-02T20:49:03.130161Z"
    },
    "scrolled": true,
    "tags": []
   },
   "outputs": [],
   "source": [
    "# A fortune-teller program that uses a random integer\n",
    "\n",
    "from random import randint # import the randint() function from the random module\n",
    "\n",
    "def fortune_picker(fortune_number): # A function definition statement that has a parameter `fortune_number`\n",
    "    if fortune_number == 1:\n",
    "        return 'You will have six children.'\n",
    "    elif fortune_number == 2:\n",
    "        return 'You will become very wise.'\n",
    "    elif  fortune_number == 3:\n",
    "        return 'A new friend will help you find yourself.'\n",
    "    elif fortune_number == 4:\n",
    "        return 'A great fortune is coming to you.'\n",
    "    elif fortune_number == 5:\n",
    "        return 'That promising venture... it is a trap.'\n",
    "    elif fortune_number == 6: \n",
    "        return 'Sort yourself out then find love.'\n",
    "\n",
    "random_number = randint(1, 6) # Choose a random number between 1 and 6 and assign it to a new variable `random_number`\n",
    "fortune = fortune_picker(random_number) # Return a fortune string\n",
    "\n",
    "print('Your fortune is: ')\n",
    "print(fortune)"
   ]
  },
  {
   "cell_type": "code",
   "execution_count": null,
   "id": "811d7803-391e-44d1-acfd-e2137957c8db",
   "metadata": {
    "execution": {
     "iopub.execute_input": "2023-03-02T20:49:32.562032Z",
     "iopub.status.busy": "2023-03-02T20:49:32.561417Z",
     "iopub.status.idle": "2023-03-02T20:49:36.993124Z",
     "shell.execute_reply": "2023-03-02T20:49:36.990706Z",
     "shell.execute_reply.started": "2023-03-02T20:49:32.561987Z"
    },
    "tags": []
   },
   "outputs": [],
   "source": [
    "# Make the game iterative\n",
    "while True:\n",
    "    print('Would you like another fortune?')\n",
    "    repeat_fortune = input()\n",
    "    if repeat_fortune == 'yes' or repeat_fortune == 'Yes':\n",
    "        random_number = randint(1, 6) \n",
    "        print(fortune_picker(random_number))\n",
    "        continue\n",
    "    else:\n",
    "        print('I have no more fortunes to share.')\n",
    "        break"
   ]
  },
  {
   "cell_type": "markdown",
   "id": "e3e7ccae",
   "metadata": {},
   "source": [
    "___\n",
    "<h2 style=\"color:red; display:inline\">Coding Challenge! &lt; / &gt; </h2>\n",
    "\n",
    "**Try writing a function that accepts user inputting a name and returns the person's occupation. You can use the `.get()` method to retrieve the relevant occupation, such as:**\n",
    "\n",
    "`contacts.get('Amanda', 'No contact with that name')`\n",
    "\n",
    "**Remember, the second string will be returned if the name 'Amanda' is not in our dictionary.**\n",
    "___"
   ]
  },
  {
   "cell_type": "code",
   "execution_count": null,
   "id": "598ced7f",
   "metadata": {},
   "outputs": [],
   "source": [
    "# A program that returns the occupation when users supply a given name\n",
    "\n",
    "# A dictionary of names and occupations\n",
    "contacts = {\n",
    " 'Amanda': 'Engineer, electrical',\n",
    " 'Bryan': 'Radiation protection practitioner',\n",
    " 'Christopher': 'Planning and development surveyor',\n",
    " 'Debra': 'Intelligence analyst'}\n",
    "\n",
    "# The function definition and program\n"
   ]
  },
  {
   "cell_type": "markdown",
   "id": "09ceb9ce",
   "metadata": {},
   "source": [
    "### Local and Global Scope\n",
    "\n",
    "We have seen that [functions](https://constellate.org/docs/key-terms/#function) make maintaining code easier by avoiding duplication. One of the most dangerous areas for duplication is [variable](https://constellate.org/docs/key-terms/#variable) names. As programming projects become larger, the possibility that a [variable](https://constellate.org/docs/key-terms/#variable) will be re-used goes up. This can cause weird errors in our programs that are hard to track down. We can alleviate the problem of duplicate [variable](https://constellate.org/docs/key-terms/#variable) names through the concepts of [local scope](https://constellate.org/docs/key-terms/#local-scope) and [global scope](https://constellate.org/docs/key-terms/#global-scope).\n",
    "\n",
    "We use the phrase [local scope](https://constellate.org/docs/key-terms/#local-scope) to describe what happens within a [function](https://constellate.org/docs/key-terms/#function). The [local scope](https://constellate.org/docs/key-terms/#local-scope) of a [function](https://constellate.org/docs/key-terms/#function) may contain a [local variables](https://constellate.org/docs/key-terms/#local-variable), but once that [function](https://constellate.org/docs/key-terms/#function) has completed the [local variables](https://constellate.org/docs/key-terms/#local-variable) and their contents are erased.\n",
    "\n",
    "On the other hand, we can also create [global variables](https://constellate.org/docs/key-terms/#global-variable) that persist at the top-level of the program *and also* within the [local scope](https://constellate.org/docs/key-terms/#local-scope) of a [function](https://constellate.org/docs/key-terms/#function).\n",
    "\n",
    "* In the [global scope](https://constellate.org/docs/key-terms/#global-scope), [Python](https://constellate.org/docs/key-terms/#python) does not recognize any [local variable](https://constellate.org/docs/key-terms/#local-variable) from within the program's [functions](https://constellate.org/docs/key-terms/#function)\n",
    "* In the [local scope](https://constellate.org/docs/key-terms/#local-scope) of a [function](https://constellate.org/docs/key-terms/#function), [Python](https://constellate.org/docs/key-terms/#python) can recognize any [global variables](https://constellate.org/docs/key-terms/#global-variable)\n",
    "* It is possible for there to be a [global variable](https://constellate.org/docs/key-terms/#global-variable) and a [local variable](https://constellate.org/docs/key-terms/#local-variable) with the same name\n",
    "\n",
    "Ideally, [Python](https://constellate.org/docs/key-terms/#python) programs should limit the number of [global variables](https://constellate.org/docs/key-terms/#global-variable) and create most [variables](https://constellate.org/docs/key-terms/#variable) in a [local scope](https://constellate.org/docs/key-terms/#local-scope). This keeps confounding variables localized in functions where they are used and then discarded."
   ]
  },
  {
   "cell_type": "code",
   "execution_count": null,
   "id": "f355fd60",
   "metadata": {},
   "outputs": [],
   "source": [
    "# Demonstration of global variable being used in a local scope\n",
    "global_string = 'global'\n",
    "\n",
    "def print_strings():\n",
    "    print('We are in the local context:')\n",
    "    local_string = 'local'\n",
    "    print(global_string)\n",
    "    print(local_string)\n",
    "    \n",
    "print_strings()"
   ]
  },
  {
   "cell_type": "markdown",
   "id": "9994b91f",
   "metadata": {},
   "source": [
    "The code above defines a [global variable](https://constellate.org/docs/key-terms/#global-variable) `global_string` with the value of 'global'. A [function](https://constellate.org/docs/key-terms/#function), called `print_strings`, then defines a [local variable](https://constellate.org/docs/key-terms/#local-variable) `local_string` with a value of 'local'. When we call the `print_strings()` [function](https://constellate.org/docs/key-terms/#function), it prints the [local variable](https://constellate.org/docs/key-terms/#local-variable) and the [global variable](https://constellate.org/docs/key-terms/#global-variable). "
   ]
  },
  {
   "cell_type": "code",
   "execution_count": null,
   "id": "07150127",
   "metadata": {},
   "outputs": [],
   "source": [
    "# The function has closed, now the local string has been discarded\n",
    "# The program crashes when a local variable is used in a global scope\n",
    "print('We are now in the global context: ')\n",
    "print(global_string)\n",
    "print(local_string)"
   ]
  },
  {
   "cell_type": "markdown",
   "id": "6f37ff80",
   "metadata": {},
   "source": [
    "After the `print_strings()` [function](https://constellate.org/docs/key-terms/#function) completes, we try to print both variables in a [global scope](https://constellate.org/docs/key-terms/#global-scope). The program prints `global_string` but crashes when trying to print `local_string` in a [global scope](https://constellate.org/docs/key-terms/#global-scope).\n",
    "\n",
    "It's a good practice not to name a [local variable](https://constellate.org/docs/key-terms/#local-variable) the same thing as a [global variable](https://constellate.org/docs/key-terms/#global-variable). If we define a [variable](https://constellate.org/docs/key-terms/#variable) with the same name in a [local scope](https://constellate.org/docs/key-terms/#local-scope), it becomes a [local variable](https://constellate.org/docs/key-terms/#local-variable) within that scope. Once the [function](https://constellate.org/docs/key-terms/#function) is closed, the [global variable](https://constellate.org/docs/key-terms/#global-variable) retains its original value."
   ]
  },
  {
   "cell_type": "code",
   "execution_count": null,
   "id": "e1ed2293",
   "metadata": {},
   "outputs": [],
   "source": [
    "# A demonstration of global and local scope using the same variable name\n",
    "# print(string) returns two different results\n",
    "string = 'global'\n",
    "\n",
    "def share_strings():\n",
    "    string = 'local'\n",
    "    print(string)\n",
    "\n",
    "share_strings()"
   ]
  },
  {
   "cell_type": "code",
   "execution_count": null,
   "id": "7dd7e713",
   "metadata": {},
   "outputs": [],
   "source": [
    "# print the string variable in the global context\n",
    "print(string)"
   ]
  },
  {
   "cell_type": "markdown",
   "id": "fa5c1434",
   "metadata": {},
   "source": [
    "## Popular Python Packages\n",
    "\n",
    "[Modules](https://constellate.org/docs/key-terms/#module) containing functions for a similar type of task are often grouped together into a [package](https://constellate.org/docs/key-terms/#package). Here are some of the most popular packages used in Python:\n",
    "\n",
    "### Processing and cleaning data\n",
    "\n",
    "* [NumPy](https://numpy.org/) (num-pie)- Speeds up scientific analysis of very large amounts of data in arrays\n",
    "* [pandas](https://pandas.pydata.org/)- Completes data manipulation, particularly moving, cleaning, and improving data quality\n",
    "\n",
    "### Visualizing data\n",
    "* [matplotlib](https://matplotlib.org/)- Creates static, animated, and interactive visualizations. \n",
    "* [Seaborn](https://seaborn.pydata.org/)- An expansion of matplotlib that provides a \"high-level interface for drawing attractive and informative statistical graphics\n",
    "* [Plotly](https://plotly.com/)- Create graphs, analytics, and statistics visualizations\n",
    "* [Dash](https://plotly.com/dash/)- Create interactive web applications and dashboards\n",
    "\n",
    "### Text Analysis\n",
    "* [spaCy](https://spacy.io/)- Do text analysis on a large variety of languages\n",
    "* [gensim](https://radimrehurek.com/gensim/)- Do topic modeling\n",
    "* [NLTK](https://www.nltk.org/) (Natural Language Tool Kit)-  Access corpora and complete text analysis tasks like tokenization, stemming, tagging, parsing, and semantic reasoning\n",
    "\n",
    "### Artificial Intelligence and Machine Learning\n",
    "\n",
    "* [sci-kit-learn](https://scikit-learn.org/stable/)- Implement machine learning in areas such as classification, predictive analytics, regression, and clustering\n",
    "* [Keras](https://keras.io/)- Implement deep learning using neural networks\n",
    "* [TensorFlow](https://www.tensorflow.org/)- Implement machine learning with a particular focus on training and deep neural networks\n",
    "\n",
    "### Data Gathering\n",
    "\n",
    "* [Requests](https://requests.readthedocs.io/en/latest/)- An HTTP client that helps connect to websites and download files\n",
    "* [urllib3](https://urllib3.readthedocs.io/en/stable/)- Another HTTP client that helps connect to websites and download files\n",
    "* [Beautiful Soup](https://www.crummy.com/software/BeautifulSoup/bs4/doc/)- Pull data out of HTML or XML files, helpful for scraping information from websites\n",
    "* [Tweepy](https://www.tweepy.org/)- Access the Twitter API to gather Twitter data\n",
    "* [Scrapy](https://scrapy.org/)- Helps extract data from websites\n",
    "* [Praw](https://praw.readthedocs.io/en/stable/)- Access the Reddit API to gather Reddit data\n",
    "\n",
    "### Textual Digitization\n",
    "\n",
    "* [Tesseract](https://github.com/tesseract-ocr/tesseract)- Use optical character recognition to convert images into plaintext\n",
    "* [Pillow](https://pillow.readthedocs.io/en/stable/)- Read and manipulate images with Python\n",
    "\n",
    "Packages are generally installed by using [PyPI](https://pypi.org/), the official Python package index. As of April 2022, there are over 350,000 packages available."
   ]
  },
  {
   "cell_type": "markdown",
   "id": "fd3640ce",
   "metadata": {},
   "source": [
    "## Installing a Python Package in Constellate\n",
    "\n",
    "If you would like to install a package that is not in Constellate, we recommend using the pip installer with packages from the [Python Package Index](https://pypi.org/). In a code cell insert the following code:\n",
    "\n",
    "`!pip install package_name`\n",
    "\n",
    "for the relevant package you would like to install. The exclamation point indicates the line should be run as a terminal command. \n",
    "\n",
    "Refer to the package's documentation for guidance."
   ]
  },
  {
   "cell_type": "code",
   "execution_count": null,
   "id": "7d4872e9",
   "metadata": {},
   "outputs": [],
   "source": [
    "# Install Praw\n",
    "!pip install praw"
   ]
  },
  {
   "cell_type": "markdown",
   "id": "3201fa86",
   "metadata": {},
   "source": [
    "There are some packages that are pre-installed in Constellate. You can check out what they are in the github repository of Constellate project https://github.com/ithaka/tdm-notebooks/blob/master/requirements.txt."
   ]
  },
  {
   "cell_type": "markdown",
   "id": "d28f96a1",
   "metadata": {},
   "source": [
    "___\n",
    "## Lesson Complete\n",
    "\n",
    "Congratulations! You have completed *Python Basics 4*. There is one more lesson in *Python Basics*:\n",
    "\n",
    "* *Python Basics 5*\n",
    "\n",
    "### Start Next Lesson: [Python Basics 5](./python-basics-5.ipynb)\n",
    "\n",
    "### Exercise Solutions\n",
    "Here are a few solutions for exercises in this lesson.\n"
   ]
  },
  {
   "cell_type": "code",
   "execution_count": null,
   "id": "bb187c3e",
   "metadata": {},
   "outputs": [],
   "source": [
    "# A dictionary of names and occupations\n",
    "contacts = {\n",
    " 'Amanda Bennett': 'Engineer, electrical',\n",
    " 'Bryan Miller': 'Radiation protection practitioner',\n",
    " 'Chris Garrison': 'Planning and development surveyor',\n",
    " 'Debra Allen': 'Intelligence analyst'}\n",
    "\n",
    "# Define and then call your function here\n",
    "\n",
    "def print_contacts(contacts_names):\n",
    "    \"\"\"Prints out all the contacts in a contacts dictionary\"\"\"\n",
    "    for name, occupation in contacts.items():\n",
    "        print(name.ljust(15), '|', occupation)\n",
    "\n",
    "print_contacts(contacts)"
   ]
  },
  {
   "cell_type": "code",
   "execution_count": null,
   "id": "5a38505e",
   "metadata": {},
   "outputs": [],
   "source": [
    "# A dictionary of names and occupations\n",
    "contacts = {\n",
    " 'Amanda': 'Engineer, electrical',\n",
    " 'Bryan': 'Radiation protection practitioner',\n",
    " 'Christopher': 'Planning and development surveyor',\n",
    " 'Debra': 'Intelligence analyst'}\n",
    "\n",
    "\n",
    "def occupation_finder(name):\n",
    "    \"\"\"Allows a user to find the occupation of a particular contact\"\"\"\n",
    "    return contacts.get(name, 'No contact with that name')\n",
    "    \n",
    "while True:\n",
    "    print('Enter a name to look up an occupation (or enter quit):')\n",
    "    name = input()\n",
    "    if name == 'quit':\n",
    "        print('Shutting down..')\n",
    "        break\n",
    "    else:\n",
    "        print(occupation_finder(name))\n",
    "        continue"
   ]
  },
  {
   "cell_type": "code",
   "execution_count": null,
   "id": "3f49e6a1",
   "metadata": {
    "execution": {
     "iopub.execute_input": "2023-03-02T20:54:53.692967Z",
     "iopub.status.busy": "2023-03-02T20:54:53.692319Z",
     "iopub.status.idle": "2023-03-02T20:55:01.545692Z",
     "shell.execute_reply": "2023-03-02T20:55:01.544797Z",
     "shell.execute_reply.started": "2023-03-02T20:54:53.692934Z"
    },
    "tags": []
   },
   "outputs": [],
   "source": [
    "contacts = {\n",
    " 'Amanda': 'Engineer, electrical',\n",
    " 'Bryan': 'Radiation protection practitioner',\n",
    " 'Christopher': 'Planning and development surveyor',\n",
    " 'Debra': 'Intelligence analyst'}\n",
    "\n",
    "\n",
    "def occupation_finder(name):\n",
    "    \"\"\"Allows a user to find the occupation of a particular contact\"\"\"\n",
    "    return contacts.get(name, 'No contact with that name')\n",
    "    \n",
    "while True:\n",
    "    print('Enter a name to look up an occupation (or enter quit):')\n",
    "    name = input()\n",
    "    if name == 'quit':\n",
    "        print('Shutting down..')\n",
    "        break\n",
    "    else:\n",
    "        print(occupation_finder(name))"
   ]
  },
  {
   "cell_type": "code",
   "execution_count": null,
   "id": "06196448-9458-41f7-8efb-52ff63f8e3aa",
   "metadata": {},
   "outputs": [],
   "source": []
  }
 ],
 "metadata": {
  "kernelspec": {
   "display_name": "Python 3 (ipykernel)",
   "language": "python",
   "name": "python3"
  },
  "language_info": {
   "codemirror_mode": {
    "name": "ipython",
    "version": 3
   },
   "file_extension": ".py",
   "mimetype": "text/x-python",
   "name": "python",
   "nbconvert_exporter": "python",
   "pygments_lexer": "ipython3",
   "version": "3.10.7"
  },
  "toc": {
   "base_numbering": 1,
   "nav_menu": {},
   "number_sections": true,
   "sideBar": true,
   "skip_h1_title": true,
   "title_cell": "Table of Contents",
   "title_sidebar": "Contents",
   "toc_cell": false,
   "toc_position": {
    "height": "calc(100% - 180px)",
    "left": "10px",
    "top": "150px",
    "width": "165px"
   },
   "toc_section_display": true,
   "toc_window_display": false
  }
 },
 "nbformat": 4,
 "nbformat_minor": 5
}

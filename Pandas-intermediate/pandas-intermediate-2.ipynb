{
 "cells": [
  {
   "cell_type": "markdown",
   "id": "7d7200e9-79eb-4bbc-a603-d1ef1005ea7e",
   "metadata": {},
   "source": [
    "# Pandas Intermediate 2\n",
    "\n",
    "**Description:** This notebook describes how to:\n",
    "* Work with time series data in Pandas\n",
    "* Use `.plot()` to make different kinds of static charts\n",
    "\n",
    "**Use Case:** For Learners (Detailed explanation, not ideal for researchers)\n",
    "\n",
    "**Difficulty:** Intermediate\n",
    "\n",
    "**Knowledge Required:** \n",
    "* Python Basics ([Start Python Basics I](../Python-basics/python-basics-1.ipynb))\n",
    "* Pandas Basics ([Start Pandas Basics I](../Pandas-basics/pandas-basics-1.ipynb))\n",
    "\n",
    "**Knowledge Recommended:** \n",
    "* [Python Intermediate 2](../Python-intermediate/python-intermediate-2.ipynb)\n",
    "* [Python Intermediate 4](../Python-intermediate/python-intermediate-4.ipynb)\n",
    "\n",
    "**Completion Time:** 90 minutes\n",
    "\n",
    "**Data Format:** csv\n",
    "\n",
    "**Libraries Used:** Pandas\n",
    "\n",
    "**Research Pipeline:** None\n",
    "___"
   ]
  },
  {
   "cell_type": "code",
   "execution_count": null,
   "id": "0e52dab5-a7b4-41a0-9c4a-a6631ee7674d",
   "metadata": {
    "tags": []
   },
   "outputs": [],
   "source": [
    "# import Pandas, `as pd` allows us to shorten typing pandas to pd\n",
    "import pandas as pd"
   ]
  },
  {
   "cell_type": "markdown",
   "id": "16120cd1-a0b0-4158-ade1-b5b88a07c31c",
   "metadata": {},
   "source": [
    "## Times series data\n",
    "\n",
    "Time-series data is everywhere. You see it used in public health record, weather records and many other places. Pandas library provides a comprehensive framework for working with times, dates, and time-series data.\n",
    "\n",
    "In real life, we often find datasets where dates and times are stored as strings. "
   ]
  },
  {
   "cell_type": "code",
   "execution_count": null,
   "id": "d829022c-ba5e-4b87-86b6-b271c38e7738",
   "metadata": {
    "tags": []
   },
   "outputs": [],
   "source": [
    "from pathlib import Path\n",
    "\n",
    "# Check if a data folder exists. If not, create it.\n",
    "data_folder = Path('./data/')\n",
    "data_folder.mkdir(exist_ok=True)\n",
    "\n",
    "file = '../All-sample-files/Pandas1_failed_banks_since_2000.csv'\n",
    "\n",
    "# Read in the data\n",
    "banks_df = pd.read_csv(file)\n",
    "banks_df"
   ]
  },
  {
   "cell_type": "code",
   "execution_count": null,
   "id": "f01a9f6e-62de-4651-84ad-4db0814c79f7",
   "metadata": {
    "tags": []
   },
   "outputs": [],
   "source": [
    "# check the data type of the Closing Date column\n",
    "banks_df['Closing Date']"
   ]
  },
  {
   "cell_type": "markdown",
   "id": "96fe668e-ec0c-4291-8243-77894f124c71",
   "metadata": {},
   "source": [
    "As you can see, the dates in the `Closing Date` column are strings. We can convert the data type to `datetime` using the `to_datetime()` function in Pandas. The strings in this column will be turned into `datetime` objects. "
   ]
  },
  {
   "cell_type": "markdown",
   "id": "887ed9c2-0893-4f1e-93c9-885d8d08ae60",
   "metadata": {},
   "source": [
    "## The datetime objects"
   ]
  },
  {
   "cell_type": "code",
   "execution_count": null,
   "id": "03bf24e7-b9e8-4b01-80ce-8d05beb51765",
   "metadata": {
    "tags": []
   },
   "outputs": [],
   "source": [
    "# convert the strings to datetime\n",
    "banks_df['Closing Date'] = pd.to_datetime(banks_df['Closing Date'], format='%d-%b-%y')"
   ]
  },
  {
   "cell_type": "code",
   "execution_count": null,
   "id": "09232601-c0ee-45f5-a1f3-a352ac5bb17d",
   "metadata": {
    "tags": []
   },
   "outputs": [],
   "source": [
    "# check the data type of the Closing Date column\n",
    "banks_df['Closing Date']"
   ]
  },
  {
   "cell_type": "markdown",
   "id": "c9bc92d1-3aa5-457d-8776-46c59eb3138f",
   "metadata": {
    "execution": {
     "iopub.execute_input": "2023-07-25T02:46:51.141406Z",
     "iopub.status.busy": "2023-07-25T02:46:51.140719Z",
     "iopub.status.idle": "2023-07-25T02:46:51.163684Z",
     "shell.execute_reply": "2023-07-25T02:46:51.162983Z",
     "shell.execute_reply.started": "2023-07-25T02:46:51.141342Z"
    },
    "tags": []
   },
   "source": [
    "When we parse the strings in the `Closing Date` column into `datetime` objects, we specify a format to inform Pandas of how to do the parsing. For the cheatsheet of the format codes, you can check the documentation [here](https://docs.python.org/3/library/datetime.html#strftime-and-strptime-format-codes)."
   ]
  },
  {
   "cell_type": "markdown",
   "id": "49ace390-fed4-4936-86d4-930e352c1e89",
   "metadata": {},
   "source": [
    "One good thing about converting the dates and times into `datetime` objects is that we can then use them to index a dataframe. You will soon see that indexing using `datetime` objects is very flexible. "
   ]
  },
  {
   "cell_type": "code",
   "execution_count": null,
   "id": "f1806acd-cb95-4480-9274-6ec81efc9449",
   "metadata": {
    "tags": []
   },
   "outputs": [],
   "source": [
    "# set the index to Closing Date\n",
    "banks_df = banks_df.set_index('Closing Date').sort_index()"
   ]
  },
  {
   "cell_type": "code",
   "execution_count": null,
   "id": "cd43c7b0-2f22-4335-808b-b1410e688f32",
   "metadata": {
    "tags": []
   },
   "outputs": [],
   "source": [
    "# select data between two dates\n",
    "banks_df.loc['2020-01-01':'2023-07-01']"
   ]
  },
  {
   "cell_type": "markdown",
   "id": "fcfcbf0d-f3ab-45d5-9643-e187b56ba0e7",
   "metadata": {},
   "source": [
    "Providing the full form YYYY-MM-DD when selecting data from the dataframe is expected, as our indexes are in the format of YYYY-MM-DD. However, what makes `datetime` indexes really convenient is that we can do partial indexing with them!  "
   ]
  },
  {
   "cell_type": "code",
   "execution_count": null,
   "id": "6c731047-923d-4ef8-9521-5041d7edd84e",
   "metadata": {},
   "outputs": [],
   "source": [
    "# select data between two months\n",
    "banks_df.loc['2020-01':'2023-07']"
   ]
  },
  {
   "cell_type": "markdown",
   "id": "0d56fc38-1421-4ece-9760-2cec53df7bc0",
   "metadata": {},
   "source": [
    "As you can see, even if we do not provide the full forms, we do not get an error.  "
   ]
  },
  {
   "cell_type": "code",
   "execution_count": null,
   "id": "daa8aa80-98da-4a67-914c-c8f7ecb07fcc",
   "metadata": {
    "tags": []
   },
   "outputs": [],
   "source": [
    "# select data between two years\n",
    "banks_df.loc['2020':'2023']"
   ]
  },
  {
   "cell_type": "code",
   "execution_count": null,
   "id": "50b44f43-f3f4-4627-8168-2df3294f29c9",
   "metadata": {
    "tags": []
   },
   "outputs": [],
   "source": [
    "# reset the index for later use\n",
    "banks_df = banks_df.reset_index()"
   ]
  },
  {
   "cell_type": "markdown",
   "id": "888db0cc-1ee7-42ec-ace1-070b8fd5ea52",
   "metadata": {},
   "source": [
    "Note that this kind of partial indexing is impossible with other data types. Let's create a small dataframe to test what will happen if we use partial indexing with string dates.  "
   ]
  },
  {
   "cell_type": "code",
   "execution_count": null,
   "id": "2d665de5-5a05-4407-a01c-a3349c68aa9f",
   "metadata": {
    "tags": []
   },
   "outputs": [],
   "source": [
    "# create a df with a column of dates stored as strings\n",
    "date_str = pd.DataFrame({'Date':['2020-06-01', '2021-06-30'],\n",
    "                        'num_failed_banks':[1,2]})\n",
    "\n",
    "# set the index column to the Date column\n",
    "date_str = date_str.set_index('Date')\n",
    "\n",
    "# select data using partial indexing\n",
    "date_str.loc['2020']"
   ]
  },
  {
   "cell_type": "markdown",
   "id": "39e3dd14-99c4-411a-8cf5-f73ac4c31655",
   "metadata": {},
   "source": [
    "We got a key error! This is because '2020' is not one of the indexes and partial indexing with strings is impossible. If we supply '2020' as the index, Pandas will try to find the rows whose index is '2020', but there are no rows with this index in our small dataframe!"
   ]
  },
  {
   "cell_type": "markdown",
   "id": "ca911598-df5f-47f1-b9a6-2a664e479533",
   "metadata": {},
   "source": [
    "The `datetime` class has a variety of attributes that we can access. For example, we can access the 'year', 'month', and 'date' from the full form of a `datetime` object. "
   ]
  },
  {
   "cell_type": "code",
   "execution_count": null,
   "id": "45106cfe-e541-49c7-9732-b60527fbd916",
   "metadata": {
    "tags": []
   },
   "outputs": [],
   "source": [
    "# access the 'year' from datetime objects\n",
    "banks_df['Closing Date'].dt.year"
   ]
  },
  {
   "cell_type": "markdown",
   "id": "7b86991a-32fb-4c59-ba04-55f30a1a3852",
   "metadata": {},
   "source": [
    "The `datetime` class also has a variety of methods that we can use. For example, if we would like to get the day of week for each date in the `Closing Date` column, we can use the `day_name()` method."
   ]
  },
  {
   "cell_type": "code",
   "execution_count": null,
   "id": "382f800f-fe43-436a-bb37-6b551d991840",
   "metadata": {
    "tags": []
   },
   "outputs": [],
   "source": [
    "# access the day of week from datetime objects\n",
    "banks_df['Closing Date'].dt.day_name()"
   ]
  },
  {
   "cell_type": "markdown",
   "id": "4644bd9c-4bca-4d4e-8549-4cfb077f3959",
   "metadata": {},
   "source": [
    "The attributes and methods available in the `datetime` class make it extremely easy to extract the 'year', 'month' and 'date' into different columns.\n",
    "\n",
    "In the following code cell, can you write some code to create a new column that contains the closing years of the banks? In [Pandas basics 2](../Pandas-basics/pandas-basics-2.ipynb), we did it with string slicing, but this time let's try using the attributes of the `datetime` class to do it. "
   ]
  },
  {
   "cell_type": "code",
   "execution_count": null,
   "id": "f2041fcd-bfcf-46ac-bde1-1fd7351c141a",
   "metadata": {
    "tags": []
   },
   "outputs": [],
   "source": [
    "# create a new column containing the closing years\n"
   ]
  },
  {
   "cell_type": "markdown",
   "id": "dbedd8f9-191f-422d-936b-8704e12ff317",
   "metadata": {},
   "source": [
    "Grouping data using the `datetime` objects is also quite convenient. We can use the `resample()` method to specify the granularity with which we would like to group the data. "
   ]
  },
  {
   "cell_type": "code",
   "execution_count": null,
   "id": "4b8d4233-6b14-41c3-bd82-a2bcd9a80c66",
   "metadata": {
    "tags": []
   },
   "outputs": [],
   "source": [
    "# group the data using resample()\n",
    "banks_df.resample('Y', on='Closing Date').size()"
   ]
  },
  {
   "cell_type": "markdown",
   "id": "f8d56b9e-5b05-450f-907f-a2b9c23d31a0",
   "metadata": {},
   "source": [
    "With `resample()`, we can choose to upsample or downsample. "
   ]
  },
  {
   "cell_type": "code",
   "execution_count": null,
   "id": "51b69667-04ea-454c-a7cf-e61ecc554b6d",
   "metadata": {
    "tags": []
   },
   "outputs": [],
   "source": [
    "# downsample to month with smaller granularity\n",
    "banks_df.resample('M', on='Closing Date').size()"
   ]
  },
  {
   "cell_type": "code",
   "execution_count": null,
   "id": "1fe9c55c-7f17-4b0e-af52-f1f6d12bd8f9",
   "metadata": {
    "tags": []
   },
   "outputs": [],
   "source": [
    "# upsample to 12 hours with greater granularity\n",
    "banks_df.resample('12H', on='Closing Date').size()"
   ]
  },
  {
   "cell_type": "markdown",
   "id": "e4f662b9-cc7f-448f-849d-6654214e6e6a",
   "metadata": {},
   "source": [
    "In [Pandas intermediate 1](./pandas-intermediate-1.ipynb), you have learned how to group the data using `groupby()`. In the next code cell, can you use both `groupby()` and `resample()` to get how many banks were failed in each state by year?"
   ]
  },
  {
   "cell_type": "code",
   "execution_count": null,
   "id": "f72bbfc9-ef5a-4db7-915d-4b6df6be50f0",
   "metadata": {
    "tags": []
   },
   "outputs": [],
   "source": [
    "# get how many banks were failed in each state by year\n"
   ]
  },
  {
   "cell_type": "markdown",
   "id": "c1c51458-c04d-4831-8c05-96f2491a2e39",
   "metadata": {
    "execution": {
     "iopub.execute_input": "2023-07-25T14:22:02.457473Z",
     "iopub.status.busy": "2023-07-25T14:22:02.456788Z",
     "iopub.status.idle": "2023-07-25T14:22:02.478595Z",
     "shell.execute_reply": "2023-07-25T14:22:02.478114Z",
     "shell.execute_reply.started": "2023-07-25T14:22:02.457403Z"
    }
   },
   "source": [
    "### The timedelta objects"
   ]
  },
  {
   "cell_type": "markdown",
   "id": "4ffb4b81-ca62-479f-aa06-a3327ddec1ae",
   "metadata": {},
   "source": [
    "In Pandas, the difference between two time points is a `timedelta` object. In other words, while `datetime` objects are used to represent instants of time, `timedelta` objects are used to represent durations of time. \n",
    "\n",
    "When you substract one `datetime` object from another, you'll get a `timedelta` object."
   ]
  },
  {
   "cell_type": "code",
   "execution_count": null,
   "id": "f78423de-abde-4f60-9527-c6a73b2ad5df",
   "metadata": {
    "tags": []
   },
   "outputs": [],
   "source": [
    "# substract one time point from another \n",
    "pd.to_datetime('2020-06-01 12:00:00') - pd.to_datetime('2020-06-01 8:00:00')"
   ]
  },
  {
   "cell_type": "markdown",
   "id": "c8cd45c9-329b-4cd9-9f93-b83160833684",
   "metadata": {},
   "source": [
    "In the following, let's grab the 2022 Boston Marathon dataset and use the completion time of the runners as an example. "
   ]
  },
  {
   "cell_type": "code",
   "execution_count": null,
   "id": "647fb5a2-c833-460c-b025-f98d0ee8e286",
   "metadata": {
    "tags": []
   },
   "outputs": [],
   "source": [
    "# create a dataframe\n",
    "bm_22 = pd.read_csv('../All-sample-files/DataViz3_BostonMarathon2022.csv')\n",
    "\n",
    "# get the data type of the OfficialTime column\n",
    "bm_22['OfficialTime'].info()"
   ]
  },
  {
   "cell_type": "code",
   "execution_count": null,
   "id": "fd7aa2ca-c04e-4ccb-85ce-ccf49bba7d54",
   "metadata": {
    "tags": []
   },
   "outputs": [],
   "source": [
    "# turn the data type of the OfficialTime column to timedelta\n",
    "bm_22['OfficialTime'] = pd.to_timedelta(bm_22['OfficialTime'])"
   ]
  },
  {
   "cell_type": "code",
   "execution_count": null,
   "id": "50fb6c94-d94d-4e9f-ad35-9005730b1ef3",
   "metadata": {
    "tags": []
   },
   "outputs": [],
   "source": [
    "# get the difference in completion time between the \n",
    "# fastest runner and the slowest runner\n",
    "bm_22['OfficialTime'].max() - bm_22['OfficialTime'].min()"
   ]
  },
  {
   "cell_type": "markdown",
   "id": "889ad811-59a0-43b7-baf7-de67df3c4383",
   "metadata": {},
   "source": [
    "Just like the `datetime` objects, the `timedelta` objects also have a variety of attributes and methods that we can make use of. "
   ]
  },
  {
   "cell_type": "code",
   "execution_count": null,
   "id": "f3c52de3-667c-41e5-8a04-c49f7e45b4ee",
   "metadata": {
    "tags": []
   },
   "outputs": [],
   "source": [
    "# get the components of a timedelta object\n",
    "bm_22['OfficialTime'].dt.components"
   ]
  },
  {
   "cell_type": "code",
   "execution_count": null,
   "id": "a5bd263a-8c7e-4fe2-a859-eb5071797e4f",
   "metadata": {
    "tags": []
   },
   "outputs": [],
   "source": [
    "# Get the completion time in seconds\n",
    "bm_22['OfficialTime'].dt.total_seconds()"
   ]
  },
  {
   "cell_type": "markdown",
   "id": "1069bc0f-f416-4e06-a9fa-98b62cf4983b",
   "metadata": {
    "execution": {
     "iopub.execute_input": "2023-07-25T15:12:28.382717Z",
     "iopub.status.busy": "2023-07-25T15:12:28.382034Z",
     "iopub.status.idle": "2023-07-25T15:12:28.404289Z",
     "shell.execute_reply": "2023-07-25T15:12:28.403667Z",
     "shell.execute_reply.started": "2023-07-25T15:12:28.382654Z"
    }
   },
   "source": [
    "Suppose you would like to get the average completion time of the runners in the United States. How do you do that? "
   ]
  },
  {
   "cell_type": "code",
   "execution_count": null,
   "id": "9270a035-955f-48ce-8b24-7e78b3f2fc6e",
   "metadata": {
    "tags": []
   },
   "outputs": [],
   "source": [
    "# get the average completion time of the runners in the US\n"
   ]
  },
  {
   "cell_type": "markdown",
   "id": "3448028f-e0bb-4f9c-b42e-64699d0d93ce",
   "metadata": {},
   "source": [
    "## Plotting in Pandas\n",
    "\n",
    "Pandas uses the `.plot()` method to create charts and plots. In this section, we'll learn how to use the `.plot()` method to make different kinds of charts. "
   ]
  },
  {
   "cell_type": "markdown",
   "id": "3caf32a3-736e-44ba-9a21-7ae4215d4c62",
   "metadata": {},
   "source": [
    "### Scatterplot\n",
    "Scatter plots are usually used to show the relationship between different variables. Suppose we would like to see whether there is a relationship between the age of the runners and their completion time."
   ]
  },
  {
   "cell_type": "code",
   "execution_count": null,
   "id": "1a6a5ad8-a69d-41c5-b405-4c653c9f4f68",
   "metadata": {
    "tags": []
   },
   "outputs": [],
   "source": [
    "# prepare the data\n",
    "bm_22_sc = bm_22[['AgeOnRaceDay', 'OfficialTime']].copy()\n",
    "\n",
    "# make a scatter plot\n",
    "bm_22_sc.plot(kind='scatter', x='AgeOnRaceDay', y='OfficialTime')"
   ]
  },
  {
   "cell_type": "markdown",
   "id": "09ebca28-cf30-4e3e-9516-f1656d34cd7e",
   "metadata": {},
   "source": [
    "If the data are categorically grouped, you can slice the data into smaller data series and color them differently.  \n",
    "\n",
    "For example, suppose we are interested in the relationship between the age and the completion time of the runners from France. "
   ]
  },
  {
   "cell_type": "code",
   "execution_count": null,
   "id": "04d4e705-6e44-44cf-b3a2-69e4e82126a7",
   "metadata": {
    "tags": []
   },
   "outputs": [],
   "source": [
    "# prepare the data\n",
    "bm_22_sc_fm = bm_22.loc[bm_22['CountryOfResName']=='France'][['AgeOnRaceDay', 'OfficialTime', 'Gender']].copy()\n",
    "bm_22_sc_fm = bm_22_sc_fm.sort_values(by='Gender').reset_index(drop=True)\n",
    "\n",
    "# get the cutting point in the Gender column\n",
    "bm_22_sc_fm.loc[bm_22_sc_fm['Gender']=='F'].tail(1)"
   ]
  },
  {
   "cell_type": "code",
   "execution_count": null,
   "id": "3d922267-5e1c-4a9a-8797-08ed4972b894",
   "metadata": {
    "tags": []
   },
   "outputs": [],
   "source": [
    "# make a scatter plot\n",
    "ax1 = bm_22_sc_fm.loc[:42].plot(kind='scatter',\n",
    "                                   x='AgeOnRaceDay',\n",
    "                                   y='OfficialTime', \n",
    "                                   c='blue',label='F')\n",
    "\n",
    "ax2 = bm_22_sc_fm.loc[43:].plot(kind='scatter',\n",
    "                                   x='AgeOnRaceDay',\n",
    "                                   y='OfficialTime', \n",
    "                                   c='orange',label='M', ax=ax1)"
   ]
  },
  {
   "cell_type": "markdown",
   "id": "bb40d3b4-a979-4342-b171-5efff0e0b975",
   "metadata": {},
   "source": [
    "### Bar charts\n",
    "\n",
    "In [Pandas intermediate 1](./pandas-intermediate-1.ipynb), we have plotted a bar chart showing the number of failed banks by year in the failed banks dataset. In this section, let's plot more kinds of bar charts. Suppose we would like to get the top ten non-US countries with the most runners and plot the number of runners from them in a horizontal bar chart.   "
   ]
  },
  {
   "cell_type": "code",
   "execution_count": null,
   "id": "ca6ed9a2-afbb-48d3-8a12-acd13a74d021",
   "metadata": {
    "tags": []
   },
   "outputs": [],
   "source": [
    "# prepare the data\n",
    "bm_22_hbar = bm_22.groupby('CountryOfResName').size().sort_values().iloc[-11:-1]\n",
    "bm_22_hbar"
   ]
  },
  {
   "cell_type": "code",
   "execution_count": null,
   "id": "b1f22b98-dca4-4eb5-81b5-3a54e1959dbe",
   "metadata": {
    "tags": []
   },
   "outputs": [],
   "source": [
    "# make a horizontal bar chart\n",
    "bm_22_hbar.plot(kind='barh')"
   ]
  },
  {
   "cell_type": "markdown",
   "id": "84596f26-2e62-4134-b872-5cf3b7e4d0df",
   "metadata": {},
   "source": [
    "Now, suppose we would like to break the total number of runners in each country by gender and make a stacked bar chart instead."
   ]
  },
  {
   "cell_type": "code",
   "execution_count": null,
   "id": "48ac4fb2-2d2a-419b-9b46-43bfdcca2bd6",
   "metadata": {
    "tags": []
   },
   "outputs": [],
   "source": [
    "# prepare the data\n",
    "bm_22_sthbar = bm_22[['CountryOfResName', 'Gender']].copy()\n",
    "\n",
    "# get the names of the top 10 non-US countries with the most runners \n",
    "ctry = bm_22_sthbar.groupby('CountryOfResName').size().sort_values().iloc[-11:-1].index\n",
    "\n",
    "# restructure the df for plotting\n",
    "bm_22_sthbar = bm_22_sthbar.loc[bm_22_sthbar['CountryOfResName'].isin(ctry)].copy()\n",
    "bm_22_sthbar = bm_22_sthbar.groupby(['CountryOfResName', 'Gender']).size().to_frame().unstack()\n",
    "bm_22_sthbar.columns = bm_22_sthbar.columns.droplevel(0)\n",
    "bm_22_sthbar['sum'] = bm_22_sthbar['F'] + bm_22_sthbar['M'] \n",
    "bm_22_sthbar = bm_22_sthbar.sort_values(by='sum').drop(columns='sum')"
   ]
  },
  {
   "cell_type": "code",
   "execution_count": null,
   "id": "cb35ceb5-f7dc-4d14-b4b2-84fff8f4379b",
   "metadata": {
    "tags": []
   },
   "outputs": [],
   "source": [
    "# make the stacked horizontal bar chart\n",
    "bm_22_sthbar.plot(kind='barh', stacked=True)"
   ]
  },
  {
   "cell_type": "markdown",
   "id": "f05195f4-75e9-4ea6-b432-3dcfa7273e1e",
   "metadata": {},
   "source": [
    "<h2 style=\"color:red; display:inline\">Coding Challenge! &lt; / &gt; </h2>\n",
    "\n",
    "Can you plot another bar chart showing the number of female and male runners from the same ten countries but this time with the two bars for each country standing next to each other?"
   ]
  },
  {
   "cell_type": "code",
   "execution_count": null,
   "id": "e42e0a93-566c-4df7-81b8-e078e4da36f4",
   "metadata": {},
   "outputs": [],
   "source": [
    "# make a bar chart showing the number of female and male runners \n",
    "# of the top non-US countries with the most runners\n",
    "# with two bars for each country, one for female, one for male\n"
   ]
  },
  {
   "cell_type": "markdown",
   "id": "5e565ec4-9569-4cd1-8dc5-c29b4a610794",
   "metadata": {},
   "source": [
    "## Pie chart\n",
    "A pie chart is usually used to show how a total amount is divided between different levels of a categorical variable. In a pie chart, the levels of a categorical variable is represented by a slice of the pie.  \n",
    "\n",
    "Let's make a pie chart that shows how the total number of runners are divided between the completion time in hours. "
   ]
  },
  {
   "cell_type": "code",
   "execution_count": null,
   "id": "c5be1802-e50f-43c1-9519-e94df505fcaa",
   "metadata": {
    "tags": []
   },
   "outputs": [],
   "source": [
    "### prepare the data\n",
    "\n",
    "# get the column(s) of interest\n",
    "bm_22_pie = bm_22[['OfficialTime']].copy()\n",
    "\n",
    "# create a new column containing the hours\n",
    "bm_22_pie['Hour'] = bm_22_pie['OfficialTime'].dt.components['hours']\n",
    "\n",
    "# group the data by Hour and get how many runners there are in each subgroup\n",
    "bm_22_pie = bm_22_pie.groupby('Hour').size()\n",
    "\n",
    "# make the pie chart\n",
    "bm_22_pie.plot(kind='pie', labels=None, legend=True)"
   ]
  },
  {
   "cell_type": "markdown",
   "id": "fed48aae-000e-4d56-81f0-b61dbd4d7a38",
   "metadata": {},
   "source": [
    "### Histogram\n",
    "\n",
    "A histogram is a bar chart which shows the frequency of observations. In a histogram, the x-axis is a continuous quantitative value. The height of each bar shows the frequency of a certain range of values. The biggest difference between a bar chart and a histogram is that a bar chart has categorical values on the x-axis but a histogram has continuous quantitative values on the x-axis. \n",
    "\n",
    "Suppose we are interested in the distribution of the age of the runners in ranges of 10. How many runners were of age 20 - 29 at the time of race? How many were of age 30 - 39? Moreover, we would like to make a histogram that shows the distribution of age. Before we do that, can you take a guess which age group has the most runners?"
   ]
  },
  {
   "cell_type": "code",
   "execution_count": null,
   "id": "1cc15ca3-5644-44ad-8409-f13425c8fdbc",
   "metadata": {
    "tags": []
   },
   "outputs": [],
   "source": [
    "# get the youngest and oldest age\n",
    "print(bm_22['AgeOnRaceDay'].max())\n",
    "print(bm_22['AgeOnRaceDay'].min())"
   ]
  },
  {
   "cell_type": "code",
   "execution_count": null,
   "id": "cf53f320-df78-45b7-965a-0bd5b6c1ee39",
   "metadata": {
    "tags": []
   },
   "outputs": [],
   "source": [
    "# prepare the data for plotting\n",
    "bm_22_hist = bm_22['AgeOnRaceDay'].copy()\n",
    "\n",
    "# make a range of bins\n",
    "bins = range(10, 100, 10)\n",
    "\n",
    "bm_22_hist.plot(kind='hist', bins=bins, edgecolor='black', xlabel='Age',ylabel='Num_runners')"
   ]
  },
  {
   "cell_type": "markdown",
   "id": "b1a89b5d-a861-4b69-a273-7eebf1050a9a",
   "metadata": {},
   "source": [
    "In the next code cell, can you make a histogram that displays the distribution of the completion time of the runners in ranges of 1 hour? "
   ]
  },
  {
   "cell_type": "code",
   "execution_count": null,
   "id": "1d224d5b-9323-41ce-803b-0cd0b68320df",
   "metadata": {},
   "outputs": [],
   "source": [
    "# make a histogram displaying the distribution of \n",
    "# the completion time of the runners in ranges of 1 hour\n"
   ]
  },
  {
   "cell_type": "markdown",
   "id": "8ed4cbcf-8805-4b53-81ad-b4f9e84b0c1b",
   "metadata": {},
   "source": [
    "### Line graph\n",
    "\n",
    "A line graph consists of points connected by line segments. It is commonly used to demonstrate changes in value. Oftentimes, the horizontal axis holds \"time\" and the vertical axis shows the change in a value of interest.\n",
    "\n",
    "In [Pandas intermediate 1](./pandas-intermediate-1.ipynb), we made a bar chart to display the number of failed banks by year. Let's make a line graph to show the change in the number over the years in that dataset. "
   ]
  },
  {
   "cell_type": "code",
   "execution_count": null,
   "id": "24f64cf2-3d5f-4b0d-b830-c494305699ef",
   "metadata": {
    "tags": []
   },
   "outputs": [],
   "source": [
    "### prepare the data for plotting\n",
    "\n",
    "# get the column(s) of interest\n",
    "banks_line = banks_df[['Closing Date']].copy()\n",
    "\n",
    "# create a new column containing the years\n",
    "banks_line['Year'] = banks_line['Closing Date'].dt.year.astype(str)\n",
    "\n",
    "# group the data by year and get how many banks failed in each year\n",
    "banks_line = banks_line.groupby('Year').size()\n",
    "\n",
    "# plot the line graph\n",
    "banks_line.plot(xlabel='Year')"
   ]
  },
  {
   "cell_type": "markdown",
   "id": "fef7e90b-5465-4bcd-abed-3be2d92e2a15",
   "metadata": {},
   "source": [
    "___\n",
    "## Lesson Complete\n",
    "\n",
    "Congratulations! You have completed *Pandas Intermediate 2*.\n",
    "\n",
    "### Start Next Lesson: [Pandas intermediate 3 ->](./pandas-intermediate-3.ipynb)\n",
    "\n",
    "### Exercise Solutions\n",
    "Here are a few solutions for exercises in this lesson."
   ]
  },
  {
   "cell_type": "code",
   "execution_count": null,
   "id": "714cdcba-7350-4d1f-af32-47a897721745",
   "metadata": {
    "tags": []
   },
   "outputs": [],
   "source": [
    "# get how many banks were failed in each state by year\n",
    "banks_df.groupby('State').resample('Y', on='Closing Date').size()"
   ]
  },
  {
   "cell_type": "code",
   "execution_count": null,
   "id": "8b7b2ca5-6c05-44c4-93ef-f2c58ee552ac",
   "metadata": {
    "tags": []
   },
   "outputs": [],
   "source": [
    "# create a dataframe\n",
    "bm_22 = pd.read_csv('../All-sample-files/DataViz3_BostonMarathon2022.csv')\n",
    "\n",
    "# turn the 'OfficialTime' column to type timedelta\n",
    "bm_22['OfficialTime'] = pd.to_timedelta(bm_22['OfficialTime'])\n",
    "\n",
    "# get the average completion time of the runners in the US\n",
    "bm_22.loc[bm_22['CountryOfResName']=='United States of America']['OfficialTime'].mean()"
   ]
  },
  {
   "cell_type": "code",
   "execution_count": null,
   "id": "105daa4d-8fc1-4311-9daa-890503ffab59",
   "metadata": {
    "tags": []
   },
   "outputs": [],
   "source": [
    "## create a bar chart with two bard next to each other for each country\n",
    "# prepare the data\n",
    "bm_22_bar_fm = bm_22[['CountryOfResName', 'Gender']].copy()\n",
    "\n",
    "# get the names of the top 10 non-US countries with the most runners \n",
    "ctry = bm_22_bar_fm.groupby('CountryOfResName').size().sort_values().iloc[-11:-1].index\n",
    "\n",
    "# restructure the df for plotting\n",
    "bm_22_bar_fm = bm_22_bar_fm.loc[bm_22_bar_fm['CountryOfResName'].isin(ctry)].copy()\n",
    "bm_22_bar_fm = bm_22_bar_fm.groupby(['CountryOfResName', 'Gender']).size().to_frame().unstack()\n",
    "bm_22_bar_fm.columns = bm_22_bar_fm.columns.droplevel(0)\n",
    "\n",
    "# plot the bar chart\n",
    "bm_22_bar_fm.plot(kind='bar')"
   ]
  },
  {
   "cell_type": "code",
   "execution_count": null,
   "id": "883f946c-7e58-4f59-80ab-4f5109a9bf50",
   "metadata": {
    "tags": []
   },
   "outputs": [],
   "source": [
    "### make a histogram showing the distribution of completion time \n",
    "### in ranges of 1 hour\n",
    "\n",
    "# create a dataframe\n",
    "bm_22 = pd.read_csv('../All-sample-files/DataViz3_BostonMarathon2022.csv')\n",
    "\n",
    "# get the column of interest\n",
    "bm_22_time = bm_22[['OfficialTime']].copy()\n",
    "\n",
    "# make a new column containing the hour only\n",
    "bm_22_time['Hour'] = bm_22_time['OfficialTime'].str[0].astype(int)\n",
    "\n",
    "# get the max and min value from OfficialTime\n",
    "min_h = bm_22_time['Hour'].min()\n",
    "max_h = bm_22_time['Hour'].max()\n",
    "\n",
    "# make the bins\n",
    "bins = range(min_h, max_h+2)\n",
    "\n",
    "# plot the histogram\n",
    "bm_22_time['Hour'].plot(kind='hist', logy=True, bins=bins, edgecolor='black', ylabel='Num_runners')"
   ]
  },
  {
   "cell_type": "code",
   "execution_count": null,
   "id": "add194c6-17ab-4bff-8a43-ca0608267b3c",
   "metadata": {},
   "outputs": [],
   "source": []
  }
 ],
 "metadata": {
  "kernelspec": {
   "display_name": "Python 3 (ipykernel)",
   "language": "python",
   "name": "python3"
  },
  "language_info": {
   "codemirror_mode": {
    "name": "ipython",
    "version": 3
   },
   "file_extension": ".py",
   "mimetype": "text/x-python",
   "name": "python",
   "nbconvert_exporter": "python",
   "pygments_lexer": "ipython3",
   "version": "3.11.9"
  }
 },
 "nbformat": 4,
 "nbformat_minor": 5
}

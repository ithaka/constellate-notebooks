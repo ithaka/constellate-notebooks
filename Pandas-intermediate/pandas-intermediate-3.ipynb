{
 "cells": [
  {
   "cell_type": "markdown",
   "id": "f5fce035-f1e6-4ba8-b4c4-696c48aa4ec5",
   "metadata": {},
   "source": [
    "# Pandas Intermediate 3\n",
    "\n",
    "**Description:** This notebook discusses:\n",
    "* How to use the backend Plotly to make an interactive chart\n",
    "* The entire pipeline from data cleaning and manipulation, data summary to plotting in Pandas \n",
    "\n",
    "**Use Case:** For Learners (Detailed explanation, not ideal for researchers)\n",
    "\n",
    "**Difficulty:** Intermediate\n",
    "\n",
    "**Knowledge Required:** \n",
    "* Python Basics ([Start Python Basics I](../Python-basics/python-basics-1.ipynb))\n",
    "* Pandas Basics ([Start Pandas Basics I](../Pandas-basics/pandas-basics-1.ipynb))\n",
    "\n",
    "**Knowledge Recommended:** \n",
    "* [Python Intermediate 2](../Python-intermediate/python-intermediate-2.ipynb)\n",
    "* [Python Intermediate 4](../Python-intermediate/python-intermediate-4.ipynb)\n",
    "\n",
    "**Completion Time:** 90 minutes\n",
    "\n",
    "**Data Format:** csv\n",
    "\n",
    "**Libraries Used:** Pandas\n",
    "\n",
    "**Research Pipeline:** None\n",
    "___"
   ]
  },
  {
   "cell_type": "code",
   "execution_count": null,
   "id": "986da47f-907d-44d8-9ceb-29c2feccb7c1",
   "metadata": {},
   "outputs": [],
   "source": [
    "import subprocess\n",
    "import sys\n",
    "\n",
    "def install(package):\n",
    "    subprocess.check_call([sys.executable, \"-m\", \"pip\", \"install\", package])\n",
    "\n",
    "# Install your specific packages\n",
    "packages = [\n",
    "    'beautifulsoup4==4.12.2',\n",
    "    'click==8.1.3',\n",
    "    'gensim==4.3.1',\n",
    "    'ipympl==0.9.3',\n",
    "    'jupyter-ai==2.19.1',\n",
    "    'jupyter-ai-magics==2.19.0',\n",
    "    'jupyterlab-git==0.50.0',\n",
    "    'matplotlib==3.8.4',\n",
    "    'numpy>=1.16',\n",
    "    'nltk==3.9.1',\n",
    "    'openai==1.51.0',\n",
    "    'pandas>=2.0.3',\n",
    "    'pillow==10.3.0',\n",
    "    'pyarrow==14.0.1',\n",
    "    'pyldavis==3.4.1',\n",
    "    'pytesseract==0.3.10',\n",
    "    'regex==2023.6.3',\n",
    "    'requests==2.32.3',\n",
    "    'scikit-learn==1.5.1',\n",
    "    'scipy==1.11.1',\n",
    "    'seaborn==0.12.2',\n",
    "    'spacy==3.5.4',\n",
    "    'urllib3==2.2.2',\n",
    "    'vadersentiment==3.3.2',\n",
    "    'wordcloud==1.9.2',\n",
    "    'zipp==3.19.2',\n",
    "    'openpyxl'\n",
    "]\n",
    "\n",
    "for package in packages:\n",
    "    install(package)\n",
    "\n",
    "# Additional setup for specific packages that need extra data/models\n",
    "print(\"Setting up additional package data...\")\n",
    "\n",
    "# NLTK data downloads\n",
    "try:\n",
    "    import nltk\n",
    "    nltk.download('punkt', quiet=True)\n",
    "    nltk.download('stopwords', quiet=True)\n",
    "    nltk.download('vader_lexicon', quiet=True)\n",
    "    nltk.download('wordnet', quiet=True)\n",
    "    nltk.download('omw-1.4', quiet=True)\n",
    "    print(\"✓ NLTK data downloaded\")\n",
    "except Exception as e:\n",
    "    print(f\"⚠ NLTK setup issue: {e}\")\n",
    "\n",
    "print(\"Package installation and setup complete!\")"
   ]
  },
  {
   "cell_type": "code",
   "execution_count": null,
   "id": "2326cad3-58d5-483a-bdfe-cd38cfc89363",
   "metadata": {},
   "outputs": [],
   "source": [
    "# download plotly\n",
    "!pip install plotly\n",
    "\n",
    "# make sure that the plots are rendered properly\n",
    "import plotly.io as pio\n",
    "pio.renderers.default = \"iframe\" "
   ]
  },
  {
   "cell_type": "code",
   "execution_count": null,
   "id": "f8f28687-6e3e-4531-aa55-7dca796bba0a",
   "metadata": {
    "tags": []
   },
   "outputs": [],
   "source": [
    "# import Pandas \n",
    "import pandas as pd"
   ]
  },
  {
   "cell_type": "code",
   "execution_count": null,
   "id": "f27074c1-df0e-4447-b5ce-73861432ede1",
   "metadata": {
    "tags": []
   },
   "outputs": [],
   "source": [
    "# choose Plotly as the backend for plotting\n",
    "pd.options.plotting.backend='plotly'"
   ]
  },
  {
   "cell_type": "code",
   "execution_count": null,
   "id": "a47b49f7-f888-4efa-ac7b-e99d6fb234da",
   "metadata": {},
   "outputs": [],
   "source": [
    "# import the graph_objects module from plotly\n",
    "import plotly.graph_objects as go "
   ]
  },
  {
   "cell_type": "markdown",
   "id": "f9dc08dc-b148-4385-8a60-8ae3f7914e63",
   "metadata": {},
   "source": [
    "## Interactive charts\n",
    "\n",
    "Interactive charts can effectively tell a story. They also allow the audience to explore the information in a gradual and interactive way. The process of exploration is also a knowledge-building process for the audience. \n",
    "\n",
    "In this section, we are going to make an interactive line graph. \n",
    "\n",
    "As discussed in [Pandas intermediate 2](./pandas-intermediate-2.ipynb), a line graph is usually used to show the change in a value of interest over time. Suppose we are interested in the change of the median of the rent of a 1-bedroom apartment from 2019 - 2023 in the different areas of the state of Massachusetts. "
   ]
  },
  {
   "cell_type": "code",
   "execution_count": null,
   "id": "1b750624-7ff3-4e1c-8a9a-f7026b6694fa",
   "metadata": {
    "tags": []
   },
   "outputs": [],
   "source": [
    "# read data into a df\n",
    "ma_rent = pd.read_csv('../All-sample-files/PandasIntermediate3_ma_rent_1b_median.csv')\n",
    "\n",
    "# take a look at the df\n",
    "ma_rent"
   ]
  },
  {
   "cell_type": "code",
   "execution_count": null,
   "id": "78f431a8-23bf-4fd4-9f32-b4117f5fa899",
   "metadata": {},
   "outputs": [],
   "source": [
    "### explore the data\n",
    "# what is the min rent over the years\n",
    "print(ma_rent.min())\n",
    "\n",
    "# what is the max rent over the years\n",
    "print(ma_rent.max())"
   ]
  },
  {
   "cell_type": "markdown",
   "id": "acde9c99-afb9-4b16-a6a0-5a8ddfd40468",
   "metadata": {},
   "source": [
    "How would we want to make an interactive line graph? One possibility is that we can make a dropdown menu of the different areas of MA. Depending on which area in MA the user selects, a line graph showing the change in the median rent of a 1-bedroom apartment in that area will be displayed. We can also put a line representing the state median rent on the graph as a benchmark. "
   ]
  },
  {
   "cell_type": "code",
   "execution_count": null,
   "id": "69e29f20-472f-4265-809c-04561e63685a",
   "metadata": {
    "tags": []
   },
   "outputs": [],
   "source": [
    "### make a figure with appropriate y axies range\n",
    "fig = go.Figure(layout_yaxis_range=[700,2500])"
   ]
  },
  {
   "cell_type": "code",
   "execution_count": null,
   "id": "e2631eea-c96b-4033-b4ba-2bc958043fc9",
   "metadata": {
    "tags": []
   },
   "outputs": [],
   "source": [
    "### make the dropdown menu\n",
    "buttons = []\n",
    "x_val = ['2019', '2020', '2021', '2022', '2023'] # specify the x values\n",
    "for row in ma_rent.index[1:]: # loop through all rows except the state median row\n",
    "    buttons.append(dict(\n",
    "                        label=ma_rent.loc[row,'areaname'], # get the area name\n",
    "                        method='update', # specify how we will modify the chart when clicking on a button \n",
    "                        visible=True, # specify that data points will be shown\n",
    "                        args=[{'y': [ma_rent.iloc[0,1:], ma_rent.iloc[row,1:]], # y values for the two lines\n",
    "                               'x': [x_val,x_val], # x values for the two lines\n",
    "                               'name':['State Median', ma_rent.loc[row,'areaname']] # names for the two lines\n",
    "                               }\n",
    "                             ]\n",
    "                        )\n",
    "                  )"
   ]
  },
  {
   "cell_type": "code",
   "execution_count": null,
   "id": "34d32510-000c-4a9e-a0f2-d22a757ac669",
   "metadata": {
    "tags": []
   },
   "outputs": [],
   "source": [
    "### Draw the line graph users see initially\n",
    "\n",
    "# draw the line for state median\n",
    "fig.add_trace(go.Scatter(x=x_val,\n",
    "                         y=ma_rent.iloc[0,1:],\n",
    "                         name='State Median',\n",
    "                         line=dict(color=\"darkgreen\", dash=\"dash\"))\n",
    "             )\n",
    "\n",
    "# draw the line for Barstable Town\n",
    "fig.add_trace(go.Scatter(x=x_val,\n",
    "                         y=ma_rent.iloc[1,1:],\n",
    "                         name='Barnstable Town',\n",
    "                         line=dict(color=\"blue\", dash=\"dashdot\"))\n",
    "             )"
   ]
  },
  {
   "cell_type": "markdown",
   "id": "bd775f1a-f05f-48fd-845c-c6c3f672b2dd",
   "metadata": {},
   "source": [
    "This is the line graph the users see when they have not selected any area from the dropdown buttons. We haven't put the dropdown buttons on the graph yet. Let's do that. "
   ]
  },
  {
   "cell_type": "code",
   "execution_count": null,
   "id": "f89ef214-1ccf-4708-adb3-8afa5d2a3991",
   "metadata": {
    "tags": []
   },
   "outputs": [],
   "source": [
    "# add the dropdown menu to the graph\n",
    "fig.update_layout(\n",
    "    updatemenus=[\n",
    "        dict(\n",
    "            active=0, #button with index 0 is active\n",
    "            buttons=buttons, # add the buttons\n",
    "            direction=\"down\", # specify that it is a dropdown menu\n",
    "            x=0.3,  # specify the position of the buttons along the x axis\n",
    "            xanchor=\"left\", \n",
    "            y=1.2, # specify the position of the buttons along the y axis\n",
    "            yanchor=\"top\",\n",
    "            )            \n",
    "            ],\n",
    "    legend=\n",
    "        dict(\n",
    "            yanchor=\"top\", \n",
    "            y=-0.1, # specify the position of the legend along the y axis\n",
    "            xanchor=\"left\",\n",
    "            x=0.2, # specify the position of the legend along the x axis\n",
    "            orientation='h'\n",
    "            )\n",
    "            )"
   ]
  },
  {
   "cell_type": "markdown",
   "id": "04b1efee-9b81-4da3-b9bd-31e86cd11867",
   "metadata": {},
   "source": [
    "## Put everything together in a mock project\n",
    "\n",
    "From [Pandas basics 1](../Pandas-basics/pandas-basics-1.ipynb) to [Pandas intermediate 3](./pandas-intermediate-3.ipynb), you have learned how to do data cleaning and manipulation, how to summarize data and how to plot the data. In this section, you'll do a small mock project that puts everything together.\n",
    "\n",
    "Suppose you are assigned the following task: for the 10 non-US countries with the most runners in the 2019 Boston Marathon, you need to make an interactive bar chart showing the number of female and male runners from these 10 countries from 2017 Boston Marathon to 2019 Boston Marathon.  "
   ]
  },
  {
   "cell_type": "markdown",
   "id": "dc2464f3-257a-4084-a335-fb7ae6aac44c",
   "metadata": {},
   "source": [
    "To make the desired interactive bar chart, we'll need to get the number of female and the male runners from the 10 non-US countries with the most runners in 2019 Boston Marathon by year. This means, we will need to extract the relevant data and summarize it in the following way.\n",
    "\n",
    "<left><img src=\"https://ithaka-labs.s3.amazonaws.com/static-files/images/tdm/tdmdocs/PandasIntermediate3_datasummary.png\" width=\"400\"></left>\n",
    "\n"
   ]
  },
  {
   "cell_type": "markdown",
   "id": "02dba8af-866b-4e96-9dd0-bf4629df26c8",
   "metadata": {},
   "source": [
    "### Data cleaning and manipulation\n",
    "\n",
    "Let's first get all the data from the files that are relevant for us in this mock project."
   ]
  },
  {
   "cell_type": "code",
   "execution_count": null,
   "id": "1cfeffa9-9a4e-4a7c-bcba-17e96bb20cff",
   "metadata": {
    "tags": []
   },
   "outputs": [],
   "source": [
    "### read the data into dfs (code example in pandas basics 1)\n",
    "# read the data into dfs\n",
    "bm_17 = pd.read_csv('../All-sample-files/DataViz3_BostonMarathon2017.csv')\n",
    "bm_18 = pd.read_csv('../All-sample-files/DataViz3_BostonMarathon2018.csv')\n",
    "bm_19 = pd.read_csv('../All-sample-files/DataViz3_BostonMarathon2019.csv')"
   ]
  },
  {
   "cell_type": "code",
   "execution_count": null,
   "id": "71ce15bf-1e75-4fdf-a74e-6ad7078b89af",
   "metadata": {},
   "outputs": [],
   "source": [
    "### explore the data to get a general idea (code example in pandas basics 1)\n"
   ]
  },
  {
   "cell_type": "code",
   "execution_count": null,
   "id": "4cc0a678-d607-4be0-bf1d-a20ac15cf1f2",
   "metadata": {},
   "outputs": [],
   "source": [
    "### get the 10 non-US countries with the most runners \n",
    "### in bm_19 (code example in pandas basics 2)\n",
    "\n",
    "\n",
    "### reduce bm_19 to columns and rows of interest, \n",
    "### create a new column 'year' (code example in pandas basics 1 and 2, intermediate 2)\n",
    "\n"
   ]
  },
  {
   "cell_type": "code",
   "execution_count": null,
   "id": "3e7ee20e-568b-4c43-a0c3-ce481a45445c",
   "metadata": {},
   "outputs": [],
   "source": [
    "### reduce bm_17 and bm_18 to columns and rows of interest\n",
    "### create a new column 'year'(code example in pandas basics 1 and 2, intermediate 2)\n"
   ]
  },
  {
   "cell_type": "code",
   "execution_count": null,
   "id": "f56832b4-7261-48ab-a443-7aca6a643dec",
   "metadata": {},
   "outputs": [],
   "source": [
    "### concatenate the three reduced dfs(code example in pandas basics 3)\n"
   ]
  },
  {
   "cell_type": "markdown",
   "id": "589df83b-e163-4a6b-b4d7-41c890e1ccc0",
   "metadata": {},
   "source": [
    "### Data summary\n",
    "\n",
    "For each of the 10 non-US countries we would like to make a bar chart to show the number of female and male runners from 2017 to 2019. To achieve this purpose, we need to get the number of female and male runners from these countries by year. "
   ]
  },
  {
   "cell_type": "code",
   "execution_count": null,
   "id": "6b9c1caf-46a9-4512-b3df-5140b5411bb0",
   "metadata": {},
   "outputs": [],
   "source": [
    "### get the number of female and male runners from \n",
    "### each country by year (code example in pandas intermediate 1)\n",
    "\n"
   ]
  },
  {
   "cell_type": "markdown",
   "id": "9bf74953-98c1-4201-8dda-0e8675782865",
   "metadata": {},
   "source": [
    "### Plotting\n"
   ]
  },
  {
   "cell_type": "code",
   "execution_count": null,
   "id": "7bd3721e-4a5c-487e-ab08-5db84e4cf6aa",
   "metadata": {},
   "outputs": [],
   "source": [
    "### make a figure with an initial bar chart for Australia\n",
    "### which is alphabetically the first among the 10 countries \n",
    "### (code example in pandas intermediate 3)\n"
   ]
  },
  {
   "cell_type": "code",
   "execution_count": null,
   "id": "3ab2520f-bab4-4577-b042-cd45204c2897",
   "metadata": {},
   "outputs": [],
   "source": [
    "### create the buttons in dropdown menu\n",
    "### (code example in pandas intermediate 3)\n"
   ]
  },
  {
   "cell_type": "code",
   "execution_count": null,
   "id": "404b228c-2afc-4d77-92bd-95b59a86abb7",
   "metadata": {},
   "outputs": [],
   "source": [
    "### Add the dropdown menu to the chart\n",
    "### specify how you would want to update the chart with different buttons\n",
    "### (code example in pandas intermediate 3)\n"
   ]
  },
  {
   "cell_type": "markdown",
   "id": "e0af5555-5e87-47d0-9f97-e8102124f609",
   "metadata": {},
   "source": [
    "___\n",
    "## Lesson Complete\n",
    "\n",
    "Congratulations! You have completed *Pandas Intermediate 3*.\n",
    "\n",
    "### Exercise Solutions\n",
    "Here are a few solutions for exercises in this lesson.\n",
    "\n",
    "### Data cleaning and manipulation"
   ]
  },
  {
   "cell_type": "code",
   "execution_count": null,
   "id": "ab0a1e4a-af5f-4ca2-af3d-e84d41b3eb90",
   "metadata": {
    "tags": []
   },
   "outputs": [],
   "source": [
    "### make an interactive bar chart for boston marathon 17-19\n",
    "### showing the number of female and male runners from the \n",
    "### 10 non-US countries with the most runners in 2019 \n",
    "\n",
    "# read the data into dfs\n",
    "bm_17 = pd.read_csv('../All-sample-files/DataViz3_BostonMarathon2017.csv')\n",
    "bm_18 = pd.read_csv('../All-sample-files/DataViz3_BostonMarathon2018.csv')\n",
    "bm_19 = pd.read_csv('../All-sample-files/DataViz3_BostonMarathon2019.csv')\n",
    "\n",
    "# explore the data to get a general idea\n"
   ]
  },
  {
   "cell_type": "code",
   "execution_count": null,
   "id": "6de024cc-040a-49ed-a363-56aa9efeaeba",
   "metadata": {
    "tags": []
   },
   "outputs": [],
   "source": [
    "# get the 10 non-US countries with the most runners in bm_19\n",
    "ctry = bm_19.groupby('CountryOfResName').size().sort_values(ascending=0).iloc[1:11].sort_index().index\n",
    "\n",
    "#reduce bm_19 to columns and rows of interest, \n",
    "#create a new column 'year'\n",
    "bm_19 = bm_19.loc[bm_19['CountryOfResName'].isin(ctry),['CountryOfResName','Gender']].reset_index(drop=True).copy()\n",
    "bm_19['Year']='2019'"
   ]
  },
  {
   "cell_type": "code",
   "execution_count": null,
   "id": "56840b3a-5164-43b2-a190-d76d82a0ab89",
   "metadata": {
    "tags": []
   },
   "outputs": [],
   "source": [
    "# reduce bm_17 and bm_18 to columns and rows of interest,\n",
    "# create a new column 'year' for them respectively\n",
    "bm_17 = bm_17.loc[bm_17['CountryOfResName'].isin(ctry),['CountryOfResName','Gender']].reset_index(drop=True).copy()\n",
    "bm_17['Year']='2017'\n",
    "\n",
    "bm_18 = bm_18.loc[bm_18['CountryOfResName'].isin(ctry),['CountryOfResName','Gender']].reset_index(drop=True).copy()\n",
    "bm_18['Year']='2018'"
   ]
  },
  {
   "cell_type": "code",
   "execution_count": null,
   "id": "2ac4e1ba-669f-45a3-9b4f-f8e0a15bcd61",
   "metadata": {
    "tags": []
   },
   "outputs": [],
   "source": [
    "# concatenate the three reduced dfs\n",
    "bm_17to19 = pd.concat([bm_17, bm_18, bm_19]).reset_index(drop=True)"
   ]
  },
  {
   "cell_type": "markdown",
   "id": "cf84e6d8-2130-4a29-96a7-f4e858a11c79",
   "metadata": {},
   "source": [
    "### Data summary"
   ]
  },
  {
   "cell_type": "code",
   "execution_count": null,
   "id": "a04355a7-9b21-4885-b390-bb5ce21599ea",
   "metadata": {
    "tags": []
   },
   "outputs": [],
   "source": [
    "### get the number of female and male runners from each country by year\n",
    "bm_17to19 = bm_17to19.groupby(['CountryOfResName', 'Gender', 'Year']).size()"
   ]
  },
  {
   "cell_type": "markdown",
   "id": "f48483d8-87a7-4b3a-aed6-5bda5a840b20",
   "metadata": {
    "execution": {
     "iopub.execute_input": "2023-07-28T03:16:04.916357Z",
     "iopub.status.busy": "2023-07-28T03:16:04.915685Z",
     "iopub.status.idle": "2023-07-28T03:16:04.938970Z",
     "shell.execute_reply": "2023-07-28T03:16:04.937993Z",
     "shell.execute_reply.started": "2023-07-28T03:16:04.916307Z"
    }
   },
   "source": [
    "### Plotting"
   ]
  },
  {
   "cell_type": "code",
   "execution_count": null,
   "id": "bcd84bb8-eee8-4f69-bdeb-e46cbf443a90",
   "metadata": {
    "tags": []
   },
   "outputs": [],
   "source": [
    "### make a figure with an initial bar chart for Australia\n",
    "### which is alphabetically the first among the 10 countries\n",
    "fig = go.Figure(\n",
    "    data=[go.Bar(x=list(range(2017, 2020)),\n",
    "            y=bm_17to19.loc[('Australia','F')],\n",
    "               name='Female'\n",
    "                     ),\n",
    "    go.Bar(x=list(range(2017, 2020)),\n",
    "            y=bm_17to19.loc[('Australia','M')],\n",
    "               name='Male'\n",
    "                     )\n",
    "         ])\n",
    "\n",
    "fig.show()"
   ]
  },
  {
   "cell_type": "code",
   "execution_count": null,
   "id": "5581562b-f3a4-4ebc-89f0-75ebfa457445",
   "metadata": {
    "tags": []
   },
   "outputs": [],
   "source": [
    "### create the buttons in the dropdown menu\n",
    "buttons = []\n",
    "x = list(range(2017,2020))\n",
    "for c in ctry:\n",
    "    buttons.append(dict(\n",
    "                        label=c,\n",
    "                        method='update',\n",
    "                        visible=True,\n",
    "                        args=[{'y': [bm_17to19.loc[(c,'F')],bm_17to19.loc[(c,'M')]],\n",
    "                               'x': [x,x]\n",
    "                               }\n",
    "                             ]\n",
    "                        )\n",
    "                  )"
   ]
  },
  {
   "cell_type": "code",
   "execution_count": null,
   "id": "36650d86-d2ba-4e07-b371-802b12be0cb8",
   "metadata": {
    "tags": []
   },
   "outputs": [],
   "source": [
    "### Add the dropdown menu to the chart\n",
    "### specify how you would want to update the chart with different buttons\n",
    "fig.update_layout(\n",
    "    updatemenus=[\n",
    "        dict(\n",
    "            active=0, #button with index 0 is active\n",
    "            buttons=buttons, # add the buttons\n",
    "            direction=\"down\", # specify it is a dropdown menu\n",
    "            x=0.3, # specify where the button stands on the x axis\n",
    "            xanchor=\"left\",\n",
    "            y=1.2, # specify where the button stands on the y axis\n",
    "            yanchor=\"top\",\n",
    "            )            \n",
    "            ],\n",
    "    legend=\n",
    "        dict(\n",
    "            yanchor=\"top\", \n",
    "            y=-0.1, # specify where the legend stands on the y axis\n",
    "            xanchor=\"left\",\n",
    "            x=0.2, # specify where the legend stands on the x axis\n",
    "            orientation='h'\n",
    "            )\n",
    "            )"
   ]
  }
 ],
 "metadata": {
  "kernelspec": {
   "display_name": "Python 3 (ipykernel)",
   "language": "python",
   "name": "python3"
  },
  "language_info": {
   "codemirror_mode": {
    "name": "ipython",
    "version": 3
   },
   "file_extension": ".py",
   "mimetype": "text/x-python",
   "name": "python",
   "nbconvert_exporter": "python",
   "pygments_lexer": "ipython3",
   "version": "3.11.9"
  }
 },
 "nbformat": 4,
 "nbformat_minor": 5
}

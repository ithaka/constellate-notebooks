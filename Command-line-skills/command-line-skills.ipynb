{
 "cells": [
  {
   "cell_type": "markdown",
   "id": "5f38eb32",
   "metadata": {},
   "source": [
    "<img align=\"left\" src=\"../All-sample-files/CC_BY.png\"><br />\n",
    "\n",
    "Created by [Nathan Kelber](http://nkelber.com) for [JSTOR Labs](https://labs.jstor.org/) under [Creative Commons CC BY License](https://creativecommons.org/licenses/by/4.0/)<br />\n",
    "For questions/comments/improvements, email nathan.kelber@ithaka.org.<br />\n",
    "___"
   ]
  },
  {
   "cell_type": "markdown",
   "id": "f835ba56",
   "metadata": {},
   "source": [
    "# Command Line Skills for Text Analysis\n",
    "\n",
    "**Description:** This notebook is intended to introduce users to the command line. It describes:\n",
    "* Why you should learn the command line\n",
    "* How to install a unix command line on your computer\n",
    "* Various commands for manipulating files\n",
    "* How to install Python libraries on your local machine\n",
    "\n",
    "**Use Case:** For Learners (Detailed explanation, not ideal for researchers)\n",
    "\n",
    "**Difficulty:** Beginner\n",
    "\n",
    "**Completion Time:** 30 minutes\n",
    "\n",
    "**Knowledge Required:** None\n",
    "\n",
    "**Knowledge Recommended:** None\n",
    "\n",
    "**Data Format:** None\n",
    "\n",
    "**Libraries Used:** None\n",
    "\n",
    "**Research Pipeline:** None\n",
    "___"
   ]
  },
  {
   "cell_type": "markdown",
   "id": "f01dfbc8",
   "metadata": {},
   "source": [
    "## Why learn the command line?\n",
    "\n",
    "Most of our everyday experiences with computers involve using a mouse, trackpad, or touchscreen. We use familiar operations like \"clicking\", \"double-clicking\", or \"pinching\" on a Graphical User Interface (GUI) to accomplish everyday tasks like browsing the web, reading email, and playing games. Most computer users never use the command line, which foregoes using a cursor, and relies only on text input from the keyboard. Using computers in this way can seem opaque and difficult, so why do folks learn it?\n",
    "\n",
    "There are a few reasons:\n",
    "* Many important and useful programs have no GUI\n",
    "* The command line helps Python coders start JupyterLab and install Python packages\n",
    "* Certain file operations, like renaming hundreds of files at once, cannot be done in a GUI\n",
    "* The command line is faster for many tasks, requiring a few keystrokes rather than many clicks\n",
    "* Multi-step command line tasks can be scripted, letting users run them multiple times or at particular times\n",
    "* A simple way to connect and interact with internet servers"
   ]
  },
  {
   "cell_type": "markdown",
   "id": "128e5012",
   "metadata": {},
   "source": [
    "## Installing the Command Line\n",
    "\n",
    "### Mac OS X\n",
    "The command line is already installed by default on Mac OS X machines in a utility named \"Terminal.\"\n",
    "\n",
    "### Windows 10\n",
    "\n",
    "There is a command line installed by default on Windows 10, but we do not recommend learning the command line with it. One of the most significant advantages of learning the command line is the ability to connect and interact with internet servers. The vast majority of servers in the world run on Linux, accepting unix-based commands. By installing a unix-based command line on your Windows machine, you will learn a more popular and portable version of the command line.\n",
    "\n",
    "1. [Download Git Bash](https://git-scm.com/downloads)\n",
    "2. **Install Git** For each setting, choose the default. You may, optionally, wish to change the default editor from Vim (an advanced text editor) to something simpler like Notepad. This is not necessary for our purposes but it may be easier for you later when you need to edit text files."
   ]
  },
  {
   "cell_type": "markdown",
   "id": "eb2e8f75",
   "metadata": {},
   "source": [
    "## Opening a Command Line Window\n",
    "\n",
    "### Mac OS X \n",
    "1. Click on the magnifying glass icon in the upper righthand corner of the screen. (Shortcut: ⌘ + spacebar) \n",
    "2. Type `terminal` and then press return.\n",
    "\n",
    "### Windows 10\n",
    "1. Click on the Windows Start Menu in the lower left corner. (Shortcut: Windows key)\n",
    "2. Type `git bash` and then press return."
   ]
  },
  {
   "cell_type": "markdown",
   "id": "81b1a524",
   "metadata": {},
   "source": [
    "**Git Bash vs. Windows Command Prompt**\n",
    "\n",
    "To check which one you are using, look in the upper lefthand corner of the window. Git Bash will say \"MINGW64\" in the upper lefthand corner of the window. Command Prompt will say \"Command Prompt\". This lesson teaches the more widely-used unix-based commands in Git Bash.\n",
    "![The visual difference between Windows Command Prompt and Git Bash](../All-sample-files/bash-vs-cmd.png)"
   ]
  },
  {
   "cell_type": "markdown",
   "id": "7b3bf1c4",
   "metadata": {},
   "source": [
    "## Navigating the file system\n",
    "\n",
    "All the files and directories on your computer are organized into a hierarchy starting at the root directory. (A directory is also commonly called a \"folder.\") On Mac OS X, the root (or top) directory is just known as `/`. On a Windows 10, the root directory is usually `C:/`. \n",
    "\n",
    "Starting from the root, we can write a description of any given file or directory on your machine. For example, if I downloaded a file `information.txt` with my web browser to my downloads directory, the file location could be written:\n",
    "\n",
    "`/Users/MyUserName/Downloads/information.txt` on Mac OS X\n",
    "\n",
    "or \n",
    "\n",
    "`C:/Users/MyUserName/Downloads/information.txt` on Windows 10\n",
    "\n",
    "When you start the command line, the default location can be either your user directory, sometimes called \"home\", or the last directory that was open in the command line. To discover the current location of your terminal session, use the `pwd` command.\n",
    "\n",
    "### Present Working Directory `pwd`\n",
    "\n",
    "Type in `pwd` and press enter/return. Your current location will be printed.\n",
    "\n",
    "![Typing pwd into terminal](../All-sample-files/pwd.gif)\n",
    "\n",
    "This user is in the `/Users/nkelber/` directory. \n",
    "\n",
    "### List directory contents `ls`\n",
    "\n",
    "Type in `ls` to see the contents of the current directory:\n",
    "\n",
    "![Typing ls into terminal](../All-sample-files/ls.gif)\n",
    "\n",
    "By default, some files and directories are invisible. To see them, use `ls -a`. Generally, it is not a good idea to change invisible files or directories unless you're sure about what they do. \n",
    "\n",
    "### Change Directory `cd`\n",
    "\n",
    "To change into a directory use the `cd` command followed by the directory name. If the directory name is long, you may simply type part of the name then press the tab key to auto-complete. Using tab completion is useful because:\n",
    "\n",
    "1. It is faster than typing out the entire directory name\n",
    "2. It guards against typos in long directory names\n",
    "\n",
    "If you mistype a command, you can also use the up arrow key on the keyboard to scroll through commands you have already entered. Then you can delete and insert the correction without having to retype the whole command.\n",
    "\n",
    "![Typing cd into terminal](../All-sample-files/cd.gif)\n",
    "\n",
    "To move back up a directory, use `cd ..`. Using `cd ..` repeatedly will eventually take you to the root (top directory). \n",
    "\n",
    "If you ever get lost, you can use `cd ~` to return to your home directory. You can also supply an \"absolute path\" starting with the root directory, such as `cd /Users/MyUserName/Downloads`. This is helpful if the directory you want to enter is far away from the present working directory.\n"
   ]
  },
  {
   "cell_type": "markdown",
   "id": "36c504ce",
   "metadata": {},
   "source": [
    "## Create and edit files\n",
    "\n",
    "## The `nano` editor\n",
    "\n",
    "### Installation on Windows 10\n",
    "\n",
    "We recommend the text editor Nano. It is installed by default on Mac OS X, but it must be installed on Windows 10. \n",
    "\n",
    "1. [Download nano](https://www.nano-editor.org/download.php) for Windows\n",
    "2. Rename the file to nano.exe\n",
    "3. Move it to C:\\Program Files\\Git\\usr\\bin\n",
    "4. Open Git Bash and enter: `git config –global core.editor “winpty nano”`"
   ]
  },
  {
   "cell_type": "markdown",
   "id": "eb2aaf57",
   "metadata": {},
   "source": [
    "### Opening or creating a file with `nano`\n",
    "\n",
    "To create or open an existing plaintext file with nano, such as \"file.txt\", use `nano file.txt` when in the same directory as the file. The nano file editor will open in the terminal window.\n",
    "\n",
    "![Using the nano editor](../All-sample-files/nano.gif)\n",
    "\n",
    "\n",
    "1. Make any desired changes\n",
    "2. Press ctrl + x to exit\n",
    "3. Type `y` and press enter/return to confirm you want to save changes\n",
    "4. Confirm (or change) the filename and press enter/return"
   ]
  },
  {
   "cell_type": "markdown",
   "id": "aee216f6",
   "metadata": {},
   "source": [
    "### Move and rename files `mv`\n",
    "\n",
    "The `mv` command allows you to move and/or rename a file. To rename a file without moving it, use the syntax:\n",
    "\n",
    "`mv oldfilename newfilename`\n",
    "\n",
    "when you are in the directory where the file is located.\n",
    "\n",
    "If you are moving the file\n",
    "\n",
    "\n",
    "Assuming a file called file.txt, the syntax is:\n",
    "\n",
    "`mv file.txt newfolder/file.txt`\n",
    "\n",
    "assuming there is a `newfolder` in the same directory. It is possible to both move and rename a file in a single command, such as:\n",
    "\n",
    "`mv oldfilename.txt newfolder/newfilename.txt`\n",
    "\n",
    "If you need to move a file up a directory, you can supply a full path starting with the root:\n",
    "\n",
    "`mv file.txt /usr/username/folder/file.txt`\n",
    "\n",
    "Or you can use `..` to indicate the file should be moved up a directory:\n",
    "\n",
    "`mv file.txt ../file.txt`\n"
   ]
  },
  {
   "cell_type": "markdown",
   "id": "82969c4c",
   "metadata": {},
   "source": [
    "### Make Directory `mkdir`\n",
    "The `mkdir` command will create a new directory in your present working directory:\n",
    "\n",
    "`mkdir newdirectoryname`"
   ]
  },
  {
   "cell_type": "markdown",
   "id": "9fa0b64f",
   "metadata": {},
   "source": [
    "### Unzip a file `unzip`\n",
    "The `unzip` command will unzip a compressed zip file:\n",
    "`unzip filename.zip`"
   ]
  },
  {
   "cell_type": "markdown",
   "id": "c3727d87",
   "metadata": {},
   "source": [
    "## Installing Python packages\n",
    "\n",
    "If you need a particular package installed for Python, the default package manager is called `pip`. A second package manager called `conda` is popular in data science and is often used with the [Anaconda distribution](https://www.anaconda.com/products/individual) of Python that contains a large variety of packages and software suitable for data science work. \n",
    "\n",
    "For most users, it is suitable to install a package for all users. If you find yourself working on multiple projects at a time with different package, it is a good idea to look into virtual environments. For example, you may work on a project that uses `package version .7` and `package version 2.0`. Each time you switched projects, you would need to reinstall the proper version of the package for the project you're working on. Virtual environments allow you to load a different set of packages depending on which project you're working on.\n",
    "\n",
    "### The Python package manager `pip`\n",
    "\n",
    "Installing a package with pip is simple:\n",
    "\n",
    "`pip install package-name`\n",
    "\n",
    "You can uninstall a package with:\n",
    "\n",
    "`pip uninstall package-name`\n",
    "\n",
    "### The Conda package manager `conda`\n",
    "\n",
    "The Anaconda distribution of Python comes with a graphical user interface that allows you to install and uninstall packages (and create virtual environments) with a mouse. However, you can also use the command line and the process is very simple. \n",
    "\n",
    "To install:\n",
    "\n",
    "`conda install package-name`\n",
    "\n",
    "To uninstall: \n",
    "\n",
    "`conda uninstall package-name`"
   ]
  }
 ],
 "metadata": {
  "kernelspec": {
   "display_name": "Python 3 (ipykernel)",
   "language": "python",
   "name": "python3"
  },
  "language_info": {
   "codemirror_mode": {
    "name": "ipython",
    "version": 3
   },
   "file_extension": ".py",
   "mimetype": "text/x-python",
   "name": "python",
   "nbconvert_exporter": "python",
   "pygments_lexer": "ipython3",
   "version": "3.11.9"
  }
 },
 "nbformat": 4,
 "nbformat_minor": 5
}

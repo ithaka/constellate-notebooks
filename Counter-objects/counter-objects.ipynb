{
 "cells": [
  {
   "cell_type": "markdown",
   "metadata": {},
   "source": [
    "<img align=\"left\" src=\"https://ithaka-labs.s3.amazonaws.com/static-files/images/tdm/tdmdocs/CC_BY.png\"><br />\n",
    "\n",
    "Created by [Nathan Kelber](http://nkelber.com) and Ted Lawless for [JSTOR Labs](https://labs.jstor.org/) under [Creative Commons CC BY License](https://creativecommons.org/licenses/by/4.0/)<br />\n",
    "For questions/comments/improvements, email nathan.kelber@ithaka.org.<br />\n",
    "___"
   ]
  },
  {
   "cell_type": "markdown",
   "metadata": {},
   "source": [
    "# Counter Objects\n",
    "\n",
    "**Description:** This notebook describes:\n",
    "* What a Counter object is\n",
    "* The difference between counters and dictionaries\n",
    "* Using Counter objects for finding the most common elements\n",
    "\n",
    "**Use Case:** For Learners (Detailed explanation, not ideal for researchers)\n",
    "\n",
    "**Difficulty:** Intermediate\n",
    "\n",
    "**Completion Time:** 20 minutes\n",
    "\n",
    "**Knowledge Required:** \n",
    "* Python Basics Series ([Start Python Basics 1](../Python-basics/python-basics-1.ipynb))\n",
    "\n",
    "**Knowledge Recommended:** None\n",
    "\n",
    "**Data Format:** None\n",
    "\n",
    "**Libraries Used:** Counter from Collections\n",
    "\n",
    "**Research Pipeline:** None\n",
    "___"
   ]
  },
  {
   "cell_type": "markdown",
   "metadata": {},
   "source": [
    "## The Counter Container Datatype\n",
    "\n",
    "A Counter is very similar to a dictionary, where the key is some variable and the value keeps count of the number of times it occurs. As the name suggests, Counters are very useful for counting the occurence of objects. We can create a Counter object from a list."
   ]
  },
  {
   "cell_type": "code",
   "execution_count": 1,
   "metadata": {
    "execution": {
     "iopub.execute_input": "2025-06-19T15:02:15.703996Z",
     "iopub.status.busy": "2025-06-19T15:02:15.703462Z",
     "iopub.status.idle": "2025-06-19T15:02:15.711213Z",
     "shell.execute_reply": "2025-06-19T15:02:15.710803Z",
     "shell.execute_reply.started": "2025-06-19T15:02:15.703977Z"
    },
    "tags": []
   },
   "outputs": [
    {
     "data": {
      "text/plain": [
       "Counter({'a': 7, 'b': 4, 'c': 3})"
      ]
     },
     "execution_count": 1,
     "metadata": {},
     "output_type": "execute_result"
    }
   ],
   "source": [
    "# A Counter object created from a list\n",
    "sample_list = ['a', 'c', 'a', 'b', 'a', 'a', 'c', 'b', 'a', 'b', 'b', 'a', 'c', 'a']\n",
    "\n",
    "from collections import Counter\n",
    "Counter(sample_list)"
   ]
  },
  {
   "cell_type": "markdown",
   "metadata": {},
   "source": [
    "We can also create a Counter object from a dictionary."
   ]
  },
  {
   "cell_type": "code",
   "execution_count": 2,
   "metadata": {
    "execution": {
     "iopub.execute_input": "2025-06-19T15:02:15.713430Z",
     "iopub.status.busy": "2025-06-19T15:02:15.713133Z",
     "iopub.status.idle": "2025-06-19T15:02:15.717089Z",
     "shell.execute_reply": "2025-06-19T15:02:15.716673Z",
     "shell.execute_reply.started": "2025-06-19T15:02:15.713414Z"
    },
    "tags": []
   },
   "outputs": [
    {
     "data": {
      "text/plain": [
       "Counter({'b': 13, 'a': 4, 'c': 2})"
      ]
     },
     "execution_count": 2,
     "metadata": {},
     "output_type": "execute_result"
    }
   ],
   "source": [
    "# A Counter object created from a dictionary\n",
    "sample_dictionary = {'a': 4, 'b' : 13, 'c' : 2}\n",
    "Counter(sample_dictionary)"
   ]
  },
  {
   "cell_type": "markdown",
   "metadata": {},
   "source": [
    "The contents of a Counter object may look identical to a dictionary, but there are some significant differences. Let's imagine we are using our Counter object to count the occurences of five words in a text "
   ]
  },
  {
   "cell_type": "code",
   "execution_count": 3,
   "metadata": {
    "execution": {
     "iopub.execute_input": "2025-06-19T15:02:15.718332Z",
     "iopub.status.busy": "2025-06-19T15:02:15.717982Z",
     "iopub.status.idle": "2025-06-19T15:02:15.722978Z",
     "shell.execute_reply": "2025-06-19T15:02:15.722572Z",
     "shell.execute_reply.started": "2025-06-19T15:02:15.718317Z"
    },
    "tags": []
   },
   "outputs": [
    {
     "name": "stdout",
     "output_type": "stream",
     "text": [
      "Counter({'word_e': 32, 'word_a': 23, 'word_c': 4, 'word_d': 4, 'word_b': 3})\n"
     ]
    }
   ],
   "source": [
    "# An example dictionary with key/value pairs of words and numbers\n",
    "wordcounts_dictionary = {\n",
    "    'word_a': 23,\n",
    "    'word_b': 3,\n",
    "    'word_c': 4,\n",
    "    'word_d': 4,\n",
    "    'word_e': 32} \n",
    "\n",
    "# Create a Counter object `wordcounts_counter` from `wordcounts_dictionary`\n",
    "wordcounts_counter = Counter(wordcounts_dictionary)\n",
    "print(wordcounts_counter)"
   ]
  },
  {
   "cell_type": "markdown",
   "metadata": {},
   "source": [
    "The Counter object looks just like a dictionary inside the parentheses `()` of `Counter()`. Both dictionaries and counters can return a **value** from a **key**."
   ]
  },
  {
   "cell_type": "code",
   "execution_count": 4,
   "metadata": {
    "execution": {
     "iopub.execute_input": "2025-06-19T15:02:15.723870Z",
     "iopub.status.busy": "2025-06-19T15:02:15.723578Z",
     "iopub.status.idle": "2025-06-19T15:02:15.728593Z",
     "shell.execute_reply": "2025-06-19T15:02:15.728149Z",
     "shell.execute_reply.started": "2025-06-19T15:02:15.723856Z"
    },
    "tags": []
   },
   "outputs": [
    {
     "name": "stdout",
     "output_type": "stream",
     "text": [
      "23\n",
      "23\n"
     ]
    }
   ],
   "source": [
    "# Returning a value for a given key in Python dictionaries vs. Counter objects\n",
    "print(wordcounts_dictionary['word_a']) # Using a dictionary\n",
    "print(wordcounts_counter['word_a'])  # Using a Counter"
   ]
  },
  {
   "cell_type": "markdown",
   "metadata": {},
   "source": [
    "However, the `Counter()` has some helpful differences from a dictionary. One difference is that a `Counter()` returns a 0 when no such key exists."
   ]
  },
  {
   "cell_type": "code",
   "execution_count": 5,
   "metadata": {
    "execution": {
     "iopub.execute_input": "2025-06-19T15:02:15.729574Z",
     "iopub.status.busy": "2025-06-19T15:02:15.729189Z",
     "iopub.status.idle": "2025-06-19T15:02:15.734380Z",
     "shell.execute_reply": "2025-06-19T15:02:15.733975Z",
     "shell.execute_reply.started": "2025-06-19T15:02:15.729560Z"
    },
    "tags": []
   },
   "outputs": [
    {
     "name": "stdout",
     "output_type": "stream",
     "text": [
      "0\n"
     ]
    }
   ],
   "source": [
    "# With a Counter, the value of the made-up key `no_such_key_exists` is 0. \n",
    "print(wordcounts_counter['no_such_key_exists']) "
   ]
  },
  {
   "cell_type": "markdown",
   "metadata": {},
   "source": [
    "If a key is not in a dictionary, Python returns a KeyError."
   ]
  },
  {
   "cell_type": "code",
   "execution_count": 6,
   "metadata": {
    "execution": {
     "iopub.execute_input": "2025-06-19T15:02:15.735644Z",
     "iopub.status.busy": "2025-06-19T15:02:15.735367Z",
     "iopub.status.idle": "2025-06-19T15:02:15.739676Z",
     "shell.execute_reply": "2025-06-19T15:02:15.739284Z",
     "shell.execute_reply.started": "2025-06-19T15:02:15.735630Z"
    },
    "tags": []
   },
   "outputs": [],
   "source": [
    "# With a dictionary, the value of the made-up key `no_such_key_exists` causes a KeyError in Python\n",
    "# print(wordcounts_dictionary['no_such_key_exists']) "
   ]
  },
  {
   "cell_type": "markdown",
   "metadata": {},
   "source": [
    "If we wanted to overcome this difficulty using a dictionary, we could use the `.get()` method for retrieving values from a given key."
   ]
  },
  {
   "cell_type": "code",
   "execution_count": 7,
   "metadata": {
    "execution": {
     "iopub.execute_input": "2025-06-19T15:02:15.740574Z",
     "iopub.status.busy": "2025-06-19T15:02:15.740257Z",
     "iopub.status.idle": "2025-06-19T15:02:15.745639Z",
     "shell.execute_reply": "2025-06-19T15:02:15.745237Z",
     "shell.execute_reply.started": "2025-06-19T15:02:15.740559Z"
    },
    "tags": []
   },
   "outputs": [
    {
     "name": "stdout",
     "output_type": "stream",
     "text": [
      "None\n",
      "No such key\n"
     ]
    }
   ],
   "source": [
    "# A demonstration of returning a string when no such key exists\n",
    "print(wordcounts_dictionary.get('no_such_key_exists')) # If no key is found, `None` is returned\n",
    "print(wordcounts_dictionary.get('no_such_key_exists', 'No such key')) # We can also supply a second argument that defines a string to be returned"
   ]
  },
  {
   "cell_type": "markdown",
   "metadata": {},
   "source": [
    "The Counter object, however, is also useful for a second purpose. Counter objects can be easily sorted using the `most_common()` method. We can specify an argument with this method to receive a certain number of results. Let's try it on our example `wordcounts_counter`. "
   ]
  },
  {
   "cell_type": "code",
   "execution_count": 8,
   "metadata": {
    "execution": {
     "iopub.execute_input": "2025-06-19T15:02:15.746456Z",
     "iopub.status.busy": "2025-06-19T15:02:15.746177Z",
     "iopub.status.idle": "2025-06-19T15:02:15.751837Z",
     "shell.execute_reply": "2025-06-19T15:02:15.751463Z",
     "shell.execute_reply.started": "2025-06-19T15:02:15.746442Z"
    },
    "tags": []
   },
   "outputs": [
    {
     "data": {
      "text/plain": [
       "[('word_e', 32), ('word_a', 23), ('word_c', 4), ('word_d', 4), ('word_b', 3)]"
      ]
     },
     "execution_count": 8,
     "metadata": {},
     "output_type": "execute_result"
    }
   ],
   "source": [
    "wordcounts_counter.most_common(5) # Print the top 3 most common items in `counter_demo`"
   ]
  },
  {
   "cell_type": "markdown",
   "metadata": {},
   "source": [
    "There is no least_common method, but we can get the least commmon element using a negative index or slice."
   ]
  },
  {
   "cell_type": "code",
   "execution_count": 9,
   "metadata": {
    "execution": {
     "iopub.execute_input": "2025-06-19T15:02:15.752799Z",
     "iopub.status.busy": "2025-06-19T15:02:15.752435Z",
     "iopub.status.idle": "2025-06-19T15:02:15.757794Z",
     "shell.execute_reply": "2025-06-19T15:02:15.757367Z",
     "shell.execute_reply.started": "2025-06-19T15:02:15.752785Z"
    },
    "tags": []
   },
   "outputs": [
    {
     "data": {
      "text/plain": [
       "('word_b', 3)"
      ]
     },
     "execution_count": 9,
     "metadata": {},
     "output_type": "execute_result"
    }
   ],
   "source": [
    "# The least common element is at index -1\n",
    "wordcounts_counter.most_common()[-1]"
   ]
  },
  {
   "cell_type": "markdown",
   "metadata": {},
   "source": [
    "The final advantage of the Counter object is that it is a \"high performance\" container type, so it is able to process large amounts of data very quickly. Counter objects are the preferred method for working quickly and efficiently with counted elements in Python."
   ]
  }
 ],
 "metadata": {
  "kernelspec": {
   "display_name": "Python 3 (ipykernel)",
   "language": "python",
   "name": "python3"
  },
  "language_info": {
   "codemirror_mode": {
    "name": "ipython",
    "version": 3
   },
   "file_extension": ".py",
   "mimetype": "text/x-python",
   "name": "python",
   "nbconvert_exporter": "python",
   "pygments_lexer": "ipython3",
   "version": "3.11.9"
  },
  "toc": {
   "base_numbering": 1,
   "nav_menu": {},
   "number_sections": true,
   "sideBar": true,
   "skip_h1_title": true,
   "title_cell": "Table of Contents",
   "title_sidebar": "Contents",
   "toc_cell": false,
   "toc_position": {},
   "toc_section_display": true,
   "toc_window_display": true
  }
 },
 "nbformat": 4,
 "nbformat_minor": 4
}

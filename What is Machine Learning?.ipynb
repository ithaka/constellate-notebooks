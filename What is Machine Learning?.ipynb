{
 "cells": [
  {
   "cell_type": "markdown",
   "id": "158360cc",
   "metadata": {},
   "source": [
    "<img align=\"left\" src=\"https://ithaka-labs.s3.amazonaws.com/static-files/images/tdm/tdmdocs/CC_BY.png\"><br />\n",
    "\n",
    "This notebook is created by Zhuo Chen under [Creative Commons CC BY License](https://creativecommons.org/licenses/by/4.0/).<br />\n",
    "\n",
    "For questions/comments/improvements, email zhuo.chen@ithaka.org or nathan.kelber@ithaka.org<br />\n",
    "___\n"
   ]
  },
  {
   "cell_type": "markdown",
   "id": "355601e5",
   "metadata": {},
   "source": [
    "# Machine Learning\n",
    "\n",
    "**Description:** This notebook describes:\n",
    "* What is Machine Learning\n",
    "* The machine learning pipeline\n",
    "* Supervised and unsupervised learning\n",
    "* Training/validation/test data \n",
    "\n",
    "**Use Case:** For Learners (Detailed explanation, not ideal for researchers)\n",
    "\n",
    "**Difficulty:** Intermediate\n",
    "\n",
    "**Completion Time:** 75 minutes\n",
    "\n",
    "**Knowledge Required:** None\n",
    "\n",
    "**Knowledge Recommended:** None\n",
    "\n",
    "**Data Format:** None\n",
    "\n",
    "**Libraries Used:** None\n",
    "\n",
    "**Research Pipeline:** None"
   ]
  },
  {
   "cell_type": "markdown",
   "id": "185a0a32",
   "metadata": {},
   "source": [
    "# What is Machine Learning\n",
    "\n",
    "Machine learning, a branch of artifical intelligence, is becoming ubiquitous. You find it everywhere. It is used in image recognition, medical diagnosis, stock prediction and a lot more areas. What's important to us is that it is also used in text analysis. "
   ]
  },
  {
   "cell_type": "markdown",
   "id": "6608dfa1",
   "metadata": {},
   "source": [
    "What is Machine Learning? Encapsulated in one sentence, Machine Learning learns from data and produces a model to do a certain task. "
   ]
  },
  {
   "cell_type": "markdown",
   "id": "0e41c7f9",
   "metadata": {},
   "source": [
    "<a id='section2.1'></a>\n",
    "<h2 id='section2.1'>Machine Learning Pipeline</h2>\n",
    "\n",
    "The one-sentence definition of ML spells out the ML pipeline, which can be represented by the following graph. We feed some data to a ML algorithm to produce a model that fits the input data. We derive some kind of intelligence from the model we build and use it to accomplish a certain task.\n",
    "\n",
    "<center><img src='https://ithaka-labs.s3.amazonaws.com/static-files/images/tdm/tdmdocs/NER_ML_pipeline.png' width=600></center>"
   ]
  },
  {
   "cell_type": "markdown",
   "id": "569d9091",
   "metadata": {},
   "source": [
    "Let's use a simple example to understand ML and the ML pipeline. Let's say you are interested in the relationship between the size and the price of a house in your neighborhood. Specifically, you would like to use the size of a house to predict its price. You go to Redfin/Zillow and find the information about the recently sold houses in your neighborhood. You note down their size and sale price. \n",
    "\n",
    "|House addr|# of sqft|Price|\n",
    "|---|---|---|\n",
    "|1 Walnut St.|950|550k|\n",
    "|10 Walnut St.|1040|500k|\n",
    "|21 Walnut St.|1180|390k|\n",
    "|36 Walnut St.|1240|510k|\n",
    "|8 Hazelnut Rd.|1400|410k|\n",
    "|18 Hazelnut Rd.|1450|510k|\n",
    "|5 Chestnut Dr.|1480|505k|\n",
    "|40 Chestnut Dr.|1520|450k|\n",
    "|...|...|...|\n",
    "\n",
    "You create a scatter plot to examine the data. \n",
    "\n",
    "<center><img src='https://ithaka-labs.s3.amazonaws.com/static-files/images/tdm/tdmdocs/ML_ScatterPlot.png' width=250></center>\n",
    "\n",
    "Now, you would like to derive a relationship between the house size and house price. How do you do that? As an example, you can use linear regression to model the relationship of interest to you. Essentially, this model will fit a linear line to the data points. \n",
    "\n",
    "<center><img src='https://ithaka-labs.s3.amazonaws.com/static-files/images/tdm/tdmdocs/ML_LinearReg.png' width=250></center>\n",
    "\n",
    "The function for this line is y = ax + b (where y is the price and x is the # of sqft). Of course, you would not just fit any line to your data points. You would want to fit a line so that the difference between the actual house prices and the predicted house prices, i.e. the **error** of the model, is the smallest. The learning the ML method you choose has to do, then, is to learn the value of a and b in the function y = ax + b such that the **error** of this model in the given dataset is the smallest. Once the best performing linear line is identified, you can use it to make predictions about new data, i.e. houses that are not in the input data."
   ]
  },
  {
   "cell_type": "markdown",
   "id": "e69b3859",
   "metadata": {},
   "source": [
    "<h2 style=\"color:red; display:inline\">Questions </h2>\n",
    "\n",
    "Going back to the ML pipeline with the above example in mind, can you answer the following questions?\n",
    "<center><img src='https://ithaka-labs.s3.amazonaws.com/static-files/images/tdm/tdmdocs/NER_ML_pipeline.png' width=500></center>\n",
    "\n",
    "1. What is the input data in this example?\n",
    "\n",
    "2. What is the ML method used in this example?\n",
    "\n",
    "3. What is the intelligence we derive from the model we build? What task does it do?"
   ]
  },
  {
   "cell_type": "markdown",
   "id": "f82b34e5",
   "metadata": {},
   "source": [
    "## ML Methods in Text Analysis\n",
    "One question you may ask is: but how do we know what ML method we should choose? Don't worry! Researchers who work on ML algorithms have developed ML methods for different kinds of tasks. The following table gives an overview$^{1}$.\n",
    "\n",
    "|Task|ML method|\n",
    "|---|---|\n",
    "|[Sentiment analysis](./sentiment-analysis-with-vader.ipynb)|Naïve-Bayes classifier|\n",
    "|[Topic modeling](./topic-modeling.ipynb)|Latent Dirichlet Allocation (LDA)|\n",
    "|[Named Entity Recognition](./NER-3.ipynb)|Neural network|\n",
    "|Document retrieval|k-nearest neighbor (k-NN)|\n",
    "|Document clustering|k mean|\n",
    "|...|...|...|\n",
    "\n",
    "<font size='1'> 1. For each text analysis task, only one ML method is given in the table, but as a matter of fact, more than one ML method has been developed to tackle a certain task. Constellate classes will strive to keep up to date with the most recent ML method proposed for these text analysis tasks.</font>"
   ]
  },
  {
   "cell_type": "markdown",
   "id": "088b2665",
   "metadata": {},
   "source": [
    "# Supervised and Unsupervised Learning\n",
    "\n",
    "Depending on the text analysis task at hand, ML learning takes either of the two forms: supervised learning and unsupervised learning$^{2}$.\n",
    "<center><img src='https://ithaka-labs.s3.amazonaws.com/static-files/images/tdm/tdmdocs/ML_SuperUnsuper.png' width=400></center>\n",
    "<font size='1'>2. More types of ML learning have emerged, including semi-supervised learning and reinforcement learning. In this notebook, we focus on the traditional bifurcation of supervised learning and unsupevised learning.</font>"
   ]
  },
  {
   "cell_type": "markdown",
   "id": "e4affc54",
   "metadata": {},
   "source": [
    "## Supervised Learning\n",
    "\n",
    "Supervised learning trains a model on a dataset with **known input and output data**. The derived model is then used to make predictions on new datasets.\n",
    "\n",
    "A dataset is divided into three groups in supervised learning: training set, validation set and test set. There is no hard and fast rule as to the division of the data, but a common practice is:\n",
    "\n",
    "* 60% as training set\n",
    "* 20% as validation set\n",
    "* 20% as test set\n",
    "\n",
    "Let's get an understanding of each type of these data with the house-buying example we have seen before. \n",
    "\n",
    "### Training set\n",
    "\n",
    "In the house-buying scenario, the dataset at hand contains information on the sizes and sale prices of the recently sold houses in your neighborhood. The ML model and input/output data are: \n",
    "\n",
    "* ML model: simple linear regression\n",
    "* input data: the size of the houses\n",
    "* output data: the sale price of the houses\n",
    "\n",
    "The input and output data used to train the linear regression model are both known. Given a house in the dataset, you know how big it is in square feet and how much it was sold for. \n",
    "\n",
    "<center><img src='https://ithaka-labs.s3.amazonaws.com/static-files/images/tdm/tdmdocs/ML_InputOutput.png' width=450></center>\n",
    "\n",
    "You may notice that in [section 2.1](#section2.1) of ML pipeline, we did not break down the dataset into three groups. This is because we were trying to avoid the unnecessary complications when understanding the ML pipeline. Now you know that the training data are a subset of the dataset. \n",
    "\n",
    "The subset of the dataset used to train the ML model is **training set**."
   ]
  },
  {
   "cell_type": "markdown",
   "id": "b117599e",
   "metadata": {},
   "source": [
    "### Validation Set\n",
    "\n",
    "In the house-buying example, you use the simple linear regression model to fit a linear line to your data. Looking at the graph, you may wonder, this linear line does not seem to be a very good fit because so many data points fall outside of the line.\n",
    "\n",
    "\n",
    "<center><img src='https://ithaka-labs.s3.amazonaws.com/static-files/images/tdm/tdmdocs/ML_LinearReg.png' width=250></center>\n",
    "\n",
    "What if you use a much more complex regression model to fit a polynomial line that can capture every data point in the training data? A model that is perfect given the training data?\n",
    "\n",
    "\n",
    "<center><img src='https://ithaka-labs.s3.amazonaws.com/static-files/images/tdm/tdmdocs/ML_HigherOrderReg.png' width=250></center>\n",
    "\n",
    "This line performs perfectly relative to the training data because it makes correct predictions on the price of every house in the training data, i.e. it has an error of 0. However, if it is so tuned to the training data, it will very likely perform badly on new data that it has never seen!  \n",
    "\n",
    "The question is: how do we know how complex a model we should choose to do a task? This is where validation set comes in. Basically, a model is trained using the training data and then applied to the validation data to check its performance. Since the validation data are never seen by the model, they function as a kind of test data testing how well the model performs on new data. If we have models of different complexity as potential candidate models to do a certain task, we will train each model and calculate their error in the validation data. The model with the smallest error relative to the validation set will win. \n",
    "\n",
    "The parameters determining the complexity of a model are called **hyperparameters**. Validation set, therefore, is used to tune the **hyperparameters**. "
   ]
  },
  {
   "cell_type": "markdown",
   "id": "8f40a022",
   "metadata": {},
   "source": [
    "### Test Set\n",
    "\n",
    "Test set is held out from the dataset at hand from the very beginning. It is not touched when tuning the parameters of a chosen model, a task reserved for training data. It is not touched when tuning the hyperparameters of a model, a task reserved for validation data. Test data are only used to calculate the performance error of a model on the test data which has been trained using the training data and whose complexity has the smallest performance error on the validation data.\n",
    "\n",
    "Ideally, the performance error of the trained model on the test data will approximate the true error the model will have when it encounters every data point it might ever see in the real life. "
   ]
  },
  {
   "cell_type": "markdown",
   "id": "65fc49f7",
   "metadata": {},
   "source": [
    "<h2 style=\"color:red; display:inline\">Questions </h2>"
   ]
  },
  {
   "cell_type": "markdown",
   "id": "ef5c1b76",
   "metadata": {},
   "source": [
    "<img style=\"float: center;\" src='https://ithaka-labs.s3.amazonaws.com/static-files/images/tdm/tdmdocs/ML_twosplits.png' width=750> "
   ]
  },
  {
   "cell_type": "markdown",
   "id": "58358353",
   "metadata": {},
   "source": [
    "1. Think about why we don't just divide the dataset at hand into training set and test set. If we train a model on the training data, select the complexity of the model such that it has the smallest performance error on the test data, how well do you think the resulting model will perform on new data that it never sees before? Why?"
   ]
  },
  {
   "cell_type": "markdown",
   "id": "d0fb7cbd",
   "metadata": {},
   "source": [
    "# Unsupervised Learning\n",
    "\n",
    "Unsupervised learning is used to uncover the hidden patterns in the given dataset without the data being labeled by humans. This is different from supervised learning where a model is trained on known input and output. "
   ]
  },
  {
   "cell_type": "markdown",
   "id": "9613d462",
   "metadata": {},
   "source": [
    "The most common unsupervised learning task is clustering. For example, if we have a big dataset of documents, we can use unsupervised learning to discover the groups of articles within the dataset that are related to each other. \n",
    "\n",
    "Unsupervised learning is typically applied before supervised learning in order to identify the underlying structure of the data in terms of classes and groupings. "
   ]
  },
  {
   "cell_type": "markdown",
   "id": "51daeb2f",
   "metadata": {},
   "source": [
    "## Some real-life applications\n",
    "\n",
    "Unsupervised learning is used in a lot of real-world tasks. The following are some examples from IBM's website:\n",
    "\n",
    "**News Sections**: Google News uses unsupervised learning to categorize articles on the same story from various online news outlets. For example, the results of a presidential election could be categorized under their label for \"US\" news.\n",
    " \n",
    "**Medical imaging**: Unsupervised machine learning provides essential features to medical imaging devices, such as image detection, classification and segmentation, used in radiology and pathology to diagnose patients quickly and accurately.\n",
    "\n",
    "**Customer personas**: Defining customer personas makes it easier to understand common traits and business clients' purchasing habits. Unsupervised learning allows businesses to build better buyer persona profiles, enabling organizations to align their product messaging more appropriately.\n",
    "\n",
    "Source: https://www.ibm.com/topics/unsupervised-learning\n"
   ]
  },
  {
   "cell_type": "markdown",
   "id": "9f6f48ba",
   "metadata": {},
   "source": []
  }
 ],
 "metadata": {
  "kernelspec": {
   "display_name": "Python 3 (ipykernel)",
   "language": "python",
   "name": "python3"
  },
  "language_info": {
   "codemirror_mode": {
    "name": "ipython",
    "version": 3
   },
   "file_extension": ".py",
   "mimetype": "text/x-python",
   "name": "python",
   "nbconvert_exporter": "python",
   "pygments_lexer": "ipython3",
   "version": "3.10.7"
  },
  "toc": {
   "base_numbering": 1,
   "nav_menu": {},
   "number_sections": true,
   "sideBar": true,
   "skip_h1_title": false,
   "title_cell": "Table of Contents",
   "title_sidebar": "Contents",
   "toc_cell": false,
   "toc_position": {},
   "toc_section_display": true,
   "toc_window_display": false
  }
 },
 "nbformat": 4,
 "nbformat_minor": 5
}

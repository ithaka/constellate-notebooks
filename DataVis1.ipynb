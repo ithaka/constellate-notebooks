{
 "cells": [
  {
   "cell_type": "markdown",
   "id": "666c3a89-f05e-49f5-b853-9e25dd51d2c2",
   "metadata": {},
   "source": [
    "This notebook is created by Zhuo Chen under [Creative Commons CC BY License](https://creativecommons.org/licenses/by/4.0/).\n",
    "\n",
    "For questions/comments/improvements, email zhuo.chen@ithaka.org or nathan.kelber@ithaka.org.<br />"
   ]
  },
  {
   "cell_type": "markdown",
   "id": "872b79e8-dedd-4893-8293-dabb38894b77",
   "metadata": {
    "execution": {
     "iopub.execute_input": "2023-03-08T14:54:56.347239Z",
     "iopub.status.busy": "2023-03-08T14:54:56.346262Z",
     "iopub.status.idle": "2023-03-08T14:54:56.360091Z",
     "shell.execute_reply": "2023-03-08T14:54:56.358349Z",
     "shell.execute_reply.started": "2023-03-08T14:54:56.347186Z"
    },
    "tags": []
   },
   "source": [
    "# Data Visualization\n",
    "\n",
    "This is lesson 1 of 3 in the educational series on **Data Visualization**. \n",
    "\n",
    "**Description:** This notebook discusses:\n",
    "\n",
    "* What is a good visualization\n",
    "* How one can lie using data visualizations\n",
    "* Factors to consider when making data visualizations\n",
    "\n",
    "**Use case:** For Learners (Detailed explanation, not ideal for researchers)\n",
    "\n",
    "**Difficulty:** Intermediate\n",
    "\n",
    "**Completion time:** 90 minutes\n",
    "\n",
    "**Knowledge Required:** \n",
    "\n",
    "* Python basics ([start learning Python basics](./python-basics-1.ipynb))\n",
    "* Pandas ([start learning Pandas](./pandas_1.ipynb))\n",
    "\n",
    "**Knowledge Recommended:**\n",
    "\n",
    "Objects, attributes and methods ([start learning OOP](./python_intermediate_4.ipynb))\n",
    "\n",
    "**Data Format**: .csv\n",
    "\n",
    "**Libraries Used**: Pandas, Matplotlib\n",
    "\n",
    "**Research Pipeline**: None\n",
    "\n",
    "___"
   ]
  },
  {
   "cell_type": "markdown",
   "id": "625b66dc-accd-4acf-95c3-e7cab8d024f6",
   "metadata": {},
   "source": [
    "# Introduction\n",
    "\n",
    "In our daily life, we are exposed to all kinds of visualizations, on TV, social media, newspapers, magazines, websites, etc. \n",
    "\n",
    "In this series, we focus on data visualizations. Particularly, we focus on the data visualizations designed to **inform the audience** so as to **increase their understanding**. Those data visualizations made to entertain or sell products are not the topic of this series. \n",
    "\n",
    "# What is a good visualization?\n",
    "\n",
    "In his book [The Truthful Art](http://www.thefunctionalart.com/p/the-truthful-art-book.html), Alberto Cairo proposes a five-part framework to evaluate the qualities of a data visualization. He says that a good data visualization should be :\n",
    "\n",
    "* Truthful\n",
    "* Functional\n",
    "* Beautiful\n",
    "* Insightful\n",
    "* Enlightening\n",
    "\n",
    "\n",
    "## Truthful\n",
    "\n",
    "A good data visualization is truthful. This requires us to:\n",
    "\n",
    "* be honest with ourselves; \n",
    "* be honest with our audience \n",
    "\n",
    "First, we should be honest with ourselves. Ask whether the way we clean and summarize the data biases toward a certain conclusion. We should not have a pre-determined conclusion in mind and then look for data to support it. \n",
    "\n",
    "\n",
    "Second, we should be honest with our audience. We use data visualizations to convey our best understanding of the reality. If a data visualization hides data from the audience or misleads the audience, it is not a good data visualization no matter how clear and attrative it is. \n",
    "\n",
    "### Charts can lie\n",
    "\n",
    "Here is a clip from the 2021 Hulu drama series Dopesick that shows a person who is not trained as a data scientist could easily fall into the trap of a misleading data visualization. "
   ]
  },
  {
   "cell_type": "code",
   "execution_count": null,
   "id": "8600e5e5-fd13-4de6-8aba-ec34c13b3c53",
   "metadata": {
    "tags": []
   },
   "outputs": [],
   "source": [
    "from IPython.display import HTML\n",
    "HTML(\"\"\"<div align=\"center\">\n",
    "    <iframe width=\"700\" height=\"450\"\n",
    "    src=\"https://www.youtube.com/embed/y305az3PQLk?controls=0\"\n",
    "    </iframe>\n",
    "</div>\n",
    "\"\"\")"
   ]
  },
  {
   "cell_type": "markdown",
   "id": "b5973de8-003b-46de-a552-7a91e9d0d2d7",
   "metadata": {},
   "source": [
    "\n",
    "\n",
    "\n",
    "### Exercise\n",
    "\n",
    "Here is an example from [How Charts Lie](http://www.thefunctionalart.com/p/reviews.html) authored by Alberto Cairo. In July 2012, Fox News uses a chart to argue for a consequence of President Barack Obama's plan to let President George W. Bush's cuts to the top federal tax rate expire. The percent number on the red bar is hiddedn right now. What message do you think Fox News wants to convey in this chart?\n",
    "\n",
    "\n",
    "<img src=\"https://ithaka-labs.s3.amazonaws.com/static-files/images/tdm/tdmdocs/DataVis_BarTax1.pdf\" width=500>"
   ]
  },
  {
   "cell_type": "markdown",
   "id": "da2277b0-e970-47d7-9cd8-8076450290b8",
   "metadata": {},
   "source": [
    "Now with the number revealed, do you still believe the message intended by the chart?\n",
    "\n",
    "<img src=\"https://ithaka-labs.s3.amazonaws.com/static-files/images/tdm/tdmdocs/DataVis_BarTax2.pdf\" width=500>"
   ]
  },
  {
   "cell_type": "markdown",
   "id": "2c21b876-c996-459e-84da-6ebb78906f13",
   "metadata": {},
   "source": [
    "## Functional\n",
    "\n",
    "When we talk about whether a graphic is functional, we mean whether the chosen graphic form best helps the audience interpret the conveyed information. There are two main questions to consider when choosing a graphic form:\n",
    "\n",
    "* What purpose does the graphic serve? \n",
    "\n",
    "To answer this question, think about what kind of information the audience seeks when reading the graphic.\n",
    "\n",
    "* How to shape the information to help the audience achieve the purpose?\n",
    "\n",
    "To answer this question, think about how you could shape the information in a way that people can interpret easily and effectively.  \n",
    "\n",
    "### The importance of the form of a graphic\n",
    "\n",
    "In his book [The Functional Art](http://www.thefunctionalart.com/p/about-book.html), Alberto Cairo emphasizes that functions constrain forms. In this section, we will see how the function of a data visualization influences the choice of its form.\n",
    "\n",
    "Suppose you are interested in the workforce data in Massachusetts. You would like to find out the data for November and December of 2022 in different counties of the state. There is a specific question that you are interested in: \n",
    "\n",
    "1. Which county saw the biggest growth in unemployent rate from November to December?\n",
    "\n",
    "As a reader, which graphic would you choose? \n",
    "\n",
    "#### Graphic 1"
   ]
  },
  {
   "cell_type": "code",
   "execution_count": null,
   "id": "2496994a-a74c-480f-ba91-2dbaea53d07d",
   "metadata": {
    "tags": []
   },
   "outputs": [],
   "source": [
    "# Download the data\n",
    "import urllib.request\n",
    "import zipfile\n",
    "from pathlib import Path\n",
    "\n",
    "urls = ['https://ithaka-labs.s3.amazonaws.com/static-files/images/tdm/tdmdocs/DataVis1_CountyComparison_preprocessed.csv',\n",
    "       'https://s3.us-east-1.amazonaws.com/download.massgis.digital.mass.gov/shapefiles/state/counties.zip']\n",
    "for url in urls:\n",
    "    urllib.request.urlretrieve(url, './data/' + url.rsplit('/', 1)[-1])\n",
    "    \n",
    "with zipfile.ZipFile(\"./data/counties.zip\", \"r\") as zip_ref:\n",
    "    zip_ref.extractall(\"./data/counties\")\n",
    "\n",
    "countyzip_path = Path.cwd() / 'data' / 'counties.zip'\n",
    "countyzip_path.unlink()\n",
    "print('Samples files retrieved.')"
   ]
  },
  {
   "cell_type": "code",
   "execution_count": null,
   "id": "288e7572-a15c-48d4-8590-f828abf08391",
   "metadata": {},
   "outputs": [],
   "source": [
    "# Install geopandas\n",
    "!pip install geopandas"
   ]
  },
  {
   "cell_type": "code",
   "execution_count": null,
   "id": "380d8e10-dcb1-4f78-ade4-7b6a08ebd466",
   "metadata": {
    "tags": []
   },
   "outputs": [],
   "source": [
    "# Plot the unemployment rate increase by county in MA \n",
    "# On a county map of MA\n",
    "\n",
    "import pandas as pd\n",
    "import geopandas as gpd\n",
    "import matplotlib.pyplot as plt\n",
    "\n",
    "# Read in the unemployment data in Nov&Dec of 2022\n",
    "unemp = pd.read_csv('./data/DataVis1_CountyComparison_preprocessed.csv') \n",
    "\n",
    "# Create a new column storing the change in umemployment rate\n",
    "unemp['Difference'] = round(unemp['Dec Rate'].astype(float) - unemp['Nov Rate'].astype(float),2)\n",
    "\n",
    "# Remove the unnecessary columns\n",
    "unemp = unemp[['COUNTY', 'Difference']]\n",
    "\n",
    "# Preprocess the COUNTY column to prepare for later merging\n",
    "unemp['COUNTY'] = unemp['COUNTY'].str.upper()\n",
    "\n",
    "# Read in the geo data\n",
    "geo = gpd.read_file('./data/counties/COUNTIES_POLYM.shp')\n",
    "\n",
    "# Remove the unnecessary column\n",
    "geo = geo[['COUNTY', 'geometry']]\n",
    "\n",
    "# Merge the two dfs\n",
    "geo_unemp = geo.merge(unemp, on='COUNTY')\n",
    "\n",
    "# Add the longitude and latitude info for each county\n",
    "# to be used to add county name and unemployment data\n",
    "# to the map later\n",
    "geo_unemp['Longitude'] = [48000,\n",
    "                          215000, \n",
    "                          269000, \n",
    "                          230000, \n",
    "                          280000, \n",
    "                          90000, \n",
    "                          200000, \n",
    "                          100000, \n",
    "                          100000, \n",
    "                          300000, \n",
    "                          215000, \n",
    "                          240000,\n",
    "                          250000,\n",
    "                          150000]\n",
    "\n",
    "geo_unemp['Latitude'] = [910000,\n",
    "                         840000, \n",
    "                         788000, \n",
    "                         935000, \n",
    "                         823000, \n",
    "                         890000, \n",
    "                         915000, \n",
    "                         920000, \n",
    "                         869000, \n",
    "                         780000, \n",
    "                         875000, \n",
    "                         855000,\n",
    "                         895000,\n",
    "                         900000]\n",
    "\n",
    "# Plot the map\n",
    "ax_geo = geo_unemp.plot(figsize=(10, 10),scheme=\"quantiles\", cmap='Paired', legend=True)\n",
    "\n",
    "# Add the county name and unemployment rise/drop on the map\n",
    "for i in range(len(geo_unemp)):\n",
    "    plt.text(geo_unemp.Longitude[i],\n",
    "             geo_unemp.Latitude[i],\n",
    "             f\"{geo_unemp.COUNTY[i]}\\n{geo_unemp.Difference[i]}\",\n",
    "             size=8, weight='bold', color='black')\n",
    "\n",
    "# Add a line in the plot for Suffolk county\n",
    "ax_geo.plot([235000, 248000], [898000, 902000])\n",
    "\n",
    "# Add a title to the plot\n",
    "ax_geo.set_title('Unemployment Rate Increase by County\\n(November to December 2022)',fontsize=12)\n",
    "\n",
    "# Remove the ticks\n",
    "ax_geo.set_xticks([])\n",
    "ax_geo.set_yticks([]);"
   ]
  },
  {
   "cell_type": "markdown",
   "id": "783348a0-8e0d-4901-9fd5-325582ba70ee",
   "metadata": {
    "execution": {
     "iopub.execute_input": "2023-03-11T17:04:31.682512Z",
     "iopub.status.busy": "2023-03-11T17:04:31.682160Z",
     "iopub.status.idle": "2023-03-11T17:04:31.769211Z",
     "shell.execute_reply": "2023-03-11T17:04:31.768826Z",
     "shell.execute_reply.started": "2023-03-11T17:04:31.682490Z"
    },
    "tags": []
   },
   "source": [
    "#### Graphic 2"
   ]
  },
  {
   "cell_type": "code",
   "execution_count": null,
   "id": "cb46452d-d0ec-4f6f-b9a4-f87937690c57",
   "metadata": {
    "tags": []
   },
   "outputs": [],
   "source": [
    "# Prepare the data to be ploted\n",
    "geo_unemp = geo_unemp.sort_values(by='Difference')\n",
    " \n",
    "# Specify the x axis and y axis data\n",
    "ax_barh = geo_unemp.plot(x='COUNTY', y='Difference', kind='barh', color='sienna', legend=None)\n",
    "\n",
    "# Set the title\n",
    "ax_barh.set_title('Unemployment Rate Increase by County\\n(November to December 2022)',fontsize=12);\n",
    "\n",
    "# Add the xlabel\n",
    "ax_barh.set_xlabel('Unemployment Rate Increase');"
   ]
  },
  {
   "cell_type": "markdown",
   "id": "cc9742f2-b320-4856-a8b2-c792aca8681c",
   "metadata": {},
   "source": [
    "In the above scenario, you have made a choice as a reader. It is a good practice to put yourself in the shoes of the target readers because it helps you choose the functional graphic form. "
   ]
  },
  {
   "cell_type": "markdown",
   "id": "70e86596-f8ef-4583-a8ad-f67e8e624a6e",
   "metadata": {},
   "source": [
    "## Beautiful\n",
    "\n",
    "When it comes to information charts, i.e., the kind of data visualization we focus on in this series, many experts resist using visual embellishments because they think such excessive elements are distracting and often cause interpretation problems. Edward R. Tufte, for example, calls the embelliments in charts *chartjunk*. He argues that a good visual design communites the most possible information using the least possible ink. On the other hand, however, research shows that embellishments can be useful because they sometimes help comprehension and lead to long-term recall ([Bateman et al. 2010](https://www.researchgate.net/publication/221517808_Useful_Junk_The_effects_of_visual_embellishment_on_comprehension_and_memorability_of_charts)). \n",
    "\n",
    "Let's take a look at an example from [Bateman et al.'s](https://www.researchgate.net/publication/221517808_Useful_Junk_The_effects_of_visual_embellishment_on_comprehension_and_memorability_of_charts) paper. \n",
    "\n",
    "There are two charts in this paper that present exactly the same information: the price change of a one-carat D-flawless diamond from 1978 - 1982. If you are a reader, which chart do you think is more effective in terms of conveying this information? \n",
    "\n",
    "\n",
    "### The Beauty Paradox\n",
    "\n",
    "In his book [The Functional Art](http://www.thefunctionalart.com/p/about-book.html), Alberto Cairo uses the term \"the beauty paradox\" to describe the difficult choice between the minimalist design and the embellished design. If you ask which design is better, there is no absolute right answer. It depends on the audience, their knowledge, taste, expectations, etc. \n",
    "\n",
    "Despite the seeming conflict between the two approaches to visual design, however, Alberto Cairo argues that a middle ground can be found between them. After all, the ultimate goals of making a visual deisgn are shared by the two approaches. That is, a visual design presents information and it helps the readers explore that information. Using these two goals as guiding principles, the creators will achieve a balance between radical minimalism and the so-called chartjunk kind of design. "
   ]
  },
  {
   "cell_type": "markdown",
   "id": "d961cd2f-4985-481b-a7f3-fd6524ea7e8e",
   "metadata": {},
   "source": [
    "## Insightful\n",
    "\n",
    "According to [Chang et al.](https://viscenter.charlotte.edu/sites/viscenter.charlotte.edu/files/CVC-UNCC-08-34_0.pdf)(2009), there are several kinds of insight in visualizations. One is **spontaneous insight**. Spontaneous insight often comes directly from the graphic summary of the data. For example, in the previous section, we have seen two graphics showing the price change of a one-carat D-flawless diamond from 1978 - 1982. We immediately noticed the spike in 1980. This is the spontaneous insight we got from the graphics.\n",
    "\n",
    "Another kind of insight is **knowledge-building insight**. When we play with an interactive visualization, it allows us to explore the information in a gradual way and in this deliberate process of exploration, we often get more knowledge. \n",
    "\n",
    "Here is an example from [The Truthful Art](http://www.thefunctionalart.com/p/the-truthful-art-book.html). \n",
    "\n",
    "https://www.scientificamerican.com/article/how-nations-fare-in-phds-by-sex-interactive1/\n",
    "\n",
    "On this page you find an interactive graphics that shows the PhD gender gap by country. If we do not categorize the areas of the PhD degrees, you see that the US does really a good job in awarding about the same percentage of PhD degrees to both females and males. \n",
    "\n",
    "Now click the little arrow to the left of \"All PhDs\" to access \"Social and Behavioral\", what do you find? \n",
    "\n",
    "Now click the little arrow to access \"Math & Computer Science\", what do you find?\n",
    "\n"
   ]
  },
  {
   "cell_type": "markdown",
   "id": "fd093c1e-345c-4e6e-802f-3d9cc93b979f",
   "metadata": {},
   "source": [
    "## Enlightening\n",
    "\n",
    "An enlightening graphic sheds light on the topic it encodes information for. When we make visualizations, we would want to choose topics that are of more importance to the well-being to the human society. \n",
    "\n",
    "In the PhD gender gap graphic, for example, the topic is well chosen as it provokes people to think about the gender inequality in science and engineering. Calling policy-makers' attention to such gender gap may lead to efforts to promote gener equity in the education of science and engineering. \n",
    "\n",
    "The four qualities discussed in the previous sections are the prerequisites of making an enlightening graphic. To make an enlightening graphic,we will need to make it truthful, functional, beautiful and insightful. "
   ]
  },
  {
   "cell_type": "markdown",
   "id": "81b8258b-5c0c-4c66-b2cc-42e031acb3c1",
   "metadata": {},
   "source": [
    "# A quick review of Pandas\n",
    "\n",
    "Before making a data visualization, we always need to preprocess the raw data at hand to prepare for plot-drawing later. In the previous section, we have seen an example where we study the unemployment data in Massachusetts. In that example, the sample .csv file has been preprocessed in advance to help you focus on the steps of creating a visualization. In this section, as a review of Pandas, I will let you download the original .csv file from [Mass.gov](https://lmi.dua.eol.mass.gov/lmi/LaborForceAndUnemployment/CountyComparison) and preprocess it. \n",
    "\n",
    "___\n",
    "<h2 style=\"color:red; display:inline\">Coding Challenge! &lt; / &gt; </h2>\n",
    "\n",
    "Preprocess the original .csv file from Mass.gov to make it exactly the same as the \n",
    "___"
   ]
  },
  {
   "cell_type": "code",
   "execution_count": null,
   "id": "6c479023-3ced-4616-bcb1-90f163301454",
   "metadata": {
    "tags": []
   },
   "outputs": [],
   "source": [
    "# Download the raw file from the link Mass.gov\n",
    "# Save it to the data folder\n"
   ]
  },
  {
   "cell_type": "code",
   "execution_count": null,
   "id": "e3243bab-495c-44dd-90cf-2bdf1bbebd09",
   "metadata": {},
   "outputs": [],
   "source": [
    "# Create a dataframe from the raw file"
   ]
  },
  {
   "cell_type": "code",
   "execution_count": null,
   "id": "20883df0-0cf7-4510-a0d2-6454f9769ba2",
   "metadata": {
    "tags": []
   },
   "outputs": [],
   "source": [
    "# Use .head() method to take a look at \n",
    "# the preprocessed file and the raw file\n"
   ]
  },
  {
   "cell_type": "code",
   "execution_count": null,
   "id": "8ee2429c-f650-40f5-865c-9361716534f9",
   "metadata": {
    "tags": []
   },
   "outputs": [],
   "source": [
    "# Use what you have learned from Pandas class\n",
    "# to preprocess the data in the raw file to make \n",
    "# the raw file look the same as the preprocessed file\n"
   ]
  },
  {
   "cell_type": "markdown",
   "id": "a3805934",
   "metadata": {},
   "source": [
    "# References\n",
    "\n",
    "Bateman, S., Mandryk, R. L., Gutwin, C., Genest, A., McDine, D., & Brooks, C. (2010, April). Useful junk? The effects of visual embellishment on comprehension and memorability of charts. In *Proceedings of the SIGCHI conference on human factors in computing systems* (pp. 2573-2582).\n",
    "\n",
    "Cairo, A. (2012). *The Functional Art: An introduction to information graphics and visualization*. New Riders.\n",
    "\n",
    "Cairo, A. (2016). *The Truthful Art: Data, charts, and maps for communication*. New Riders.\n",
    "\n",
    "Cairo, A. (2019). *How Charts Lie: Getting smarter about visual information*. WW Norton & Company.\n",
    "\n",
    "Chang, R., Ziemkiewicz, C., Green, T. M., & Ribarsky, W. (2009). Defining insight for visual analytics. *IEEE Computer Graphics and Applications, 29*(2), 14-17."
   ]
  },
  {
   "cell_type": "markdown",
   "id": "63a74999-8594-47d7-a93e-1c2ed183ac57",
   "metadata": {},
   "source": [
    "___\n",
    "## Lesson Complete\n",
    "\n",
    "Congratulations! You have completed *Data Visualization 1*.\n",
    "\n",
    "### Start Next Lesson: [Data Visualization 2](./data_vis2.ipynb)\n",
    "\n",
    "### Exercise Solutions\n",
    "Here are the solution for the coding exercise in this lesson.\n",
    "\n",
    "#### Use Pandas to preprocess an example .csv file"
   ]
  },
  {
   "cell_type": "code",
   "execution_count": null,
   "id": "95ed06e2-a856-4826-ae08-bd97c4c732f7",
   "metadata": {
    "tags": []
   },
   "outputs": [],
   "source": [
    "# Download the raw file\n",
    "import urllib.request\n",
    "url = 'https://lmi.dua.eol.mass.gov/lmi/LaborForceAndUnemployment/CountyComparisonCSV'\n",
    "urllib.request.urlretrieve(url, './data/' + url.rsplit('/', 1)[-1])\n",
    "print('Raw file retrieved.')"
   ]
  },
  {
   "cell_type": "code",
   "execution_count": null,
   "id": "f561d118-3e9b-41ec-a31e-4e8e2983dc3b",
   "metadata": {
    "tags": []
   },
   "outputs": [],
   "source": [
    "# Create a dataframe from the raw file and \n",
    "# take a look at it using .head()\n",
    "raw = pd.read_csv('./data/CountyComparisonCSV')\n",
    "raw.head()"
   ]
  },
  {
   "cell_type": "code",
   "execution_count": null,
   "id": "45afb1b2-e68a-4926-92f7-5ee4ea6c9445",
   "metadata": {
    "tags": []
   },
   "outputs": [],
   "source": [
    "### Preprocess the file\n",
    "\n",
    "col_n = raw.shape[1] # Get how many columns there are\n",
    "\n",
    "# Drop the columns with 2021 data\n",
    "col_to_drop = range(3, col_n, 3) \n",
    "raw = raw.drop(raw.columns[col_to_drop], axis=1)\n",
    "\n",
    "# Drop the first two rows\n",
    "raw = raw.drop([0, 1]).reset_index(drop=True)"
   ]
  },
  {
   "cell_type": "code",
   "execution_count": null,
   "id": "e6b0f80b-f054-4f56-be65-9e8e3f639aa5",
   "metadata": {
    "tags": []
   },
   "outputs": [],
   "source": [
    "# Rename the columns\n",
    "col_names = [f'Nov {name}' if name.endswith('.1') else name for name in raw.columns]\n",
    "col_names = [name.replace('.1', '') for name in col_names]\n",
    "add_dec = range(1, 9, 2)\n",
    "col_names = [f'Dec {name}' if col_names.index(name) in add_dec else name for name in col_names]\n",
    "col_names[0] = 'COUNTY'\n",
    "raw.columns = col_names"
   ]
  },
  {
   "cell_type": "code",
   "execution_count": null,
   "id": "7db28c9a-8e8a-417a-8b63-065330fd9b49",
   "metadata": {
    "tags": []
   },
   "outputs": [],
   "source": [
    "# Upper case all the county names in the first column\n",
    "raw.COUNTY = [county.split()[0].upper() for county in raw.COUNTY]"
   ]
  },
  {
   "cell_type": "code",
   "execution_count": null,
   "id": "7f0b81a9-a35a-4a16-8691-6a5cf7d2df45",
   "metadata": {
    "tags": []
   },
   "outputs": [],
   "source": [
    "# Take a look at the resulting preprocessed raw file\n",
    "raw"
   ]
  },
  {
   "cell_type": "code",
   "execution_count": null,
   "id": "85d45879-55c6-474a-ad03-55ffbcfad1e1",
   "metadata": {},
   "outputs": [],
   "source": []
  }
 ],
 "metadata": {
  "kernelspec": {
   "display_name": "Python 3 (ipykernel)",
   "language": "python",
   "name": "python3"
  },
  "language_info": {
   "codemirror_mode": {
    "name": "ipython",
    "version": 3
   },
   "file_extension": ".py",
   "mimetype": "text/x-python",
   "name": "python",
   "nbconvert_exporter": "python",
   "pygments_lexer": "ipython3",
   "version": "3.10.7"
  },
  "toc": {
   "base_numbering": 1,
   "nav_menu": {},
   "number_sections": true,
   "sideBar": true,
   "skip_h1_title": false,
   "title_cell": "Table of Contents",
   "title_sidebar": "Contents",
   "toc_cell": false,
   "toc_position": {},
   "toc_section_display": true,
   "toc_window_display": false
  }
 },
 "nbformat": 4,
 "nbformat_minor": 5
}

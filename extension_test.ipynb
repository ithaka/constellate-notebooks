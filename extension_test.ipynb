{
 "cells": [
  {
   "cell_type": "code",
   "execution_count": null,
   "id": "38c5847d-2a0d-40f7-9593-e159f2b84d19",
   "metadata": {
    "execution": {
     "iopub.execute_input": "2023-03-06T03:28:02.337394Z",
     "iopub.status.busy": "2023-03-06T03:28:02.337028Z",
     "iopub.status.idle": "2023-03-06T03:28:02.993250Z",
     "shell.execute_reply": "2023-03-06T03:28:02.992872Z",
     "shell.execute_reply.started": "2023-03-06T03:28:02.337370Z"
    },
    "tags": []
   },
   "outputs": [],
   "source": [
    "import plotly.express as px\n",
    "fig = px.bar(x=[\"a\", \"b\", \"c\"], y=[1, 3, 2])\n",
    "fig.show()"
   ]
  },
  {
   "cell_type": "code",
   "execution_count": null,
   "id": "2f6d8f37-1ba6-4b8f-8bfa-d4661bbc792e",
   "metadata": {
    "execution": {
     "iopub.execute_input": "2023-03-06T16:33:20.677773Z",
     "iopub.status.busy": "2023-03-06T16:33:20.677343Z"
    },
    "tags": []
   },
   "outputs": [],
   "source": [
    "import plotly.graph_objects as go # or plotly.express as px\n",
    "fig = go.Figure() # or any Plotly Express function e.g. px.bar(...)\n",
    "# fig.add_trace( ... )\n",
    "# fig.update_layout( ... )\n",
    "\n",
    "import dash\n",
    "from dash import dcc\n",
    "from dash import html\n",
    "app = dash.Dash()\n",
    "app.layout = html.Div([\n",
    "    dcc.Graph(figure=fig)\n",
    "])\n",
    "\n",
    "app.run_server(debug=True, use_reloader=False)  # Turn off reloader if inside Jupyter"
   ]
  },
  {
   "cell_type": "code",
   "execution_count": null,
   "id": "377155fd-7f13-4b12-a9e1-f8b49077ec1a",
   "metadata": {
    "execution": {
     "iopub.execute_input": "2023-03-06T17:15:01.221369Z",
     "iopub.status.busy": "2023-03-06T17:15:01.220339Z",
     "iopub.status.idle": "2023-03-06T17:15:02.256043Z",
     "shell.execute_reply": "2023-03-06T17:15:02.255715Z",
     "shell.execute_reply.started": "2023-03-06T17:15:01.221305Z"
    },
    "tags": []
   },
   "outputs": [],
   "source": [
    "%matplotlib notebook\n",
    "import matplotlib.pyplot as plt\n",
    "import matplotlib.animation as animation\n",
    "from matplotlib.animation import FuncAnimation\n",
    "import numpy as np"
   ]
  },
  {
   "cell_type": "code",
   "execution_count": null,
   "id": "80dd265e-231f-43a5-a4d4-005e298e5a45",
   "metadata": {
    "execution": {
     "iopub.execute_input": "2023-03-06T17:15:02.256942Z",
     "iopub.status.busy": "2023-03-06T17:15:02.256814Z",
     "iopub.status.idle": "2023-03-06T17:15:02.276042Z",
     "shell.execute_reply": "2023-03-06T17:15:02.275663Z",
     "shell.execute_reply.started": "2023-03-06T17:15:02.256931Z"
    },
    "tags": []
   },
   "outputs": [],
   "source": [
    "fig, ax = plt.subplots()\n",
    "t = np.linspace(0, 3, 40)\n",
    "g = -9.81\n",
    "v0 = 12\n",
    "z = g * t**2 / 2 + v0 * t\n",
    "\n",
    "v02 = 5\n",
    "z2 = g * t**2 / 2 + v02 * t\n",
    "\n",
    "scat = ax.scatter(t[0], z[0], c=\"b\", s=5, label=f'v0 = {v0} m/s')\n",
    "line2 = ax.plot(t[0], z2[0], label=f'v0 = {v02} m/s')[0]\n",
    "ax.set(xlim=[0, 3], ylim=[-4, 10], xlabel='Time [s]', ylabel='Z [m]')\n",
    "ax.legend()\n",
    "\n",
    "\n",
    "def update(frame):\n",
    "    # for each frame, update the data stored on each artist.\n",
    "    x = t[:frame]\n",
    "    y = z[:frame]\n",
    "    # update the scatter plot:\n",
    "    data = np.stack([x, y]).T\n",
    "    scat.set_offsets(data)\n",
    "    # update the line plot:\n",
    "    line2.set_xdata(t[:frame])\n",
    "    line2.set_ydata(z2[:frame])\n",
    "    return (scat, line2)\n",
    "ani = animation.FuncAnimation(fig=fig, func=update, frames=40, interval=30)\n",
    "plt.show()"
   ]
  },
  {
   "cell_type": "code",
   "execution_count": null,
   "id": "8754b18e-614a-4cbd-b87e-2ecd23ce8ff5",
   "metadata": {
    "execution": {
     "iopub.execute_input": "2023-03-06T17:00:06.243197Z",
     "iopub.status.busy": "2023-03-06T17:00:06.242181Z",
     "iopub.status.idle": "2023-03-06T17:00:06.250939Z",
     "shell.execute_reply": "2023-03-06T17:00:06.250264Z",
     "shell.execute_reply.started": "2023-03-06T17:00:06.243143Z"
    },
    "tags": []
   },
   "outputs": [],
   "source": []
  },
  {
   "cell_type": "code",
   "execution_count": null,
   "id": "9ecd835c-d10b-47e4-8433-5353681aa46d",
   "metadata": {
    "execution": {
     "iopub.execute_input": "2023-03-06T17:26:26.971730Z",
     "iopub.status.busy": "2023-03-06T17:26:26.971067Z",
     "iopub.status.idle": "2023-03-06T17:26:27.911094Z",
     "shell.execute_reply": "2023-03-06T17:26:27.910808Z",
     "shell.execute_reply.started": "2023-03-06T17:26:26.971697Z"
    }
   },
   "outputs": [],
   "source": [
    "%matplotlib widget\n",
    "\n",
    "import matplotlib.pyplot as plt\n",
    "import numpy as np"
   ]
  },
  {
   "cell_type": "code",
   "execution_count": null,
   "id": "0bd72879-3d21-4696-89df-ef1ff8b061ab",
   "metadata": {
    "execution": {
     "iopub.execute_input": "2023-03-06T17:26:28.517489Z",
     "iopub.status.busy": "2023-03-06T17:26:28.516317Z",
     "iopub.status.idle": "2023-03-06T17:26:28.617804Z",
     "shell.execute_reply": "2023-03-06T17:26:28.617416Z",
     "shell.execute_reply.started": "2023-03-06T17:26:28.517431Z"
    },
    "tags": []
   },
   "outputs": [],
   "source": [
    "from mpl_toolkits.mplot3d import axes3d\n",
    "\n",
    "fig = plt.figure()\n",
    "ax = fig.add_subplot(111, projection='3d')\n",
    "\n",
    "# Grab some test data.\n",
    "X, Y, Z = axes3d.get_test_data(0.05)\n",
    "\n",
    "# Plot a basic wireframe.\n",
    "ax.plot_wireframe(X, Y, Z, rstride=10, cstride=10)\n",
    "\n",
    "plt.show()"
   ]
  },
  {
   "cell_type": "code",
   "execution_count": null,
   "id": "10510165-5bab-47d6-84e6-4d032e3a317a",
   "metadata": {
    "execution": {
     "iopub.execute_input": "2023-03-06T17:27:12.884034Z",
     "iopub.status.busy": "2023-03-06T17:27:12.883103Z",
     "iopub.status.idle": "2023-03-06T17:27:12.952983Z",
     "shell.execute_reply": "2023-03-06T17:27:12.952501Z",
     "shell.execute_reply.started": "2023-03-06T17:27:12.883977Z"
    },
    "tags": []
   },
   "outputs": [],
   "source": [
    "import ipywidgets as widgets\n",
    "\n",
    "# ensure we are interactive mode \n",
    "# this is default but if this notebook is executed out of order it may have been turned off\n",
    "plt.ion()\n",
    "\n",
    "fig = plt.figure()\n",
    "ax = fig.gca()\n",
    "ax.imshow(Z)\n",
    "\n",
    "widgets.AppLayout(\n",
    "    center=fig.canvas,\n",
    "    footer=widgets.Button(icon='check'),\n",
    "    pane_heights=[0, 6, 1]\n",
    ")"
   ]
  },
  {
   "cell_type": "code",
   "execution_count": null,
   "id": "f7f7aab2-98af-4d08-8538-569e3db4327f",
   "metadata": {
    "execution": {
     "iopub.execute_input": "2023-03-06T17:29:59.289063Z",
     "iopub.status.busy": "2023-03-06T17:29:59.288571Z",
     "iopub.status.idle": "2023-03-06T17:29:59.366832Z",
     "shell.execute_reply": "2023-03-06T17:29:59.366461Z",
     "shell.execute_reply.started": "2023-03-06T17:29:59.289034Z"
    },
    "tags": []
   },
   "outputs": [],
   "source": [
    "import numpy as np\n",
    "import matplotlib.pyplot as plt\n",
    "import matplotlib.animation as animation\n",
    "\n",
    "plt.rcParams[\"figure.figsize\"] = [7.50, 3.50]\n",
    "plt.rcParams[\"figure.autolayout\"] = True\n",
    "data = np.random.randn(800).reshape(10, 10, 8)\n",
    "fig, ax = plt.subplots()\n",
    "\n",
    "def animate(i):\n",
    "   ax.clear()\n",
    "   ax.contourf(data[:, :, i])\n",
    "\n",
    "ani = animation.FuncAnimation(fig, animate, 5, interval=50, blit=False)\n",
    "plt.show()"
   ]
  },
  {
   "cell_type": "markdown",
   "id": "1aca72b1-7055-4d6f-a793-89f3d8d285ed",
   "metadata": {},
   "source": []
  },
  {
   "cell_type": "code",
   "execution_count": null,
   "id": "88e4420c-817d-46cc-a66a-097ce8cc9c11",
   "metadata": {},
   "outputs": [],
   "source": []
  }
 ],
 "metadata": {
  "kernelspec": {
   "display_name": "Python 3 (ipykernel)",
   "language": "python",
   "name": "python3"
  },
  "language_info": {
   "codemirror_mode": {
    "name": "ipython",
    "version": 3
   },
   "file_extension": ".py",
   "mimetype": "text/x-python",
   "name": "python",
   "nbconvert_exporter": "python",
   "pygments_lexer": "ipython3",
   "version": "3.10.7"
  }
 },
 "nbformat": 4,
 "nbformat_minor": 5
}

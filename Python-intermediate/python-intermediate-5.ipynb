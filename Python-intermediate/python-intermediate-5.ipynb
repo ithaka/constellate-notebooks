{
 "cells": [
  {
   "cell_type": "markdown",
   "id": "c101f26b",
   "metadata": {},
   "source": [
    "<img align=\"left\" src=\"https://ithaka-labs.s3.amazonaws.com/static-files/images/tdm/tdmdocs/CC_BY.png\"><br />\n",
    "\n",
    "This notebook is created by Zhuo Chen based on the notebooks created by [Nathan Kelber](http://nkelber.com) under [Creative Commons CC BY License](https://creativecommons.org/licenses/by/4.0/)<br />\n",
    "For questions/comments/improvements, email zhuo.chen@ithaka.org or nathan.kelber@ithaka.org<br />\n",
    "___\n",
    "\n",
    "\n",
    "# Python Intermediate 5\n",
    "\n",
    "**Description:** This notebook describes:\n",
    "* What is a generator\n",
    "* How to write a generator comprehension\n",
    "* The advantages of using a generator\n",
    " \n",
    "\n",
    "**Use Case:** For Learners (Detailed explanation, not ideal for researchers)\n",
    "\n",
    "**Difficulty:** Intermediate\n",
    "\n",
    "**Completion Time:** 60 minutes\n",
    "\n",
    "**Knowledge Required:** \n",
    "* Python Basics Series ([Start Python Basics 1](../Python-basics/python-basics-1.ipynb))\n",
    "\n",
    "**Knowledge Recommended:** None\n",
    "\n",
    "**Data Format:** None\n",
    "\n",
    "**Libraries Used:** None\n",
    "\n",
    "**Research Pipeline:** None\n",
    "___"
   ]
  },
  {
   "cell_type": "markdown",
   "id": "334fa8aa",
   "metadata": {},
   "source": [
    "# What is a generator?\n",
    "\n",
    "## A quick review of iterables in Python\n",
    "We have learned from [python intermediate 1](./python-intermediate-1.ipynb) that any Python object that allows its members to be iterated over in a for-loop is an **iterable**. Strings, lists, sets and dictionaries are all iterables. "
   ]
  },
  {
   "cell_type": "code",
   "execution_count": null,
   "id": "912ae57b",
   "metadata": {
    "tags": []
   },
   "outputs": [],
   "source": [
    "# Use a for loop to iterate over a list\n",
    "ls = [1, 2, 3]\n",
    "for num in ls:\n",
    "    print(num)"
   ]
  },
  {
   "cell_type": "code",
   "execution_count": null,
   "id": "3c09c371",
   "metadata": {
    "tags": []
   },
   "outputs": [],
   "source": [
    "# Use a for loop to iterate over a string\n",
    "s = 'abc'\n",
    "for l in s:\n",
    "    print(l)"
   ]
  },
  {
   "cell_type": "markdown",
   "id": "1fe038b6",
   "metadata": {},
   "source": [
    "## Iterator\n",
    "Python has a built-in function `iter()` which takes an **iterable** and returns an **iterator**. The iterator can be used to iterate over the input iterable."
   ]
  },
  {
   "cell_type": "code",
   "execution_count": null,
   "id": "76d631f5",
   "metadata": {
    "tags": []
   },
   "outputs": [],
   "source": [
    "# Use the built-in iter function to create an iterator out of the list stored in ls\n",
    "my_ls = iter(ls)\n",
    "type(my_ls)"
   ]
  },
  {
   "cell_type": "markdown",
   "id": "53f1221e",
   "metadata": {},
   "source": [
    "To access the values in the original list from this iterator, we need to use the `next()` function to get **one value at a time**."
   ]
  },
  {
   "cell_type": "code",
   "execution_count": null,
   "id": "28163250",
   "metadata": {
    "tags": []
   },
   "outputs": [],
   "source": [
    "# Use next() to get the first element from the list\n",
    "next(my_ls)"
   ]
  },
  {
   "cell_type": "code",
   "execution_count": null,
   "id": "b678e8df",
   "metadata": {
    "tags": []
   },
   "outputs": [],
   "source": [
    "# Use next() to get the second element from the list\n",
    "next(my_ls)"
   ]
  },
  {
   "cell_type": "markdown",
   "id": "3a2f9bba",
   "metadata": {},
   "source": [
    "# Generator\n",
    "A **generator** is a function that creates an **iterator**. Since an iterator yields one item at a time, we can define the simplest kind of generator using the following code. "
   ]
  },
  {
   "cell_type": "code",
   "execution_count": null,
   "id": "813f9963-88d9-45ba-8058-77c9c3d79562",
   "metadata": {
    "tags": []
   },
   "outputs": [],
   "source": [
    "# Define a very simple generator\n",
    "def simple_gen():\n",
    "    yield 1\n",
    "    yield 2\n",
    "    yield 3"
   ]
  },
  {
   "cell_type": "markdown",
   "id": "1a652d41-f5ad-43bf-9043-03cc78f8c300",
   "metadata": {},
   "source": [
    "You can use a for loop to iterate through the items in an iterator created by a generator. In this sense, an iterator is also an iterable in Python. "
   ]
  },
  {
   "cell_type": "code",
   "execution_count": null,
   "id": "99f89532-3b9e-4609-91c3-6f30848cd85b",
   "metadata": {
    "tags": []
   },
   "outputs": [],
   "source": [
    "# Use a for loop to iterate through the items \n",
    "# and print them out\n",
    "for i in simple_gen():\n",
    "    print(i)"
   ]
  },
  {
   "cell_type": "markdown",
   "id": "18673550-f2fa-4958-86f8-a0f559b7a47d",
   "metadata": {},
   "source": [
    "You can use the `next()` function to see that this simple generator actually yields one item at a time. "
   ]
  },
  {
   "cell_type": "code",
   "execution_count": null,
   "id": "37b87e34-3448-49d1-a68c-403e6bd9db08",
   "metadata": {
    "tags": []
   },
   "outputs": [],
   "source": [
    "# Assignt the iterator to a variable\n",
    "gen = simple_gen()"
   ]
  },
  {
   "cell_type": "code",
   "execution_count": null,
   "id": "a566325f-f154-40e1-b80c-30f778c1bb05",
   "metadata": {
    "tags": []
   },
   "outputs": [],
   "source": [
    "# yield the first item\n",
    "next(gen)"
   ]
  },
  {
   "cell_type": "code",
   "execution_count": null,
   "id": "b216c19c-ed1b-40ca-88bb-c6dce9628132",
   "metadata": {
    "tags": []
   },
   "outputs": [],
   "source": [
    "# yield the second item\n",
    "next(gen)"
   ]
  },
  {
   "cell_type": "code",
   "execution_count": null,
   "id": "73812689-6360-4c81-ad2a-ace27b3fb7fd",
   "metadata": {
    "tags": []
   },
   "outputs": [],
   "source": [
    "# yield the third item\n",
    "next(gen)"
   ]
  },
  {
   "cell_type": "markdown",
   "id": "4df76322-5dac-41c9-94d3-4dbedb3328ea",
   "metadata": {},
   "source": [
    "On the surface, generators look like ordinary functions, but they are actually very different. Let's use a simple example to understand the difference. "
   ]
  },
  {
   "cell_type": "code",
   "execution_count": null,
   "id": "03e04e6d",
   "metadata": {
    "tags": []
   },
   "outputs": [],
   "source": [
    "# Create a Python function which takes a list of numbers\n",
    "# and returns a list of numbers, each of which is two times\n",
    "# of the numbers in the input list\n",
    "\n",
    "def two_times(ls):\n",
    "    \"\"\"takes in a list of numbers and return a list of numbers, each of which\n",
    "    is two times of the numbers in the input list\"\"\"\n",
    "    new_ls = []\n",
    "    for n in ls:\n",
    "        new_ls.append(2*n)\n",
    "    return new_ls \n",
    "\n",
    "two_times([1, 2, 3])"
   ]
  },
  {
   "cell_type": "markdown",
   "id": "d40c1600",
   "metadata": {},
   "source": [
    "If we feed a list of numbers to this function, we get a new list back. Most importantly, the entire new list of numbers is stored in the memory."
   ]
  },
  {
   "cell_type": "markdown",
   "id": "fdbb4009",
   "metadata": {},
   "source": [
    "We can also create a Python generator to give us the same sequence of values. Note that a generator uses the `yield` statement. "
   ]
  },
  {
   "cell_type": "code",
   "execution_count": null,
   "id": "eb4d3f4e",
   "metadata": {
    "tags": []
   },
   "outputs": [],
   "source": [
    "# Create a Python generator\n",
    "\n",
    "def gen(ls): \n",
    "    \"\"\"takes in a list of numbers and create a generator which produces a list of numbers, \n",
    "    each of which is two times of the numbers in the input list\"\"\"\n",
    "    for n in ls:\n",
    "        yield 2*n \n",
    "        \n",
    "my_gen = gen([1, 2, 3]) "
   ]
  },
  {
   "cell_type": "markdown",
   "id": "6f36756e",
   "metadata": {},
   "source": [
    "Since a generator creates an iterator, the values will be yielded **one at a time**. "
   ]
  },
  {
   "cell_type": "code",
   "execution_count": null,
   "id": "766c7e9b",
   "metadata": {},
   "outputs": [],
   "source": [
    "# Use next () to yield one element from the iterable at a time\n",
    "next(my_gen) "
   ]
  },
  {
   "cell_type": "code",
   "execution_count": null,
   "id": "087a3574",
   "metadata": {},
   "outputs": [],
   "source": [
    "# Use next () to yield one element from the iterable at a time\n",
    "next(my_gen)"
   ]
  },
  {
   "cell_type": "code",
   "execution_count": null,
   "id": "bbefe73a",
   "metadata": {},
   "outputs": [],
   "source": [
    "# Use next () to yield one element from the iterable at a time\n",
    "next(my_gen)"
   ]
  },
  {
   "cell_type": "markdown",
   "id": "926c3b26",
   "metadata": {},
   "source": [
    "The generator is exhausted when all the items have been used. If we use `next()` function again, Python returns a `StopIteration` error."
   ]
  },
  {
   "cell_type": "code",
   "execution_count": null,
   "id": "7725e928",
   "metadata": {},
   "outputs": [],
   "source": [
    "# Use next () to yield one element from the iterable at a time\n",
    "next(my_gen)"
   ]
  },
  {
   "cell_type": "markdown",
   "id": "da4c7de0-2fb2-47a6-b226-c805bc265776",
   "metadata": {},
   "source": [
    "## Lists and generators\n",
    "A list stores all of its members. We can access any of its members via indexing. A generator, however, does not store any items. What it stores is the instructions for how to generate each of its members as well as the iteration state. For example, if a generator has generated its first member, it knows that it should generate its second member the next time. \n",
    "## The built-in generators\n",
    "Python has some built-in generators. You may not be aware of it, but you have actually used a built-in generator in the Python Basics series. It is the `enumerate()` function. "
   ]
  },
  {
   "cell_type": "code",
   "execution_count": null,
   "id": "7d24cb33-5af5-481b-9813-7bea6f4d346b",
   "metadata": {
    "tags": []
   },
   "outputs": [],
   "source": [
    "# An example from Python basics 3 \n",
    "# which uses enumerate()\n",
    "staff = ['Tara Richards',\n",
    " 'John Smith',\n",
    " 'Justin Douglas',\n",
    " 'Lauren Marquez',\n",
    " 'John Smith']\n",
    "\n",
    "# Use the enumerate function\n",
    "for index, name in enumerate(staff):\n",
    "    if name == 'John Smith':\n",
    "        print(index)"
   ]
  },
  {
   "cell_type": "code",
   "execution_count": null,
   "id": "c90433b4-9ca3-4de0-836c-6b95ca57c747",
   "metadata": {
    "tags": []
   },
   "outputs": [],
   "source": [
    "# Confirm that enumerate() is a generator\n",
    "staff_gen = enumerate(staff)"
   ]
  },
  {
   "cell_type": "code",
   "execution_count": null,
   "id": "9dd98c8b-52cd-4301-9841-4f82dce43686",
   "metadata": {
    "tags": []
   },
   "outputs": [],
   "source": [
    "# yield the first item\n",
    "next(staff_gen) "
   ]
  },
  {
   "cell_type": "code",
   "execution_count": null,
   "id": "b0406891-47e0-4fdc-a779-be94b895c51b",
   "metadata": {
    "tags": []
   },
   "outputs": [],
   "source": [
    "# yield the second item\n",
    "next(staff_gen) "
   ]
  },
  {
   "cell_type": "markdown",
   "id": "be4beb4e",
   "metadata": {},
   "source": [
    "<h2 style=\"color:red; display:inline\">Coding Challenge! &lt; / &gt; </h2>\n",
    "\n",
    "Create a string and then create a generator that can take the string as input."
   ]
  },
  {
   "cell_type": "code",
   "execution_count": null,
   "id": "436d7191",
   "metadata": {},
   "outputs": [],
   "source": []
  },
  {
   "cell_type": "markdown",
   "id": "7ff05854",
   "metadata": {},
   "source": [
    "# Generator comprehension"
   ]
  },
  {
   "cell_type": "markdown",
   "id": "4809c639",
   "metadata": {},
   "source": [
    "Python provides a shorter way to define a generator function, that is, generator comprehensions.\n",
    "Generator comprehensions basically have the same syntax as list comprehensions, except that they use parentheses `()` instead of hard brackets `[]`.\n",
    "\n",
    "Let's first quickly review how to write a list comprehension."
   ]
  },
  {
   "cell_type": "code",
   "execution_count": null,
   "id": "8a7cd0ce",
   "metadata": {
    "tags": []
   },
   "outputs": [],
   "source": [
    "# Create a list comprehension using hard brackets []\n",
    "numbers = [5,6,7,8,9]\n",
    "new_list = [num for num in numbers if num > 5]\n",
    "print(new_list)"
   ]
  },
  {
   "cell_type": "markdown",
   "id": "46a49539-203c-4ca5-92c2-0837a5cc28a4",
   "metadata": {},
   "source": [
    "Then, let's create a generator which will generate the same sequence of values as the new list above, but only one at a time. "
   ]
  },
  {
   "cell_type": "code",
   "execution_count": null,
   "id": "2654a034",
   "metadata": {
    "tags": []
   },
   "outputs": [],
   "source": [
    "# Create a generator using parentheses\n",
    "new_gen = (num for num in numbers if num > 5)"
   ]
  },
  {
   "cell_type": "code",
   "execution_count": null,
   "id": "bd6d1db4",
   "metadata": {
    "tags": []
   },
   "outputs": [],
   "source": [
    "# Yield the values one at a time\n",
    "next(new_gen)"
   ]
  },
  {
   "cell_type": "code",
   "execution_count": null,
   "id": "67333087",
   "metadata": {
    "tags": []
   },
   "outputs": [],
   "source": [
    "next(new_gen)"
   ]
  },
  {
   "cell_type": "code",
   "execution_count": null,
   "id": "833e9d5f",
   "metadata": {
    "tags": []
   },
   "outputs": [],
   "source": [
    "next(new_gen)"
   ]
  },
  {
   "cell_type": "code",
   "execution_count": null,
   "id": "2fb36a34",
   "metadata": {
    "tags": []
   },
   "outputs": [],
   "source": [
    "next(new_gen)"
   ]
  },
  {
   "cell_type": "markdown",
   "id": "e2f6905f",
   "metadata": {},
   "source": [
    "Again, when all the items have been yielded, if we use `next()` function again, Python returns a `StopIteration` error."
   ]
  },
  {
   "cell_type": "code",
   "execution_count": null,
   "id": "681a0c3c",
   "metadata": {},
   "outputs": [],
   "source": [
    "# Yield the next generator output\n",
    "next(new_gen)"
   ]
  },
  {
   "cell_type": "markdown",
   "id": "2aee743d-e0f2-4f0d-84a1-6f8eb55d7f7f",
   "metadata": {},
   "source": [
    "Recall that list comprehension can create a list based on any kind of iterables in Python. This is true for generator comprehension as well. In the previous example, we created a generator based on a list. In the code cell, let's create a generator based on a dictionary using generator comprehension."
   ]
  },
  {
   "cell_type": "code",
   "execution_count": null,
   "id": "1f59b30b-57be-42c1-a722-a2922aaa7810",
   "metadata": {
    "tags": []
   },
   "outputs": [],
   "source": [
    "# Create a generator based on a dictionary using \n",
    "# generator comprehension\n",
    "contacts ={\n",
    " 'Amanda Bennett': 'Engineer, electrical',\n",
    " 'Bryan Miller': 'Radiation protection practitioner',\n",
    " 'Christopher Garrison': 'Planning and development surveyor',\n",
    " 'Debra Allen': 'Intelligence analyst',\n",
    " 'Donna Decker': 'Architect',\n",
    " 'Heather Bullock': 'Media planner',\n",
    " 'Jason Brown': 'Energy manager',\n",
    " 'Jason Soto': 'Lighting technician, broadcasting/film/video',\n",
    " 'Marissa Munoz': 'Further education lecturer',\n",
    " 'Matthew Mccall': 'Chief Technology Officer',\n",
    " 'Michael Norman': 'Translator',\n",
    " 'Nicole Leblanc': 'Financial controller',\n",
    " 'Noah Delgado': 'Engineer, land',\n",
    " 'Rachel Charles': 'Physicist, medical',\n",
    " 'Stephanie Petty': 'Architect'}\n",
    "\n",
    "contact_gen = (name for name, occupation in contacts.items() if 'Engineer' in occupation)"
   ]
  },
  {
   "cell_type": "code",
   "execution_count": null,
   "id": "74fb9932-89b8-48c2-b074-33db6f940f1c",
   "metadata": {
    "tags": []
   },
   "outputs": [],
   "source": [
    "# Yield the first item\n",
    "next(contact_gen)"
   ]
  },
  {
   "cell_type": "code",
   "execution_count": null,
   "id": "fab3e591-3fbf-4a0a-813b-d377f1fdfcd6",
   "metadata": {
    "tags": []
   },
   "outputs": [],
   "source": [
    "# Yield the second item\n",
    "next(contact_gen)"
   ]
  },
  {
   "cell_type": "markdown",
   "id": "6dc812d0",
   "metadata": {},
   "source": [
    "# The advantages of generators"
   ]
  },
  {
   "cell_type": "markdown",
   "id": "36300a75",
   "metadata": {},
   "source": [
    "Generators do not hold the entire result in the memory. It yields one item at a time. Because a generator only has to yield one item at a time, it can lead to significant savings in memory usage. "
   ]
  },
  {
   "cell_type": "code",
   "execution_count": null,
   "id": "53f8ee32",
   "metadata": {
    "tags": []
   },
   "outputs": [],
   "source": [
    "# Demonstrate the memory size difference of \n",
    "# a list comprehension vs generator comprehension\n",
    "\n",
    "# Import getsizeof which measures memory usage in bytes\n",
    "from sys import getsizeof\n",
    "  \n",
    "list_comprehension = [i for i in range(10000)]\n",
    "generator_comprehension = (i for i in range(10000))\n",
    "  \n",
    "# Print the size of the list comprehension\n",
    "print('List comprehension memory usage: ', getsizeof(list_comprehension))\n",
    "\n",
    "# Print the size of the generator comprehension\n",
    "print('Generator comprehension memory usage: ', getsizeof(generator_comprehension))"
   ]
  },
  {
   "cell_type": "markdown",
   "id": "0eb687c8",
   "metadata": {},
   "source": [
    "Since a generator occupies less memory, using a generator instead of a normal iterable like a list can lead to a performace boost. This advantage in performance is especially helpful when you have a really big dataset with hundreds of thousands of items or even millions of items to loop through. "
   ]
  },
  {
   "cell_type": "code",
   "execution_count": null,
   "id": "c6fea538",
   "metadata": {
    "tags": []
   },
   "outputs": [],
   "source": [
    "# import the time module to calculate the processing time\n",
    "import time"
   ]
  },
  {
   "cell_type": "code",
   "execution_count": null,
   "id": "f911bd89",
   "metadata": {
    "tags": []
   },
   "outputs": [],
   "source": [
    "# Calculate the processing time in milliseconds when we create a list with 1m items\n",
    "def ml(n):\n",
    "    ls = []\n",
    "    for i in range(n):\n",
    "        ls.append(i)\n",
    "    return ls\n",
    "\n",
    "start = time.process_time()*1000\n",
    "ml(1000000)\n",
    "end = time.process_time()*1000\n",
    "print(end - start)"
   ]
  },
  {
   "cell_type": "code",
   "execution_count": null,
   "id": "fee82492",
   "metadata": {
    "tags": []
   },
   "outputs": [],
   "source": [
    "# Calculate the processing time in milliseconds when we create a generator with 1m items\n",
    "def ml_gen(n):\n",
    "    for i in range(n):\n",
    "        yield i\n",
    "        \n",
    "start = time.process_time()*1000\n",
    "ml_gen(1000000)\n",
    "end = time.process_time()*1000\n",
    "print(end - start)"
   ]
  },
  {
   "cell_type": "markdown",
   "id": "e789dd63",
   "metadata": {},
   "source": [
    "Using a generator makes sense in scenarios where loading an entire list, dictionary, or set could fill all available memory. This could be because each item is large, the list is large, or both. \n",
    "\n",
    "If you want to take one item at a time, do a lot of calculations based on that item, and then move on to the next item, then use a generator. "
   ]
  },
  {
   "cell_type": "markdown",
   "id": "7090fd2b",
   "metadata": {},
   "source": [
    "<h2 style=\"color:red; display:inline\">Coding Challenge! &lt; / &gt; </h2>\n",
    "\n",
    "* Create a generator object using a generator comprehension\n",
    "* Print out every value in the generator \n",
    "* Use `try` and `except` in your code to prevent the program from crashing after the generator is exhausted\n",
    "\n",
    "For a quick refresh of `try` and `except`, you can refer to [python basics 2](../Python-basics/python-basics-2.ipynb)."
   ]
  },
  {
   "cell_type": "code",
   "execution_count": null,
   "id": "db48d3eb",
   "metadata": {},
   "outputs": [],
   "source": [
    "# Create a generator using a generator comprehension\n"
   ]
  },
  {
   "cell_type": "markdown",
   "id": "b03df5c7",
   "metadata": {},
   "source": [
    "# An example of a generator from Constellate\n",
    "\n",
    "In Constellate, when you build a dataset and use the Constellate client to download the dataset, you will be working with a generator."
   ]
  },
  {
   "cell_type": "code",
   "execution_count": null,
   "id": "ccca52d8",
   "metadata": {
    "tags": []
   },
   "outputs": [],
   "source": [
    "# import modules and libraries\n",
    "from pathlib import Path\n",
    "import gzip\n",
    "import json"
   ]
  },
  {
   "cell_type": "markdown",
   "id": "3fd94e8b-4d7d-4d39-9735-c3e6894403bf",
   "metadata": {},
   "source": [
    "<h3 style=\"color:red; display:inline\">Note! The following code cell assumes that you have downloaded the compressed JSONL file containing metadata, ngrams and full texts to the current working directory.&lt; / &gt; </h3>"
   ]
  },
  {
   "cell_type": "code",
   "execution_count": null,
   "id": "271477fd",
   "metadata": {
    "tags": []
   },
   "outputs": [],
   "source": [
    "# path to the jsonl file in the current directory\n",
    "dataset_file = '' # copy and paste the path to the compressed JSONL file with jsonl.gz suffix\n",
    "\n",
    "# function that reads a jsonl file into a generator\n",
    "def dataset_reader(file_path):\n",
    "    \"\"\"\n",
    "    Helper to read in gzip files and yield Python dictionary\n",
    "    documents.\n",
    "    \"\"\"\n",
    "    with gzip.open(file_path, \"rb\") as input_file:\n",
    "        for row in input_file:\n",
    "            yield json.loads(row)"
   ]
  },
  {
   "cell_type": "code",
   "execution_count": null,
   "id": "db529181",
   "metadata": {
    "tags": []
   },
   "outputs": [],
   "source": [
    "# Read in the data \n",
    "dataset = dataset_reader(dataset_file)"
   ]
  },
  {
   "cell_type": "code",
   "execution_count": null,
   "id": "2fc4f5ae",
   "metadata": {
    "tags": []
   },
   "outputs": [],
   "source": [
    "# Check the type of 'dataset'\n",
    "type(dataset)"
   ]
  },
  {
   "cell_type": "code",
   "execution_count": null,
   "id": "9944b0b5",
   "metadata": {
    "tags": []
   },
   "outputs": [],
   "source": [
    "# Get the first document using next()\n",
    "next(dataset)"
   ]
  },
  {
   "cell_type": "markdown",
   "id": "87689410",
   "metadata": {},
   "source": [
    "We have in total 6745 documents in the dataset. Quite a lot! "
   ]
  },
  {
   "cell_type": "code",
   "execution_count": null,
   "id": "085cb98d",
   "metadata": {
    "tags": []
   },
   "outputs": [],
   "source": [
    "# Calculate the processing time of the generator in milliseconds\n",
    "start = time.process_time() * 1000\n",
    "dataset = dataset_reader(dataset_file)\n",
    "end = time.process_time() * 1000\n",
    "print(end - start)"
   ]
  },
  {
   "cell_type": "code",
   "execution_count": null,
   "id": "397fc2d3",
   "metadata": {
    "tags": []
   },
   "outputs": [],
   "source": [
    "# Calculate the processing time of the list with the same items in milliseconds\n",
    "start = time.process_time() * 1000\n",
    "dataset = list(dataset_reader(dataset_file))\n",
    "end = time.process_time() * 1000\n",
    "print(end - start)"
   ]
  },
  {
   "cell_type": "markdown",
   "id": "e68d43e7",
   "metadata": {},
   "source": [
    "___\n",
    "## Lesson Complete\n",
    "\n",
    "Congratulations! You have completed *Python Intermediate 5*.\n",
    "\n",
    "\n",
    "### Exercise Solutions\n",
    "Here are a few solutions for exercises in this lesson."
   ]
  },
  {
   "cell_type": "code",
   "execution_count": null,
   "id": "5d6dfcc0",
   "metadata": {},
   "outputs": [],
   "source": [
    "# Pick an iterable of your choice and write a generator which takes the iterable as its input\n",
    "\n",
    "w = \"generator\"\n",
    "def gen(w):\n",
    "    for l in w:\n",
    "        yield l.upper()\n",
    "w_gen = gen(w)\n",
    "next(w_gen)"
   ]
  },
  {
   "cell_type": "code",
   "execution_count": null,
   "id": "9e737bdb",
   "metadata": {},
   "outputs": [],
   "source": [
    "# Create a generator using a generator comprehension\n",
    "gen = (number for number in range(30))\n",
    "\n",
    "# Print the rest of the values using a loop\n",
    "while True:\n",
    "    try: \n",
    "        print(next(gen))\n",
    "    except StopIteration: \n",
    "        print('Generator exhausted')\n",
    "        break"
   ]
  }
 ],
 "metadata": {
  "kernelspec": {
   "display_name": "Python 3 (ipykernel)",
   "language": "python",
   "name": "python3"
  },
  "language_info": {
   "codemirror_mode": {
    "name": "ipython",
    "version": 3
   },
   "file_extension": ".py",
   "mimetype": "text/x-python",
   "name": "python",
   "nbconvert_exporter": "python",
   "pygments_lexer": "ipython3",
   "version": "3.11.9"
  },
  "toc": {
   "base_numbering": 1,
   "nav_menu": {},
   "number_sections": true,
   "sideBar": true,
   "skip_h1_title": false,
   "title_cell": "Table of Contents",
   "title_sidebar": "Contents",
   "toc_cell": false,
   "toc_position": {},
   "toc_section_display": true,
   "toc_window_display": false
  }
 },
 "nbformat": 4,
 "nbformat_minor": 5
}

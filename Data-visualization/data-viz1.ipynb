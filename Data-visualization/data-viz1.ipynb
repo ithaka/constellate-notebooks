{
 "cells": [
  {
   "cell_type": "markdown",
   "id": "666c3a89-f05e-49f5-b853-9e25dd51d2c2",
   "metadata": {},
   "source": [
    "<img align=\"left\" src=\"../All-sample-files/CC_BY.png\"><br />\n",
    "\n",
    "Created by Zhuo Chen for Constellate under [Creative Commons CC BY License](https://creativecommons.org/licenses/by/4.0/).<br />\n",
    "For questions/comments/improvements, email zhuo.chen@ithaka.org or nathan.kelber@ithaka.org<br />"
   ]
  },
  {
   "cell_type": "markdown",
   "id": "872b79e8-dedd-4893-8293-dabb38894b77",
   "metadata": {
    "execution": {
     "iopub.execute_input": "2023-03-08T14:54:56.347239Z",
     "iopub.status.busy": "2023-03-08T14:54:56.346262Z",
     "iopub.status.idle": "2023-03-08T14:54:56.360091Z",
     "shell.execute_reply": "2023-03-08T14:54:56.358349Z",
     "shell.execute_reply.started": "2023-03-08T14:54:56.347186Z"
    },
    "tags": []
   },
   "source": [
    "# Data Visualization 1\n",
    "\n",
    "This is lesson 1 of 3 in the educational series on **Data Visualization**. \n",
    "\n",
    "**Description:** This notebook discusses:\n",
    "\n",
    "* What is a good visualization\n",
    "* How one can lie using data visualizations\n",
    "* Factors to consider when making data visualizations\n",
    "* Main types of visualizations\n",
    "\n",
    "**Use case:** For Learners (Detailed explanation, not ideal for researchers)\n",
    "\n",
    "**Difficulty:** Intermediate\n",
    "\n",
    "**Completion time:** 90 minutes\n",
    "\n",
    "**Knowledge Required:** \n",
    "\n",
    "* Python basics ([start learning Python basics](../Python-basics/python-basics-1.ipynb))\n",
    "* Pandas ([start learning Pandas](../Pandas-basics/pandas-basics-1.ipynb))\n",
    "\n",
    "**Knowledge Recommended:**\n",
    "\n",
    "Objects, attributes and methods (start learning [object-oriented programming](../Python-intermediate/python-intermediate-4.ipynb))\n",
    "\n",
    "**Data Format**: .csv\n",
    "\n",
    "**Libraries Used**: pandas, geoPandas, Matplotlib\n",
    "\n",
    "**Research Pipeline**: None\n",
    "\n",
    "___"
   ]
  },
  {
   "cell_type": "markdown",
   "id": "625b66dc-accd-4acf-95c3-e7cab8d024f6",
   "metadata": {},
   "source": [
    "## Introduction\n",
    "\n",
    "We are exposed to many kinds of visualizations in the media, including on TV, social media, newspapers, magazines, and websites. This series focuses on data visualizations designed to **inform the audience** in order to **increase their understanding** (as opposed to data visualizations used for entertainment or sales).\n",
    "\n",
    "**The 5 Qualities of a Good Data Visualization**\n",
    "\n",
    "In his book [The Truthful Art](http://www.thefunctionalart.com/p/the-truthful-art-book.html), Alberto Cairo proposes a five-part framework to evaluate the qualities of a data visualization. He says that a good data visualization should be:\n",
    "\n",
    "* Truthful\n",
    "* Functional\n",
    "* Beautiful\n",
    "* Insightful\n",
    "* Enlightening\n",
    "\n",
    "Let's examine each of these concepts.\n",
    "\n",
    "## The 5 Qualities of a Good Data Visualization\n",
    "\n",
    "### Truthful\n",
    "\n",
    "Creating a good data visualization requires us to be truthful. We should seek to be honest with ourselves and our audience.\n",
    "\n",
    "#### Being Honest with Ourselves\n",
    "\n",
    "* Does the data cleaning and summarization create a bias toward a certain conclusion?\n",
    "* Is the conclusion leading the data?\n",
    "\n",
    "#### Being Honest with our Audience\n",
    "\n",
    "* Does the visualization hide data?\n",
    "* Does the visualization intentionally mislead the audience?\n",
    "* Does the visualization unintentionally mislead the audience?\n",
    "\n",
    "#### Example: The Hulu Drama Dopesick\n",
    "\n",
    "In the 2021 Hulu drama series Dopesick, [visualizations misled consumers](https://www.youtube.com/watch?v=y305az3PQLk) about the dangers of opioid use."
   ]
  },
  {
   "cell_type": "markdown",
   "id": "a90656ba",
   "metadata": {},
   "source": [
    "#### Example: FOX News and the Bush Tax Cuts\n",
    "\n",
    "Here is an example from Alberto Cairo's [How Charts Lie](http://www.thefunctionalart.com/p/reviews.html). In July 2012, Fox News used a chart to show the consequences of letting President George W. Bush's top federal tax rates expire. Notice that the percentage rate for the red bar is left out.\n",
    "\n",
    "<img src=\"../All-sample-files/DataViz_BarTax1.png\" width=500>\n"
   ]
  },
  {
   "cell_type": "markdown",
   "id": "da2277b0-e970-47d7-9cd8-8076450290b8",
   "metadata": {},
   "source": [
    "In this chart, the number is revealed. Is the original chart truthful?\n",
    "\n",
    "<img src=\"../All-sample-files/DataViz_BarTax2.png\" width=500>"
   ]
  },
  {
   "cell_type": "markdown",
   "id": "2c21b876-c996-459e-84da-6ebb78906f13",
   "metadata": {},
   "source": [
    "### Functional\n",
    "\n",
    "A visualization is functional if it helps the audience interpret the conveyed information. There are two main questions to consider when choosing a visualization:\n",
    "\n",
    "* What purpose does the visualization serve? \n",
    "The purpose depends on defining the audience and their desired information.\n",
    "\n",
    "* How to shape the information to help the audience achieve the purpose?\n",
    "Choosing the best shape helps the audience interpret the information easily and effectively.\n",
    "\n",
    "In [The Functional Art](http://www.thefunctionalart.com/p/about-book.html), Alberto Cairo emphasizes that functions constrain forms. Defining the function of the visualization can help you pick the right form.\n",
    "\n",
    "#### Example: Massachusett's Workforce Data\n",
    "\n",
    "Suppose you are interested in the workforce data in Massachusetts. You would like to find out the data for January and February of 2023 in different counties of the state. There is a specific question that you are interested in: \n",
    "\n",
    "**Which county saw the biggest growth in unemployment rate from January to February?**\n",
    "\n",
    "Here are two possible visualizations:\n",
    "\n",
    "##### Visualization 1\n",
    "\n",
    "<img src=\"../All-sample-files/DataViz1_MAunemp_JanToFeb2023.png\" width=700>\n",
    "\n",
    "##### Visualization 2\n",
    "\n",
    "<img src=\"../All-sample-files/DataViz1_MAunemp_JanToFeb2023BarChart.png\" width=500>\n",
    "\n",
    "Putting yourself in the shoes of the target readers helps you choose the best visualization. "
   ]
  },
  {
   "cell_type": "markdown",
   "id": "fb4ee844",
   "metadata": {},
   "source": [
    "### Beautiful\n",
    "\n",
    "When it comes to informational charts, i.e., the kind of data visualization we focus on in this series, many experts resist using visual embellishments because excessive elements can be distracting and obscure interpretation. \n",
    "\n",
    "Edward R. Tufte, for example, calls the embellishments in charts *chartjunk*. He argues that a good visual design communicates the most possible information using the least possible ink. On the other hand, however, some research has shown that embellishments can be useful, aiding comprehension and recall ([Bateman et al. 2010](http://www.stat.columbia.edu/~gelman/communication/Bateman2010.pdf). \n",
    "\n",
    "#### Example: Diamond \n",
    "\n",
    "Let's take a look at an example from [Bateman et al.'s](http://www.stat.columbia.edu/~gelman/communication/Bateman2010.pdf) paper. There are two charts in this paper that present exactly the same information: the price change of a one-carat D-flawless diamond from 1978 - 1982. If you are a reader, which chart do you think is more effective in terms of conveying this information? \n",
    "\n",
    "<img src=\"../All-sample-files/DataViz1_DiamondMinimalistDesign.png\" width=500>\n",
    "\n",
    "<img src=\"../All-sample-files/DataViz1_DiamondChartjunk.png\" width=500>\n",
    "\n",
    "Source: Bateman, S., Mandryk, R. L., Gutwin, C., Genest, A., McDine, D., & Brooks, C. (2010, April). Useful junk? The effects of visual embellishment on comprehension and memorability of charts. In *Proceedings of the SIGCHI conference on human factors in computing systems* (pp. 2573-2582).\n",
    "\n",
    "#### The Beauty Paradox\n",
    "\n",
    "In his book [The Functional Art](http://www.thefunctionalart.com/p/about-book.html), Alberto Cairo uses the term \"the beauty paradox\" to describe the difficult choice between the minimalist design and the embellished design. If you ask which design is better, there is no absolute right answer. It depends on the audience, their knowledge, taste, expectations, etc. \n",
    "\n",
    "Despite the seeming conflict between the two approaches to visual design, however, Alberto Cairo argues that a middle ground can be found between them. After all, the ultimate goals of making a visual deisgn are shared by the two approaches. That is, a visual design presents information and it helps the readers explore that information. Using these two goals as guiding principles, the creators will achieve a balance between radical minimalism and the so-called chartjunk kind of design. "
   ]
  },
  {
   "cell_type": "markdown",
   "id": "500d1489",
   "metadata": {},
   "source": [
    "### Insightful\n",
    "\n",
    "According to [Chang et al.](https://viscenter.charlotte.edu/sites/viscenter.charlotte.edu/files/CVC-UNCC-08-34_0.pdf)(2009), there are several kinds of insight in visualizations. One is **spontaneous insight**. Spontaneous insight often comes directly from the graphic summary of the data. For example, in the previous section, we have seen two graphics showing the price change of a one-carat D-flawless diamond from 1978 - 1982. We immediately noticed the spike in 1980. This is the spontaneous insight we got from the graphics.\n",
    "\n",
    "Another kind of insight is **knowledge-building insight**. When we play with an interactive visualization, it allows us to explore the information in a gradual way and in this deliberate process of exploration, we often get more knowledge. \n",
    "\n",
    "#### Example: PhDs and Gender\n",
    "\n",
    "Here is an example from [The Truthful Art](http://www.thefunctionalart.com/p/the-truthful-art-book.html). \n",
    "\n",
    "https://www.scientificamerican.com/article/how-nations-fare-in-phds-by-sex-interactive1/\n",
    "\n",
    "On this page you find an interactive graphics that shows the PhD gender gap by country. If we do not categorize the areas of the PhD degrees, you see that the US does really a good job in awarding about the same percentage of PhD degrees to both females and males. \n",
    "\n",
    "Click the arrow to the left of \"All PhDs\" to filter on \"Social and Behavioral.\" What do you find? \n",
    "\n",
    "Click the arrow to filter on \"Math & Computer Science.\" What do you find?"
   ]
  },
  {
   "cell_type": "markdown",
   "id": "a8b1969d",
   "metadata": {},
   "source": [
    "### Enlightening\n",
    "\n",
    "An enlightening visualization \"sheds light\" on a topic of human interest. In the PhD gender gap visualization, for example, the topic of gender is central to discussions on academic and social equity. Calling policy-makers' attention to such a gender gap may lead to efforts to promote gender equity in the education of science and engineering."
   ]
  },
  {
   "cell_type": "markdown",
   "id": "9910d9cd",
   "metadata": {},
   "source": [
    "## Some of the main types of data visualizations\n",
    "\n",
    "In this section, we are going to briefly review the main types of charts and graphs. \n",
    "\n",
    "### Scatterplot\n",
    "\n",
    "A scatterplot can help us visualize the relationship between variables. Moreover, it helps us to identify unusual cases."
   ]
  },
  {
   "cell_type": "code",
   "execution_count": null,
   "id": "c4bee945-c528-495e-a289-944f041e2117",
   "metadata": {},
   "outputs": [],
   "source": [
    "!pip install matplotlib==3.10.1"
   ]
  },
  {
   "cell_type": "code",
   "execution_count": null,
   "id": "a898dd06",
   "metadata": {
    "tags": []
   },
   "outputs": [],
   "source": [
    "# use the magic function to set the backend\n",
    "%matplotlib inline\n",
    "\n",
    "# import pyplot\n",
    "import matplotlib.pyplot as plt\n",
    "\n",
    "# a mock example\n",
    "data = [(x, x) for x in range(0, 11)] + [(1.2*x, 1.2*x) for x in range(0, 11)]\n",
    "data.append((10, 2))\n",
    "\n",
    "x_values = [t[0] for t in data]\n",
    "y_values = [t[1] for t in data]\n",
    "\n",
    "# make a scatter plot\n",
    "plt.scatter(x_values, y_values);"
   ]
  },
  {
   "cell_type": "markdown",
   "id": "ee7792f5",
   "metadata": {},
   "source": [
    "### Line graphs\n",
    "\n",
    "A line graph uses lines to connect individual data points. It is often used to display the relation between two continuous variables. For example, it can be used to display trends in events over time. "
   ]
  },
  {
   "cell_type": "code",
   "execution_count": null,
   "id": "d8516f6e",
   "metadata": {
    "tags": []
   },
   "outputs": [],
   "source": [
    "### A mock example\n",
    "x_values = range(2012, 2023)\n",
    "y_values = range(1200, 650, -50)\n",
    "\n",
    "# make a line graph\n",
    "plt.plot(x_values, y_values);"
   ]
  },
  {
   "cell_type": "markdown",
   "id": "b6e0733f",
   "metadata": {},
   "source": [
    "### Bar charts\n",
    "\n",
    "Bar charts are useful when you want to compare categories in counts, sums, means or other summary values. In a bar chart, you will have one categorical variable and one continuous variable. In a vertical bar chart, the x-axis holds the categorical variable and the y-axis holds the continuous variable while in a horizontal bar chart, the opposite is true. "
   ]
  },
  {
   "cell_type": "code",
   "execution_count": null,
   "id": "fc20e55a",
   "metadata": {
    "tags": []
   },
   "outputs": [],
   "source": [
    "### A mock example of vertical bar chart\n",
    "x_values = ['Female', 'Male']\n",
    "y_values = [120, 50]\n",
    "plt.bar(x_values, y_values, width=0.3);"
   ]
  },
  {
   "cell_type": "code",
   "execution_count": null,
   "id": "d20c2723",
   "metadata": {
    "tags": []
   },
   "outputs": [],
   "source": [
    "### A mock example of horizontal bar chart\n",
    "y_values = ['Female', 'Male']\n",
    "x_values = [120, 50]\n",
    "plt.barh(y_values, x_values, height=0.3);"
   ]
  },
  {
   "cell_type": "markdown",
   "id": "a3b71c28",
   "metadata": {},
   "source": [
    "### Histogram\n",
    "\n",
    "Histograms are used to display frequency distributions. For example, suppose you have 50 students and you would like to use a histogram to show the distribution of their grades in the most recent English test. "
   ]
  },
  {
   "cell_type": "code",
   "execution_count": null,
   "id": "da237b52",
   "metadata": {
    "tags": []
   },
   "outputs": [],
   "source": [
    "### A mock example of histogram\n",
    "import numpy as np\n",
    "np.random.seed(0)\n",
    "x_values = np.random.randint(20, 100, 50)\n",
    "bins = range(20, 110, 10)\n",
    "plt.hist(x_values, bins=bins);"
   ]
  },
  {
   "cell_type": "markdown",
   "id": "204dd127",
   "metadata": {},
   "source": [
    "### Pie chart\n",
    "A pie chart is used to show how a total amount is divided between levels of a categorical variable. Each wedge of the pie corresponds to one of the levels of the categorical variable. Suppose you divide your study time into chunks and spend a certain chunk of time on a certain subject. Now, you would like to make a pie chart to display how much time you spent on each of the four subject: Math, English, History, Biology. "
   ]
  },
  {
   "cell_type": "code",
   "execution_count": null,
   "id": "c7338124",
   "metadata": {
    "tags": []
   },
   "outputs": [],
   "source": [
    "### A mock example \n",
    "labels = ['Math', 'English', 'History', 'Biology']\n",
    "sizes = [30, 20, 10, 45]\n",
    "plt.pie(sizes, labels=labels);"
   ]
  },
  {
   "cell_type": "markdown",
   "id": "54d02194",
   "metadata": {},
   "source": [
    "There are many more types of data visualization. Here we have only briefly reviewed some of the main types of visualizations. When you choose a certain type of chart to display your data, always ask yourself what form will best help the audience interpret the conveyed information."
   ]
  },
  {
   "cell_type": "markdown",
   "id": "7b900291",
   "metadata": {},
   "source": [
    "## Code for the visualizations in the Functional section\n",
    "### Visualization 1"
   ]
  },
  {
   "cell_type": "code",
   "execution_count": null,
   "id": "2496994a-a74c-480f-ba91-2dbaea53d07d",
   "metadata": {
    "tags": []
   },
   "outputs": [],
   "source": [
    "import zipfile\n",
    "from pathlib import Path\n",
    "\n",
    "# Check if a data folder exists. If not, create it.\n",
    "data_folder = Path('./data/')\n",
    "data_folder.mkdir(exist_ok=True)\n",
    "    \n",
    "with zipfile.ZipFile(\"../All-sample-files/counties.zip\", \"r\") as zip_ref:\n",
    "    zip_ref.extractall(\"./data/counties\")\n",
    "\n",
    "print('Samples file retrieved.')"
   ]
  },
  {
   "cell_type": "code",
   "execution_count": null,
   "id": "288e7572-a15c-48d4-8590-f828abf08391",
   "metadata": {
    "tags": []
   },
   "outputs": [],
   "source": [
    "# Install geopandas\n",
    "!pip install geopandas"
   ]
  },
  {
   "cell_type": "code",
   "execution_count": null,
   "id": "380d8e10-dcb1-4f78-ade4-7b6a08ebd466",
   "metadata": {
    "scrolled": true,
    "tags": []
   },
   "outputs": [],
   "source": [
    "# Plot the unemployment rate increase by county in MA \n",
    "# On a county map of MA\n",
    "\n",
    "import pandas as pd\n",
    "import geopandas as gpd\n",
    "\n",
    "# Read in the unemployment data in Nov&Dec of 2022\n",
    "unemp = pd.read_csv('../All-sample-files/DataViz1_CountyComparison_preprocessed.csv') \n",
    "\n",
    "# Create a new column storing the change in umemployment rate\n",
    "unemp['Difference'] = round(unemp['Feb Rate'].astype(float) - unemp['Jan Rate'].astype(float),2)\n",
    "\n",
    "# Remove the unnecessary columns\n",
    "unemp = unemp[['COUNTY', 'Difference']]\n",
    "\n",
    "# Preprocess the COUNTY column to prepare for later merging\n",
    "unemp['COUNTY'] = unemp['COUNTY'].str.upper()\n",
    "\n",
    "# Take a look at the resulting df\n",
    "unemp"
   ]
  },
  {
   "cell_type": "code",
   "execution_count": null,
   "id": "ca74ce0f",
   "metadata": {
    "tags": []
   },
   "outputs": [],
   "source": [
    "# Read in the geo data\n",
    "geo = gpd.read_file('./data/counties/counties/COUNTIES_POLYM.shp')\n",
    "\n",
    "# Remove the unnecessary column\n",
    "geo = geo[['COUNTY', 'geometry']]\n",
    "\n",
    "# Take a look at the resulting df\n",
    "geo"
   ]
  },
  {
   "cell_type": "code",
   "execution_count": null,
   "id": "54ec9e69",
   "metadata": {
    "tags": []
   },
   "outputs": [],
   "source": [
    "# Merge the two dfs\n",
    "geo_unemp = geo.merge(unemp, on='COUNTY')\n",
    "\n",
    "# Take a look at the resulting df\n",
    "geo_unemp"
   ]
  },
  {
   "cell_type": "code",
   "execution_count": null,
   "id": "edacaa1b",
   "metadata": {
    "tags": []
   },
   "outputs": [],
   "source": [
    "# try making a map\n",
    "geo_unemp.plot(figsize=(10, 10),scheme=\"quantiles\", cmap='Paired');"
   ]
  },
  {
   "cell_type": "code",
   "execution_count": null,
   "id": "40d73467",
   "metadata": {
    "tags": []
   },
   "outputs": [],
   "source": [
    "# Add the longitude and latitude info for each county\n",
    "# to be used to add county name and unemployment data\n",
    "# to the map later\n",
    "geo_unemp['Longitude'] = [48000,\n",
    "                          215000, \n",
    "                          269000, \n",
    "                          230000, \n",
    "                          280000, \n",
    "                          90000, \n",
    "                          200000, \n",
    "                          100000, \n",
    "                          100000, \n",
    "                          300000, \n",
    "                          215000, \n",
    "                          240000,\n",
    "                          250000,\n",
    "                          150000]\n",
    "\n",
    "geo_unemp['Latitude'] = [910000,\n",
    "                         840000, \n",
    "                         788000, \n",
    "                         935000, \n",
    "                         823000, \n",
    "                         890000, \n",
    "                         915000, \n",
    "                         920000, \n",
    "                         869000, \n",
    "                         780000, \n",
    "                         875000, \n",
    "                         855000,\n",
    "                         895000,\n",
    "                         900000]\n",
    "\n",
    "# Plot the map\n",
    "ax_geo = geo_unemp.plot(figsize=(10, 10),scheme=\"quantiles\", cmap='Paired')\n",
    "\n",
    "# Add the county name and unemployment rise on the map\n",
    "for i in range(len(geo_unemp)):\n",
    "    ax_geo.text(geo_unemp.Longitude[i],\n",
    "             geo_unemp.Latitude[i],\n",
    "             f\"{geo_unemp['COUNTY'][i]}\\n{geo_unemp['Difference'][i]}\",\n",
    "             size=8, weight='bold', color='black')\n",
    "\n",
    "# Add a line in the plot for Suffolk county\n",
    "ax_geo.plot([235000, 248000], [898000, 902000])\n",
    "\n",
    "# Add a title to the plot\n",
    "ax_geo.set_title('Unemployment Rate Increase by County\\n(January to February 2023)',fontsize=12)\n",
    "\n",
    "# Remove the ticks\n",
    "ax_geo.set_xticks([])\n",
    "ax_geo.set_yticks([])\n",
    "\n",
    "# Remove the frame\n",
    "for spine in plt.gca().spines.values():\n",
    "    spine.set_visible(False)\n",
    "    \n",
    "# Save the figure\n",
    "ax_geo.figure.savefig('./data/MA_UnempRateJanToFeb2023.png');"
   ]
  },
  {
   "cell_type": "markdown",
   "id": "783348a0-8e0d-4901-9fd5-325582ba70ee",
   "metadata": {
    "execution": {
     "iopub.execute_input": "2023-03-11T17:04:31.682512Z",
     "iopub.status.busy": "2023-03-11T17:04:31.682160Z",
     "iopub.status.idle": "2023-03-11T17:04:31.769211Z",
     "shell.execute_reply": "2023-03-11T17:04:31.768826Z",
     "shell.execute_reply.started": "2023-03-11T17:04:31.682490Z"
    },
    "tags": []
   },
   "source": [
    "### Visualization 2"
   ]
  },
  {
   "cell_type": "code",
   "execution_count": null,
   "id": "cb46452d-d0ec-4f6f-b9a4-f87937690c57",
   "metadata": {
    "scrolled": true,
    "tags": []
   },
   "outputs": [],
   "source": [
    "# Prepare the data to be ploted\n",
    "geo_unemp = geo_unemp.sort_values(by='Difference')\n",
    " \n",
    "# Specify the x axis and y axis data\n",
    "ax_barh = geo_unemp.plot(x='COUNTY', y='Difference', kind='barh', legend=None)\n",
    "\n",
    "# Set the title\n",
    "ax_barh.set_title('Unemployment Rate Increase by County\\n(January to February 2023)',fontsize=12)\n",
    "\n",
    "# Remove the unnecessary spines in the frame\n",
    "ax_barh.spines['top'].set_visible(False)\n",
    "ax_barh.spines['right'].set_visible(False);\n",
    "\n",
    "# set the x axis limitation\n",
    "ax_barh.set_xlim(0, 7)\n",
    "ax_barh.figure.savefig('./data/DataViz1_MAunemp_bar.png');"
   ]
  },
  {
   "cell_type": "markdown",
   "id": "c0581b28",
   "metadata": {},
   "source": [
    "<h4 style=\"color:red; display:inline\">Coding Challenge! &lt; / &gt; </h4>\n",
    "\n",
    "Before making a data visualization, we always need to preprocess the raw data to prepare for plot-drawing. In this notebook, we have seen an example using unemployment data from Massachusetts. In that example, the sample .csv file was preprocessed in advance. \n",
    "\n",
    "Try preprocessing the original file. If you're having trouble, you can always return to the [Pandas Series](../Pandas-basics/pandas-basics-1.ipynb) to review.\n",
    "\n",
    "___\n"
   ]
  },
  {
   "cell_type": "code",
   "execution_count": null,
   "id": "3c92b272",
   "metadata": {},
   "outputs": [],
   "source": [
    "# Create a dataframe from the raw file\n",
    "# The file path is given\n",
    "file_path = '../All-sample-files/DataViz1_CountyComparisonUnempRaw.csv'\n"
   ]
  },
  {
   "cell_type": "code",
   "execution_count": null,
   "id": "6358b72e",
   "metadata": {},
   "outputs": [],
   "source": [
    "# Use .head() method to take a look at \n",
    "# the df from the preprocessed file and the df from the raw file\n",
    "\n"
   ]
  },
  {
   "cell_type": "code",
   "execution_count": null,
   "id": "6148724e",
   "metadata": {},
   "outputs": [],
   "source": [
    "# Use what you have learned from Pandas series\n",
    "# to process the df from the raw file to make \n",
    "# it the same as the df from the preprocessed file\n"
   ]
  },
  {
   "cell_type": "markdown",
   "id": "c40a0cd9",
   "metadata": {},
   "source": [
    "## Lesson Complete\n",
    "\n",
    "Congratulations! You have completed *Data Visualization 1*.\n",
    "\n",
    "### Start Next Lesson: [Data Visualization 2](./data-viz2.ipynb)\n",
    "___"
   ]
  },
  {
   "cell_type": "markdown",
   "id": "a3805934",
   "metadata": {},
   "source": [
    "## References\n",
    "\n",
    "Bateman, S., Mandryk, R. L., Gutwin, C., Genest, A., McDine, D., & Brooks, C. (2010, April). Useful junk? The effects of visual embellishment on comprehension and memorability of charts. In *Proceedings of the SIGCHI conference on human factors in computing systems* (pp. 2573-2582).\n",
    "\n",
    "Cairo, A. (2012). *The Functional Art: An introduction to information graphics and visualization*. New Riders.\n",
    "\n",
    "Cairo, A. (2016). *The Truthful Art: Data, charts, and maps for communication*. New Riders.\n",
    "\n",
    "Cairo, A. (2019). *How Charts Lie: Getting smarter about visual information*. WW Norton & Company.\n",
    "\n",
    "Chang, R., Ziemkiewicz, C., Green, T. M., & Ribarsky, W. (2009). Defining insight for visual analytics. *IEEE Computer Graphics and Applications, 29*(2), 14-17."
   ]
  },
  {
   "cell_type": "markdown",
   "id": "63a74999-8594-47d7-a93e-1c2ed183ac57",
   "metadata": {},
   "source": [
    "## Exercise Solutions\n",
    "Here are the solution for the coding exercise in this lesson.\n",
    "\n",
    "### Use Pandas to preprocess a df from an example .csv file"
   ]
  },
  {
   "cell_type": "code",
   "execution_count": null,
   "id": "f561d118-3e9b-41ec-a31e-4e8e2983dc3b",
   "metadata": {
    "tags": []
   },
   "outputs": [],
   "source": [
    "# Create a dataframe from the raw file and \n",
    "# take a look at it using .head()\n",
    "file_path = '../All-sample-files/DataViz1_CountyComparisonUnempRaw.csv'\n",
    "raw = pd.read_csv(file_path)\n",
    "raw.head()"
   ]
  },
  {
   "cell_type": "code",
   "execution_count": null,
   "id": "45afb1b2-e68a-4926-92f7-5ee4ea6c9445",
   "metadata": {
    "tags": []
   },
   "outputs": [],
   "source": [
    "### Preprocess the file\n",
    "\n",
    "col_n = raw.shape[1] # Get how many columns there are\n",
    "\n",
    "# Drop the columns with 2022 data\n",
    "col_to_drop = range(3, col_n, 3) \n",
    "raw = raw.drop(raw.columns[col_to_drop], axis=1)\n",
    "\n",
    "# Drop the first two rows\n",
    "raw = raw.drop([0, 1]).reset_index(drop=True)"
   ]
  },
  {
   "cell_type": "code",
   "execution_count": null,
   "id": "e6b0f80b-f054-4f56-be65-9e8e3f639aa5",
   "metadata": {
    "tags": []
   },
   "outputs": [],
   "source": [
    "# Rename the columns\n",
    "col_names = [f'Jan {name}' if name.endswith('.1') else name for name in raw.columns]\n",
    "col_names = [name.replace('.1', '') for name in col_names]\n",
    "add_feb = range(1, 9, 2)\n",
    "col_names = [f'Feb {name}' if col_names.index(name) in add_feb else name for name in col_names]\n",
    "col_names[0] = 'COUNTY'\n",
    "raw.columns = col_names"
   ]
  },
  {
   "cell_type": "code",
   "execution_count": null,
   "id": "7db28c9a-8e8a-417a-8b63-065330fd9b49",
   "metadata": {
    "tags": []
   },
   "outputs": [],
   "source": [
    "# Upper case all the county names in the first column\n",
    "raw['COUNTY'] = [county.split()[0].upper() for county in raw['COUNTY']]"
   ]
  },
  {
   "cell_type": "code",
   "execution_count": null,
   "id": "7f0b81a9-a35a-4a16-8691-6a5cf7d2df45",
   "metadata": {
    "tags": []
   },
   "outputs": [],
   "source": [
    "# Take a look at the resulting df\n",
    "raw"
   ]
  },
  {
   "cell_type": "code",
   "execution_count": null,
   "id": "5c46be96",
   "metadata": {},
   "outputs": [],
   "source": []
  }
 ],
 "metadata": {
  "kernelspec": {
   "display_name": "Python 3 (ipykernel)",
   "language": "python",
   "name": "python3"
  },
  "language_info": {
   "codemirror_mode": {
    "name": "ipython",
    "version": 3
   },
   "file_extension": ".py",
   "mimetype": "text/x-python",
   "name": "python",
   "nbconvert_exporter": "python",
   "pygments_lexer": "ipython3",
   "version": "3.11.4"
  },
  "toc": {
   "base_numbering": 1,
   "nav_menu": {},
   "number_sections": true,
   "sideBar": true,
   "skip_h1_title": true,
   "title_cell": "Table of Contents",
   "title_sidebar": "Contents",
   "toc_cell": false,
   "toc_position": {},
   "toc_section_display": true,
   "toc_window_display": false
  }
 },
 "nbformat": 4,
 "nbformat_minor": 5
}

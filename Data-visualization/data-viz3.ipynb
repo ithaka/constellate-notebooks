{
 "cells": [
  {
   "cell_type": "markdown",
   "id": "2baf5644",
   "metadata": {},
   "source": [
    "<img align=\"left\" src=\"https://ithaka-labs.s3.amazonaws.com/static-files/images/tdm/tdmdocs/CC_BY.png\"><br />\n",
    "\n",
    "Created by Zhuo Chen for [Constellate](https://constellate.org) under [Creative Commons CC BY License](https://creativecommons.org/licenses/by/4.0/).<br />\n",
    "For questions/comments/improvements, email zhuo.chen@ithaka.org.<br />"
   ]
  },
  {
   "cell_type": "markdown",
   "id": "9b7574a6",
   "metadata": {},
   "source": [
    "# Data Visualization 3\n",
    "\n",
    "This is lesson 3 of 3 in the educational series on **Data Visualization**. \n",
    "\n",
    "**Description:** This notebook discusses:\n",
    "\n",
    "* Plot several subplots in a single figure\n",
    "* Create histograms \n",
    "* Create an interactive figure\n",
    "\n",
    "**Use case:** For Learners (Detailed explanation, not ideal for researchers)\n",
    "\n",
    "**Difficulty:** Intermediate\n",
    "\n",
    "**Completion time:** 90 minutes\n",
    "\n",
    "**Knowledge Required:** \n",
    "\n",
    "* Python basics ([start learning Python basics](../Python-basics/python-basics-1.ipynb))\n",
    "* Pandas ([start learning Pandas](../Pandas-basics/pandas-basics-1.ipynb))\n",
    "\n",
    "**Knowledge Recommended:**\n",
    "\n",
    "Objects, attributes and methods (start learning [object-oriented programming](../Python-intermediate/python-intermediate-4.ipynb))\n",
    "\n",
    "**Data Format**: .csv\n",
    "\n",
    "**Libraries Used**: Pandas, Matplotlib\n",
    "\n",
    "**Research Pipeline**: None\n",
    "\n",
    "___"
   ]
  },
  {
   "cell_type": "markdown",
   "id": "d3ba1053",
   "metadata": {},
   "source": [
    "## Import Required Libraries"
   ]
  },
  {
   "cell_type": "code",
   "execution_count": null,
   "id": "19a50c53",
   "metadata": {
    "tags": []
   },
   "outputs": [],
   "source": [
    "# import pyplot module\n",
    "import matplotlib.pyplot as plt\n",
    "\n",
    "# import pandas\n",
    "import pandas as pd\n",
    "\n",
    "# import ipympl\n",
    "import ipympl"
   ]
  },
  {
   "cell_type": "code",
   "execution_count": null,
   "id": "30401da5",
   "metadata": {
    "tags": []
   },
   "outputs": [],
   "source": [
    "# set the backend to matplotlib widget\n",
    "%matplotlib widget"
   ]
  },
  {
   "cell_type": "markdown",
   "id": "98365ba1",
   "metadata": {},
   "source": [
    "## Subplots\n",
    "\n",
    "In [DataViz 1](./data-viz1.ipynb) and [DataViz 2](./data-viz2.ipynb), we only used a single axes object to plot a single graph. However in real life, there are times when it is useful to show several subplots in one figure so that the readers can compare.\n",
    "\n",
    "When we create a figure, we can specify how many subplots we would like to create in the figure. \n",
    "\n",
    "Each subplot is contained in an axes object. The axes objects are organized in rows and columns. Therefore, we can specify the number of rows and columns to create the desired number of subplots."
   ]
  },
  {
   "cell_type": "code",
   "execution_count": null,
   "id": "eb7eb8c6",
   "metadata": {
    "tags": []
   },
   "outputs": [],
   "source": [
    "# create a figure with 4 subplots\n",
    "fig, ax = plt.subplots(2, 2)"
   ]
  },
  {
   "cell_type": "code",
   "execution_count": null,
   "id": "ff87af9b",
   "metadata": {
    "scrolled": true,
    "tags": []
   },
   "outputs": [],
   "source": [
    "# print out ax\n",
    "print(ax)"
   ]
  },
  {
   "cell_type": "markdown",
   "id": "11244989",
   "metadata": {},
   "source": [
    "The axes objects in the same row are put in one list. Therefore, when we print out the value stored in the variable `ax`, we get a list of lists.\n",
    "\n",
    "If you just want a list that contains all the axes objects, you can flatten the list using `ax.flat`. "
   ]
  },
  {
   "cell_type": "markdown",
   "id": "91d9daaa",
   "metadata": {},
   "source": [
    "It is easier for us to grab a certain subplot and do some operations to it if we assign the subplots to different variables when we create them. "
   ]
  },
  {
   "cell_type": "code",
   "execution_count": null,
   "id": "92fbb596",
   "metadata": {
    "tags": []
   },
   "outputs": [],
   "source": [
    "# Assign the subplots to different variables\n",
    "fig, ((ax1, ax2), (ax3, ax4)) = plt.subplots(2, 2)"
   ]
  },
  {
   "cell_type": "code",
   "execution_count": null,
   "id": "2c0c9a5f",
   "metadata": {
    "scrolled": true,
    "tags": []
   },
   "outputs": [],
   "source": [
    "# put different artists on the four subplots\n",
    "ax1.plot(1, 1, 'o')\n",
    "ax2.plot([1,2], [4,3], '--')\n",
    "ax3.scatter([1,2,3], [2,4,6], edgecolor='black', linewidth=1)\n",
    "ax4.bar([1,2],[3,4], color='grey')\n",
    "fig"
   ]
  },
  {
   "cell_type": "markdown",
   "id": "e225c8f0",
   "metadata": {},
   "source": [
    "Let's return to the childhood lead poisoning data for all 14 counties in MA. Suppose we would want to plot a figure that contains 14 line graphs, each for one of the 14 counties showing the lead poisoning data from 2012 - 2020. "
   ]
  },
  {
   "cell_type": "code",
   "execution_count": null,
   "id": "ed60e6f8",
   "metadata": {
    "tags": []
   },
   "outputs": [],
   "source": [
    "# Get the path to the file\n",
    "file_path ='../All-sample-files/DataViz3_ChildhoodLeadPoisoning_County20122020.csv'"
   ]
  },
  {
   "cell_type": "markdown",
   "id": "a3fc9efb",
   "metadata": {},
   "source": [
    "Next, we create a dataframe from the csv file. "
   ]
  },
  {
   "cell_type": "code",
   "execution_count": null,
   "id": "93301121",
   "metadata": {
    "scrolled": true,
    "tags": []
   },
   "outputs": [],
   "source": [
    "# Create a dataframe from the csv file\n",
    "lead = pd.read_csv(file_path)\n",
    "lead"
   ]
  },
  {
   "cell_type": "markdown",
   "id": "0c12faa7",
   "metadata": {},
   "source": [
    "Let's focus on the county names, years, and rate of children per 1,000 who had elevated blood lead level. We can reduce the dataframe to these three columns. Moreover, since we are not interested in the data broken down by the sex of the children, the only rows that we will maintain are the rows where the column `Sex` says `Total`."
   ]
  },
  {
   "cell_type": "code",
   "execution_count": null,
   "id": "c2710e93",
   "metadata": {
    "tags": []
   },
   "outputs": [],
   "source": [
    "# Reduce the dataframe to the data of interest\n",
    "lead_perc = lead.loc[lead['Sex']=='Total', ['Geo Description', 'Year', 'Rate']].copy().reset_index(drop=True)\n",
    "\n",
    "# Change the rate column to percentage\n",
    "lead_perc['Rate'] = lead_perc['Rate'] * 0.1\n",
    "\n",
    "# Rename the columns to make them more descriptive\n",
    "lead_perc = lead_perc.rename(columns={'Geo Description':'County', 'Rate':'Percentage'})"
   ]
  },
  {
   "cell_type": "markdown",
   "id": "d5ee582e",
   "metadata": {},
   "source": [
    "We are ready to plot the figure! "
   ]
  },
  {
   "cell_type": "code",
   "execution_count": null,
   "id": "95d96723",
   "metadata": {
    "scrolled": true,
    "tags": []
   },
   "outputs": [],
   "source": [
    "# import ticker for later use\n",
    "import matplotlib.ticker as mtick\n",
    "\n",
    "# create a figure with 7 rows and 2 columns\n",
    "fig, axs = plt.subplots(nrows=7, ncols=2, figsize = (7, 15))\n",
    "\n",
    "for county, ax in zip(lead_perc['County'].unique(), axs.flat):\n",
    "    ax.plot(range(2012, 2021), lead_perc.loc[lead_perc['County']==county, 'Percentage'])\n",
    "    ax.set_title(county, fontsize=9)\n",
    "    ax.yaxis.set_major_formatter(mtick.PercentFormatter())\n",
    "fig.suptitle('Percentage of Children with Elevated BLL', y=0.99)\n",
    "fig.supxlabel('Year')\n",
    "fig.tight_layout()\n"
   ]
  },
  {
   "cell_type": "markdown",
   "id": "6a5b5df2",
   "metadata": {},
   "source": [
    "You may have noticed that all the subplots share the same x-axis. We learned in [DataViz 1](./data-viz1.ipynb) that a good data visualization avoids unnecessary \"chartjunk.\" We can simplify the figure by making all the subplots share the x-axis. That way, we don't need to repeat the same x-axis for every subplot.\n",
    "\n",
    "There is a parameter `sharex` in the `subplots()` method that we can use to achieve this goal. \n",
    "\n",
    "If we doule like to share y-axis, we can set the parameter `sharey` to `True` as well. "
   ]
  },
  {
   "cell_type": "code",
   "execution_count": null,
   "id": "f234124d",
   "metadata": {
    "scrolled": true,
    "tags": []
   },
   "outputs": [],
   "source": [
    "# import ticker for later use\n",
    "import matplotlib.ticker as mtick\n",
    "\n",
    "# create a figure with 7 rows and 2 columns\n",
    "fig, axs = plt.subplots(nrows=7, ncols=2, figsize = (7, 15), sharex=True, sharey=True)\n",
    "\n",
    "# Get the counties\n",
    "counties = lead_perc['County'].unique().tolist()\n",
    "\n",
    "# Make the subplots\n",
    "for i, ax in enumerate(axs.flat):\n",
    "    ax.plot(range(2012, 2021), lead_perc.loc[lead_perc['County']==counties[i], 'Percentage'])\n",
    "    ax.yaxis.set_major_formatter(mtick.PercentFormatter())\n",
    "    ax.set_title(counties[i], fontsize=9)\n",
    "fig.suptitle('Percentage of Children with Elevated BLL', y=0.99)\n",
    "fig.supxlabel('Year')\n",
    "fig.tight_layout()"
   ]
  },
  {
   "cell_type": "markdown",
   "id": "d0959a6f",
   "metadata": {},
   "source": [
    "<h3 style=\"color:red; display:inline\">Coding Challenge! &lt; / &gt; </h3>"
   ]
  },
  {
   "cell_type": "markdown",
   "id": "1a4ce551",
   "metadata": {},
   "source": [
    "In the next code cell, make a figure containing 14 subplots, each for one county of MA. In each subplot, make a line graph with two lines, one showing the percentage of the female children with elevated BLL from 2012 - 2020 and one showing the percentage of the male children with elevated BLL from 2012 - 2020. "
   ]
  },
  {
   "cell_type": "code",
   "execution_count": null,
   "id": "7e872db8",
   "metadata": {},
   "outputs": [],
   "source": [
    "### Make a figure containing multiple subplots\n",
    "### showing the percentage of male and female children with elevated BLL by county\n"
   ]
  },
  {
   "cell_type": "markdown",
   "id": "830914ef",
   "metadata": {},
   "source": [
    "## Histograms\n",
    "\n",
    "A histogram is a bar chart which shows the frequency of observations. In a histogram, the x-axis is a continuous quantitative value. The height of each bar shows the frequency of a certain range of values. The biggest difference between a bar chart and a histogram is that a bar chart has categorical values on the x-axis but a histogram has continuous quantitative values on the x-axis. \n",
    "\n",
    "In this section, let's use data on the 2022 Boston Marathon to plot a histogram. "
   ]
  },
  {
   "cell_type": "code",
   "execution_count": null,
   "id": "bc295d83",
   "metadata": {
    "scrolled": true,
    "tags": []
   },
   "outputs": [],
   "source": [
    "# Get the path to the file\n",
    "file ='../All-sample-files/DataViz3_BostonMarathon2022.csv'"
   ]
  },
  {
   "cell_type": "code",
   "execution_count": null,
   "id": "fe2252fc",
   "metadata": {
    "tags": []
   },
   "outputs": [],
   "source": [
    "# Create a dataframe from the csv file\n",
    "run = pd.read_csv(file)\n",
    "run"
   ]
  },
  {
   "cell_type": "markdown",
   "id": "efadb9b9",
   "metadata": {},
   "source": [
    "There are 24,834 rows in this dataframe. That means there were 24,834 runners in the event last year! Suppose we are interested in the distribution of the age of the participants in ranges of 10. How many runners were of age 20 - 29 at the time of race? How many were of age 30 - 39?"
   ]
  },
  {
   "cell_type": "code",
   "execution_count": null,
   "id": "6e9a10a9",
   "metadata": {
    "tags": []
   },
   "outputs": [],
   "source": [
    "# Reduce the dataframe to the column of interest\n",
    "run_age = run[['AgeOnRaceDay']].copy()\n",
    "run_age = run_age.rename(columns={'AgeOnRaceDay':'Age'})\n",
    "run_age"
   ]
  },
  {
   "cell_type": "code",
   "execution_count": null,
   "id": "1099353b",
   "metadata": {
    "tags": []
   },
   "outputs": [],
   "source": [
    "# Get the max and min value of age to decide on bins\n",
    "print(run_age['Age'].max())\n",
    "print(run_age['Age'].min())"
   ]
  },
  {
   "cell_type": "markdown",
   "id": "77a74fb6",
   "metadata": {},
   "source": [
    "Take a guess which age group has the most runners? 20s? 30s? Let's find out by plotting the histogram."
   ]
  },
  {
   "cell_type": "code",
   "execution_count": null,
   "id": "0ea2d4eb",
   "metadata": {
    "scrolled": true,
    "tags": []
   },
   "outputs": [],
   "source": [
    "# Make a list of bins\n",
    "bins = range(10, 100, 10)\n",
    "\n",
    "# Plot the histogram\n",
    "fig, ax = plt.subplots()\n",
    "counts, edges, bars = ax.hist(run_age['Age'], bins = bins, edgecolor='black')\n",
    "ax.bar_label(bars);"
   ]
  },
  {
   "cell_type": "markdown",
   "id": "9c14d200",
   "metadata": {},
   "source": [
    "<h3 style=\"color:red; display:inline\">Coding Challenge! &lt; / &gt; </h3>\n",
    "\n",
    "It's your turn! Can you plot a histogram displaying the distribution of runners in ranges of completion hours? That is, how many runners completed the race in 3 hours? How many in 4 hours? So on and so forth. Before you plot the histogram, take a guess how long it took the most runners to complete the race? Between 2 - 3 hours? Between 3 - 4 hours? Then make the plot! Did you guess it right?"
   ]
  },
  {
   "cell_type": "code",
   "execution_count": null,
   "id": "63cd0af1",
   "metadata": {},
   "outputs": [],
   "source": [
    "### Prepare the data\n",
    "# Reduce the dataframe to the column(s) of interest\n"
   ]
  },
  {
   "cell_type": "code",
   "execution_count": null,
   "id": "f6e07c07",
   "metadata": {},
   "outputs": [],
   "source": [
    "### Plot histogram\n",
    "\n",
    "# Create the bins\n",
    "\n",
    "\n",
    "\n",
    "# Make the histogram\n",
    "\n",
    "\n",
    "\n",
    "\n",
    "\n"
   ]
  },
  {
   "cell_type": "markdown",
   "id": "8e31da91",
   "metadata": {},
   "source": [
    "# Create an interactive figure\n",
    "\n",
    "Interactive charts can effectively tell a story. They also allow the audience to explore the information in a gradual and interactive way. Recall the interactive chart we played with in [DataViz 1](./data-viz1.ipynb) displaying the Ph.D. gender gap by country? When we look at all Ph.D. degrees regardless of the area of study, how well did we find the US does in terms of gender equity in awarding Ph.D. degrees? When we zoomed into \"science and engineering\", what did we find? When we zoomed into \"social and behavioral\", what did we find?    \n",
    "\n",
    "The process of exploration is also a knowledge-building process. Interactive charts are really useful in helping the audience experience this process. Let's try building an interactive bar chart. "
   ]
  },
  {
   "cell_type": "markdown",
   "id": "d0c9950c",
   "metadata": {},
   "source": [
    "## An interative bar chart"
   ]
  },
  {
   "cell_type": "code",
   "execution_count": null,
   "id": "3810a55d",
   "metadata": {
    "tags": []
   },
   "outputs": [],
   "source": [
    "# import needed modules\n",
    "from ipywidgets import widgets, interactive"
   ]
  },
  {
   "cell_type": "code",
   "execution_count": null,
   "id": "20b41be4",
   "metadata": {
    "tags": []
   },
   "outputs": [],
   "source": [
    "# Get a general idea of the data\n",
    "run.info()"
   ]
  },
  {
   "cell_type": "code",
   "execution_count": null,
   "id": "66457042",
   "metadata": {
    "tags": []
   },
   "outputs": [],
   "source": [
    "# Reduce the dataframe to data of interest\n",
    "run_interactive = run[['Gender', 'CountryOfResName']].copy()\n",
    "\n",
    "# Sort the Country names in alphabetical order for later use\n",
    "run_interactive = run_interactive.sort_values(by='CountryOfResName').reset_index(drop=True)\n",
    "\n",
    "# Drop the row where the CountryOfResName has a null value\n",
    "run_interactive = run_interactive.dropna(subset='CountryOfResName').reset_index(drop=True)"
   ]
  },
  {
   "cell_type": "code",
   "execution_count": null,
   "id": "1dea21aa",
   "metadata": {
    "tags": []
   },
   "outputs": [],
   "source": [
    "# Make a dropdown menu to select the Country of Residence, or \"All\"\n",
    "country_res = widgets.Dropdown(\n",
    "                                options=['All'] + run_interactive['CountryOfResName'].unique().tolist(),                            \n",
    "                                value='All',\n",
    "                                description='Country:',\n",
    "                        )"
   ]
  },
  {
   "cell_type": "code",
   "execution_count": null,
   "id": "460cdf97",
   "metadata": {
    "tags": []
   },
   "outputs": [],
   "source": [
    "# Define a function to make the plot\n",
    "\n",
    "def plot(country_res):\n",
    "    df = run_interactive.copy()\n",
    "    if country_res != 'All':\n",
    "        df = df[df['CountryOfResName'] == country_res]\n",
    "    x = ['Female', 'Male']\n",
    "    y = [len(df.loc[df['Gender']=='F']), len(df.loc[df['Gender']=='M'])]\n",
    "    fig, ax = plt.subplots()\n",
    "    ax.bar(x, y, 0.2, color=['orchid', 'blue'])\n",
    "    ax.set_ylabel('Number of runners')\n",
    "    ax.set_title(f\"Country of residence = {country_res}\")"
   ]
  },
  {
   "cell_type": "code",
   "execution_count": null,
   "id": "8fd38a9e",
   "metadata": {
    "tags": []
   },
   "outputs": [],
   "source": [
    "# Render the plot\n",
    "interactive(plot, country_res=country_res)"
   ]
  },
  {
   "cell_type": "markdown",
   "id": "a88f06cb",
   "metadata": {},
   "source": [
    "You have learned how to create scatter plots, line graphs, bar charts, and histograms. You can try and make them all interactive."
   ]
  },
  {
   "cell_type": "code",
   "execution_count": null,
   "id": "8ee43035",
   "metadata": {},
   "outputs": [],
   "source": []
  },
  {
   "cell_type": "markdown",
   "id": "b8a34dc2",
   "metadata": {},
   "source": [
    "<h3 style=\"color:red; display:inline\">Coding Challenge! &lt; / &gt; </h3>\n",
    "\n",
    "It's your turn! Can you plot an interactive line graph showing the number of male and female runners in the Boston Marathon across 2017 - 2022 by Country of Residence? The plot will have three widgets:\n",
    "* Start year\n",
    "* End year\n",
    "* Runner's country of residence\n",
    "\n",
    "When a user chooses the start year, end year, and the country of residence, they will see a line graph with two lines showing the number of male and female runners over the selected year range for the selected country."
   ]
  },
  {
   "cell_type": "code",
   "execution_count": null,
   "id": "6460a9d9",
   "metadata": {
    "tags": []
   },
   "outputs": [],
   "source": [
    "### Create an interactive line graph\n",
    "### based on the data on the Boston Marathon \n",
    "### between 2017 - 2022\n",
    "\n",
    "# Get the paths to the files\n",
    "\n",
    "paths = ['../All-sample-files/DataViz3_BostonMarathon2017.csv',\n",
    "       '../All-sample-files/DataViz3_BostonMarathon2018.csv',\n",
    "       '../All-sample-files/DataViz3_BostonMarathon2019.csv',\n",
    "       '../All-sample-files/DataViz3_BostonMarathon2021.csv',\n",
    "       '../All-sample-files/DataViz3_BostonMarathon2022.csv']"
   ]
  },
  {
   "cell_type": "code",
   "execution_count": null,
   "id": "67e52a14",
   "metadata": {},
   "outputs": [],
   "source": [
    "### Prepare the data\n",
    "\n"
   ]
  },
  {
   "cell_type": "code",
   "execution_count": null,
   "id": "e89e180c",
   "metadata": {},
   "outputs": [],
   "source": [
    "### Make the interactive chart\n",
    "\n"
   ]
  },
  {
   "cell_type": "markdown",
   "id": "53cf6858",
   "metadata": {},
   "source": [
    "## Lesson Complete\n",
    "\n",
    "Congratulations! You've completed the Data Visualization series.\n",
    "\n",
    "Considering the amount of material in in this series, there's a good chance you won't retain it all. That's okay. Programmers often need to look up things to accomplish a task they haven't done in a while, particularly if it is in a language they don't often use. When you're working on a project, you can always come back to these lessons as reference materials. In other words, you've learned an incredible amount, so don't be surprised if it doesn't all stick at first.\n",
    "\n",
    "If you want to help yourself retain what you've learned, the best way is to start putting it into practice. Try your hand at creating some small Data Visualization projects and recognize that the things you've learned here will cement with time and practice. When you do forget a particular thing—as we all do—a quick web search often turns up some useful examples.\n",
    "\n",
    "### Solutions to exercises\n",
    "\n",
    "Here are the solutions to some of the exercises in this notebook."
   ]
  },
  {
   "cell_type": "code",
   "execution_count": null,
   "id": "dd7389a9",
   "metadata": {
    "tags": []
   },
   "outputs": [],
   "source": [
    "### Make a figure containing multiple subplots\n",
    "### showing the percentage of male and female children with elevated BLL by county\n",
    "\n",
    "# prepare the data\n",
    "lead = pd.read_csv('./data/lead_poisoning_county_2012To2020.csv')\n",
    "lead['Rate'] = lead['Rate'] * 0.1\n",
    "lead_by_gender = lead.loc[lead['Sex']!='Total', ['Geo Description', 'Sex', 'Year', 'Rate']]\n",
    "# lead_female = lead.loc[lead['Sex']=='Female', ['Geo Description', 'Year', 'Rate']].copy().reset_index(drop=True)\n",
    "# lead_male = lead.loc[lead['Sex']=='Male', ['Geo Description', 'Year', 'Rate']].copy().reset_index(drop=True)\n",
    "\n",
    "# create the figure\n",
    "import matplotlib.ticker as mtick\n",
    "fig, axs = plt.subplots(nrows=7, ncols=2, figsize = (7, 15), sharex=True, sharey=True)\n",
    "\n",
    "# Get the counties\n",
    "counties = lead_by_gender['Geo Description'].unique().tolist()\n",
    "labels=['Female', 'Male']\n",
    "# Make the subplots\n",
    "for i, ax in enumerate(axs.flat):\n",
    "    ax.plot(range(2012, 2021), \n",
    "            lead_by_gender.loc[(lead_by_gender['Geo Description']==counties[i])&(lead_by_gender['Sex']=='Female'), \n",
    "                            'Rate'], \n",
    "            color='orange')\n",
    "    ax.plot(range(2012, 2021), \n",
    "            lead_by_gender.loc[(lead_by_gender['Geo Description']==counties[i])&(lead_by_gender['Sex']=='Male'), \n",
    "                            'Rate'],             \n",
    "            color='blue')\n",
    "    ax.yaxis.set_major_formatter(mtick.PercentFormatter())\n",
    "    ax.set_title(counties[i], fontsize=9)\n",
    "fig.suptitle('Percentage of Female and Male Children\\nwith Elevated BLL', y=0.99)\n",
    "fig.supxlabel('Year')\n",
    "fig.legend(labels=labels,loc=\"upper right\")\n",
    "fig.tight_layout()"
   ]
  },
  {
   "cell_type": "code",
   "execution_count": null,
   "id": "db70ad1a",
   "metadata": {
    "tags": []
   },
   "outputs": [],
   "source": [
    "### Create a histogram displaying the distribution of runners\n",
    "### by completion hours\n",
    "\n",
    "# Get the data\n",
    "file ='../All-sample-files/DataViz3_BostonMarathon2022.csv'\n",
    "\n",
    "# Create a dataframe from the csv file\n",
    "run = pd.read_csv(file)\n",
    "\n",
    "# Reduce the dataframe to the column of interest\n",
    "run_hour = run[['OfficialTime']].copy()\n",
    "run_hour = run_hour.rename(columns={'OfficialTime':'CompletionTime'})\n",
    "\n",
    "# Get the hour\n",
    "run_hour['CompletionTime'] = run_hour['CompletionTime'].str[0].astype(int)\n",
    "\n",
    "# Plot histogram\n",
    "bins = range(run_hour['CompletionTime'].min(), run_hour['CompletionTime'].max()+1)\n",
    "\n",
    "# Plot the histagram\n",
    "fig, ax = plt.subplots(figsize=(5, 5))\n",
    "counts, edges, bars = ax.hist(run_hour['CompletionTime'], bins = bins, edgecolor='black')\n",
    "ax.bar_label(bars);"
   ]
  },
  {
   "cell_type": "code",
   "execution_count": null,
   "id": "a310a999",
   "metadata": {
    "tags": []
   },
   "outputs": [],
   "source": [
    "### Create an interactive line graph\n",
    "### based on the data on the Boston Marathon \n",
    "### between 2017 - 2022\n",
    "paths = ['../All-sample-files/DataViz3_BostonMarathon2017.csv',\n",
    "       '../All-sample-files/DataViz3_BostonMarathon2018.csv',\n",
    "       '../All-sample-files/DataViz3_BostonMarathon2019.csv',\n",
    "       '../All-sample-files/DataViz3_BostonMarathon2021.csv',\n",
    "       '../All-sample-files/DataViz3_BostonMarathon2022.csv']\n",
    "\n",
    "# Get the csv files\n",
    "BosRun_2017 = pd.read_csv(paths[0])\n",
    "BosRun_2018 = pd.read_csv(paths[1])\n",
    "BosRun_2019 = pd.read_csv(paths[2])\n",
    "BosRun_2021 = pd.read_csv(paths[3])\n",
    "BosRun_2022 = pd.read_csv(paths[4])\n",
    "\n",
    "# reduce the columns to columns of interest\n",
    "BosRun_2017 = BosRun_2017[['CountryOfResName', 'Gender']]\n",
    "BosRun_2018 = BosRun_2018[['CountryOfResName', 'Gender']]\n",
    "BosRun_2019 = BosRun_2019[['CountryOfResName', 'Gender']]\n",
    "BosRun_2021 = BosRun_2021[['CountryOfResName', 'Gender']]\n",
    "BosRun_2022 = BosRun_2022[['CountryOfResName', 'Gender']]\n",
    "\n",
    "# Get the count of female and male runners for each year's dataframe\n",
    "BosRun_2017 = BosRun_2017.groupby(['CountryOfResName', 'Gender']).size().to_frame('Count').stack().unstack(level=1)\n",
    "BosRun_2017 = BosRun_2017.rename_axis(None, axis=1).reset_index().drop('level_1', axis=1).fillna(0)\n",
    "BosRun_2018 = BosRun_2018.groupby(['CountryOfResName', 'Gender']).size().to_frame('Count').stack().unstack(level=1)\n",
    "BosRun_2018 = BosRun_2018.rename_axis(None, axis=1).reset_index().drop('level_1', axis=1).fillna(0)\n",
    "BosRun_2019 = BosRun_2019.groupby(['CountryOfResName', 'Gender']).size().to_frame('Count').stack().unstack(level=1)\n",
    "BosRun_2019 = BosRun_2019.rename_axis(None, axis=1).reset_index().drop('level_1', axis=1).fillna(0)\n",
    "BosRun_2021 = BosRun_2021.groupby(['CountryOfResName', 'Gender']).size().to_frame('Count').stack().unstack(level=1)\n",
    "BosRun_2021 = BosRun_2021.rename_axis(None, axis=1).reset_index().drop('level_1', axis=1).fillna(0)\n",
    "BosRun_2022 = BosRun_2022.groupby(['CountryOfResName', 'Gender']).size().to_frame('Count').stack().unstack(level=1)\n",
    "BosRun_2022 = BosRun_2022.rename_axis(None, axis=1).reset_index().drop('level_1', axis=1).fillna(0)\n",
    "\n",
    "# Add a new column to store the year of the race\n",
    "BosRun_2017['Year'] = 2017\n",
    "BosRun_2018['Year'] = 2018\n",
    "BosRun_2019['Year'] = 2019\n",
    "BosRun_2021['Year'] = 2021\n",
    "BosRun_2022['Year'] = 2022\n",
    "\n",
    "# Get all Country Res Names and make a dataframe\n",
    "country_res_all = pd.DataFrame({'CountryOfResName':\n",
    "                               list(set(BosRun_2017['CountryOfResName'].tolist() +\n",
    "                                   BosRun_2018['CountryOfResName'].tolist() +\n",
    "                                   BosRun_2019['CountryOfResName'].tolist() +\n",
    "                                   BosRun_2021['CountryOfResName'].tolist() +\n",
    "                                   BosRun_2022['CountryOfResName'].tolist()\n",
    "                                  ))}).sort_values(by='CountryOfResName').reset_index(drop=True)\n",
    "\n",
    "# Make df from each year a full df with all country names\n",
    "# fill the missing values with relevant values\n",
    "BosRun_2017 = pd.merge(BosRun_2017, country_res_all, how='right').fillna(value={'F':0, 'M':0, 'Year':2017})\n",
    "BosRun_2018 = pd.merge(BosRun_2018, country_res_all, how='right').fillna(value={'F':0, 'M':0, 'Year':2018})\n",
    "BosRun_2019 = pd.merge(BosRun_2019, country_res_all, how='right').fillna(value={'F':0, 'M':0, 'Year':2019})\n",
    "BosRun_2021 = pd.merge(BosRun_2021, country_res_all, how='right').fillna(value={'F':0, 'M':0, 'Year':2021})\n",
    "BosRun_2022 = pd.merge(BosRun_2022, country_res_all, how='right').fillna(value={'F':0, 'M':0, 'Year':2022})\n",
    "\n",
    "# Concatenate the dfs into one single df\n",
    "BosRun_all = pd.concat([BosRun_2017, BosRun_2018, BosRun_2019, BosRun_2021, BosRun_2022])\n",
    "\n",
    "# Drop rows where the CountryOfResName has a null value\n",
    "BosRun_all = BosRun_all.dropna(subset='CountryOfResName')\n",
    "\n",
    "# Make two bounded text box for year range selection \n",
    "start_year = widgets.BoundedFloatText(\n",
    "    value=BosRun_all['Year'].min(),\n",
    "    min=BosRun_all['Year'].min(),\n",
    "    max=BosRun_all['Year'].max(),\n",
    "    step=1,\n",
    "    description='Start Year:',\n",
    "    disabled=False,\n",
    "    color='black'\n",
    ")\n",
    "end_year = widgets.BoundedFloatText(\n",
    "    value=BosRun_all['Year'].max(),\n",
    "    min=BosRun_all['Year'].min(),\n",
    "    max=BosRun_all['Year'].max(),\n",
    "    step=1,\n",
    "    description='End Year:',\n",
    "    disabled=False,\n",
    "    color='black'\n",
    ")\n",
    "\n",
    "# make dropdown menu for country selection \n",
    "country_res = widgets.Dropdown(\n",
    "                                options=['All'] + BosRun_all['CountryOfResName'].unique().tolist(),                            \n",
    "                                value='All',\n",
    "                                description='Country:',\n",
    "                        )\n",
    "\n",
    "# Define a function to plot the interactive figure\n",
    "def plot(start_year, end_year, country_res):\n",
    "    \"\"\"\n",
    "    Filter and plot the dataframe as a line graph of count of F and M runners over the\n",
    "    selected year range\n",
    "    \"\"\"\n",
    "    if start_year >= end_year:\n",
    "        print(\"Start year must preceed end year.\")        \n",
    "    else:\n",
    "        df = BosRun_all.copy()\n",
    "        df = df.loc[(df['Year'] >= start_year) & (df['Year'] <= end_year)]\n",
    "        x = list(range(int(start_year), int(end_year+1)))\n",
    "        if 2020 in x:\n",
    "            x.remove(2020)\n",
    "        if country_res != 'All':\n",
    "            df = df.loc[df['CountryOfResName']==country_res]\n",
    "        # Plot the graph\n",
    "\n",
    "        if df['F'].sum() + df['M'].sum() == 0:\n",
    "            print('There is no data in the selection to plot.')\n",
    "        else:\n",
    "            y_female = df[['F', 'M', 'Year']].groupby(by='Year').sum()['F']\n",
    "            y_male = df[['F', 'M', 'Year']].groupby(by='Year').sum()['M']\n",
    "            fig, ax = plt.subplots()\n",
    "            ax.plot(x, y_female, 'o-', color='orchid', label='F')\n",
    "            ax.plot(x, y_male, 'D-', color='blue', label='M')\n",
    "            ax.set_xticks(x)\n",
    "            ax.legend(loc='lower left')\n",
    "            ax.set_title(f\"Country of residence = {country_res}\")\n",
    "            plt.show()\n",
    "interactive(plot, country_res=country_res, start_year=start_year, end_year=end_year)"
   ]
  },
  {
   "cell_type": "code",
   "execution_count": null,
   "id": "b88b119c-acf2-4aad-9a81-cedc389ef8f5",
   "metadata": {},
   "outputs": [],
   "source": []
  }
 ],
 "metadata": {
  "kernelspec": {
   "display_name": "Python 3 (ipykernel)",
   "language": "python",
   "name": "python3"
  },
  "language_info": {
   "codemirror_mode": {
    "name": "ipython",
    "version": 3
   },
   "file_extension": ".py",
   "mimetype": "text/x-python",
   "name": "python",
   "nbconvert_exporter": "python",
   "pygments_lexer": "ipython3",
   "version": "3.11.9"
  },
  "toc": {
   "base_numbering": 1,
   "nav_menu": {},
   "number_sections": true,
   "sideBar": true,
   "skip_h1_title": true,
   "title_cell": "Table of Contents",
   "title_sidebar": "Contents",
   "toc_cell": false,
   "toc_position": {},
   "toc_section_display": true,
   "toc_window_display": false
  }
 },
 "nbformat": 4,
 "nbformat_minor": 5
}

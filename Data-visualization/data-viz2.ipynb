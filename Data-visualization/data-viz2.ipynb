{
 "cells": [
  {
   "cell_type": "markdown",
   "id": "b004ebb6-d880-4c87-a123-a8fcd05b5eee",
   "metadata": {
    "execution": {
     "iopub.execute_input": "2023-04-04T19:32:21.584947Z",
     "iopub.status.busy": "2023-04-04T19:32:21.583539Z",
     "iopub.status.idle": "2023-04-04T19:32:21.604860Z",
     "shell.execute_reply": "2023-04-04T19:32:21.603643Z",
     "shell.execute_reply.started": "2023-04-04T19:32:21.584727Z"
    }
   },
   "source": [
    "<img align=\"left\" src=\"https://ithaka-labs.s3.amazonaws.com/static-files/images/tdm/tdmdocs/CC_BY.png\"><br />\n",
    "\n",
    "Created by Zhuo Chen for Constellate under [Creative Commons CC BY License](https://creativecommons.org/licenses/by/4.0/).<br />\n",
    "For questions/comments/improvements, email zhuo.chen@ithaka.org or nathan.kelber@ithaka.org.<br />"
   ]
  },
  {
   "cell_type": "markdown",
   "id": "7b283b7a-701c-400e-a883-3da2c80e4916",
   "metadata": {},
   "source": [
    "# Data Visualization 2\n",
    "\n",
    "This is lesson 2 of 3 in the educational series on **Data Visualization**. \n",
    "\n",
    "**Description:** This notebook focuses on skills for building basic charts using the Python based Matplotlib toolkit. \n",
    "\n",
    "We will discuss:\n",
    "\n",
    "* The Matplotlib architecture\n",
    "* How to make a scatter plot\n",
    "* How to make a line graph \n",
    "* How to make a bar chart\n",
    "\n",
    "**Use case:** For Learners (Detailed explanation, not ideal for researchers)\n",
    "\n",
    "**Difficulty:** Intermediate\n",
    "\n",
    "**Completion time:** 90 minutes\n",
    "\n",
    "**Knowledge Required:** \n",
    "\n",
    "* Python basics ([start learning Python basics](../Python-basics/python-basics-1.ipynb))\n",
    "* Pandas ([start learning Pandas](../Pandas-basics/pandas-basics-1.ipynb))\n",
    "\n",
    "**Knowledge Recommended:**\n",
    "\n",
    "Objects, attributes and methods (start learning [object-oriented programming](../Python-intermediate/python-intermediate-4.ipynb))\n",
    "\n",
    "**Data Format**: .csv\n",
    "\n",
    "**Libraries Used**: Pandas, Matplotlib\n",
    "\n",
    "**Research Pipeline**: None\n",
    "\n",
    "___"
   ]
  },
  {
   "cell_type": "markdown",
   "id": "72eab364",
   "metadata": {},
   "source": [
    "## Import Required Libraries"
   ]
  },
  {
   "cell_type": "code",
   "execution_count": null,
   "id": "8c85a229",
   "metadata": {
    "tags": []
   },
   "outputs": [],
   "source": [
    "# Import the matplotlib library and pyplot module\n",
    "import matplotlib as mpl\n",
    "import matplotlib.pyplot as plt"
   ]
  },
  {
   "cell_type": "code",
   "execution_count": null,
   "id": "eba5e764-d95a-4353-b2d8-1059b4c77b9a",
   "metadata": {
    "tags": []
   },
   "outputs": [],
   "source": [
    "# Use the magic function to create visualizations in Jupyter Notebook\n",
    "%matplotlib inline"
   ]
  },
  {
   "cell_type": "markdown",
   "id": "19fcc1e1",
   "metadata": {},
   "source": [
    "## Matplotlib Architecture\n",
    "\n",
    "Matplotlib has three layers. \n",
    "\n",
    "* A Backend layer which renders the plots to the screen or files\n",
    "    - In this notebook, we are going to use the inline backend. All plots we make in this notebook will be rendered to the screen and each figure we plot will be presented in a separate cell.\n",
    "    \n",
    "* An Artist layer that has containers like Figures, Subplot and Axes\n",
    "\n",
    "* A Scripting layer that brings together the artist objects"
   ]
  },
  {
   "cell_type": "markdown",
   "id": "88edbb8e",
   "metadata": {},
   "source": [
    "When we write some code to plot a figure, the figure displayed on the screen is basically a collection of Artists.\n",
    "\n",
    "\n",
    "<img src=\"https://ithaka-labs.s3.amazonaws.com/static-files/images/tdm/tdmdocs/DataViz2_matplotlib_figureanatomy.png\" width=500>\n",
    "\n",
    "Source: https://matplotlib.org/stable/tutorials/introductory/quick_start.html#figure-parts"
   ]
  },
  {
   "cell_type": "markdown",
   "id": "fee31f0b",
   "metadata": {},
   "source": [
    "## Two ways of using Matplotlib\n",
    "\n",
    "There are two ways to use Matplotlib. First, we can explicitly interface with the Artist layer by making figures and axes and calling methods on the objects. This is the object-oriented (OO) style. Second, we can use the `plot` function in the `pyplot` module to implicitly create and manage figures and axes, and use the functions in `pyplot` for plotting. This is called the pyplot style."
   ]
  },
  {
   "cell_type": "markdown",
   "id": "fa43bc72",
   "metadata": {},
   "source": [
    "### The explicit interface: an example\n",
    "\n",
    "Let's plot a very simple figure by interfacing with the artist layer explicitly. "
   ]
  },
  {
   "cell_type": "code",
   "execution_count": null,
   "id": "d83902be",
   "metadata": {
    "tags": []
   },
   "outputs": [],
   "source": [
    "# First, we create a figure with a single axes object\n",
    "fig, ax = plt.subplots()\n",
    "\n",
    "# Second, we plot a single data point on the axes object\n",
    "# by calling the plot method on it\n",
    "ax.plot(1, 1, '.') ;"
   ]
  },
  {
   "cell_type": "markdown",
   "id": "5e900119-b1b8-4abc-8448-7397861cfa2d",
   "metadata": {
    "execution": {
     "iopub.execute_input": "2023-04-04T20:29:58.965253Z",
     "iopub.status.busy": "2023-04-04T20:29:58.964421Z",
     "iopub.status.idle": "2023-04-04T20:29:58.980817Z",
     "shell.execute_reply": "2023-04-04T20:29:58.979953Z",
     "shell.execute_reply.started": "2023-04-04T20:29:58.965191Z"
    }
   },
   "source": [
    "### The implicit interface: an example\n",
    "\n",
    "Let's plot the same simple figure in the pyplot style. The function used to plot is called `plot`. Let's take a look at its docstring."
   ]
  },
  {
   "cell_type": "code",
   "execution_count": null,
   "id": "16f1a1f4-4e3a-4e82-a085-c2715ed44533",
   "metadata": {
    "scrolled": true,
    "tags": []
   },
   "outputs": [],
   "source": [
    "# Take a look at the docstring of the plot function\n",
    "plt.plot?"
   ]
  },
  {
   "cell_type": "markdown",
   "id": "736c0f5b-df38-4913-b714-1e0f30c026e9",
   "metadata": {},
   "source": [
    "The first two arguments to `plot` will be interpreted as x, y pairs. Let's get started by plotting a single data point in a two-dimensional space."
   ]
  },
  {
   "cell_type": "code",
   "execution_count": null,
   "id": "68580b45-37c3-4cb5-978e-c88c6d96c77f",
   "metadata": {
    "tags": []
   },
   "outputs": [],
   "source": [
    "# plot a single point\n",
    "plt.plot(1, 1, '.');"
   ]
  },
  {
   "cell_type": "markdown",
   "id": "90a50796",
   "metadata": {},
   "source": [
    "When you look for examples of plotting with matplotlib on the internet, you will find that there is a lot of confusion about these two different approaches to plotting. In the Matplotlib documentation, the developers of this library say that \"[I]n general, we suggest using the OO style, particularly for complicated plots, and functions and scripts that are intended to be reused as part of a larger project. However, the pyplot style can be very convenient for quick interactive work.\""
   ]
  },
  {
   "cell_type": "markdown",
   "id": "f9079498",
   "metadata": {},
   "source": [
    "# Different kinds of plots\n",
    "\n",
    "Matplotlib has some useful plotting methods in the scripting layer to make different kinds of plots including scatterplots, line graphs, and bar charts. Let's take a look at each one."
   ]
  },
  {
   "cell_type": "markdown",
   "id": "8e937281",
   "metadata": {},
   "source": [
    "## Scatterplots\n",
    "\n",
    "Scatter plots are usually used to show the relationship between different variables. In Matplotlib, we use the `scatter()` function to make a scatter plot. It takes an x-axis value as the first argument and a y-axis value as the second argument. "
   ]
  },
  {
   "cell_type": "code",
   "execution_count": null,
   "id": "241af2ce",
   "metadata": {
    "tags": []
   },
   "outputs": [],
   "source": [
    "# import numpy to generate data points\n",
    "import numpy as np"
   ]
  },
  {
   "cell_type": "code",
   "execution_count": null,
   "id": "859ebacf",
   "metadata": {
    "tags": []
   },
   "outputs": [],
   "source": [
    "# use numpy to generate the x-axis values\n",
    "x = np.array([1,2,3,4,5])\n",
    "y = 2 * x\n",
    "\n",
    "fig, ax = plt.subplots()\n",
    "ax.scatter(x, y);"
   ]
  },
  {
   "cell_type": "markdown",
   "id": "8b8a94d1",
   "metadata": {},
   "source": [
    "As we can see, the values with the same index in the two arrays x and y are used as the coordinate of a data point. For example, the first element of both arrays has index 0. Therefore, (1, 2) is the coordinate of a data point. In the same vein, the coordinates for the other data points are (2, 4), (3, 6), (4, 8), (5, 10). "
   ]
  },
  {
   "cell_type": "markdown",
   "id": "2714ae2f",
   "metadata": {},
   "source": [
    "### Slicing and coloring\n",
    "\n",
    "When you make a scatter plot, you can slice the data series into smaller data series and then color them differently. This is commonly used when the data are categorically grouped. \n",
    "\n",
    "Suppose you are a middle school teacher and you teach two classes, the Hippo class and the Butterfly class. You have an excel file that contains:\n",
    "* Student names\n",
    "* Student grades in English\n",
    "* Novels read for each student\n",
    "* Student class name\n",
    "\n",
    "|Name|Grade|Novels Completed|Class|\n",
    "|---|---|---|---|\n",
    "|Alex Beverly|80|3|Hippo|\n",
    "|Adrian Clark|70|2|Hippo|\n",
    "|Ari Jay|72|2|Hippo|\n",
    "|May Lee|85|5|Butterfly|\n",
    "|Max White|90|6|Butterfly|\n",
    "|Michelle Tsai|92|10|Butterfly|\n",
    "\n",
    "Let's say you want to make a scatterplot with the number of novels read as the x-axis and the English grades as the y-axis. "
   ]
  },
  {
   "cell_type": "code",
   "execution_count": null,
   "id": "e825a480",
   "metadata": {
    "tags": []
   },
   "outputs": [],
   "source": [
    "# Make a dataframe \n",
    "import pandas as pd\n",
    "eng_grades = pd.DataFrame({'Name': ['Alex Beverly',\n",
    "                                    'Adrian Clark',\n",
    "                                    'Ari Jay',\n",
    "                                    'May Lee',\n",
    "                                    'Max White',\n",
    "                                    'Michelle Tsai'],\n",
    "                           'English':[80, \n",
    "                                     70,\n",
    "                                     72,\n",
    "                                     85,\n",
    "                                     90,\n",
    "                                     95],\n",
    "                           'Novel':[3,\n",
    "                                   1,\n",
    "                                   2,\n",
    "                                   6,\n",
    "                                   8,\n",
    "                                   10],\n",
    "                           'Class':['Hippo',\n",
    "                                    'Hippo',\n",
    "                                    'Hippo',\n",
    "                                    'Butterfly',\n",
    "                                    'Butterfly',\n",
    "                                    'Butterfly'\n",
    "                                   ]})\n",
    "eng_grades"
   ]
  },
  {
   "cell_type": "markdown",
   "id": "4da12ecd",
   "metadata": {},
   "source": [
    "You can get the x values and y values from the relevant columns."
   ]
  },
  {
   "cell_type": "code",
   "execution_count": null,
   "id": "c4c543fa",
   "metadata": {
    "tags": []
   },
   "outputs": [],
   "source": [
    "# Get the x values and y values\n",
    "x = eng_grades['Novel']\n",
    "y = eng_grades['English']"
   ]
  },
  {
   "cell_type": "markdown",
   "id": "43d63096",
   "metadata": {},
   "source": [
    "Then, you can slice the x series and y series to get the x values and y values for the two classes. After that, you can plot the data for the two classes separately onto one scatter plot. \n",
    "\n",
    "Note that there is a `label` parameter of the `scatter()` method. Giving the data series different labels allows us to build a legend. "
   ]
  },
  {
   "cell_type": "code",
   "execution_count": null,
   "id": "bd626da1",
   "metadata": {
    "scrolled": true,
    "tags": []
   },
   "outputs": [],
   "source": [
    "# Plot two data series on one scatter plot\n",
    "fig, ax = plt.subplots()\n",
    "\n",
    "ax.scatter(x.loc[:3], y.loc[:3], c='blue', label='Hippo Class')\n",
    "ax.scatter(x.loc[3:], y.loc[3:], c='orange', label='Butterfly Class');"
   ]
  },
  {
   "cell_type": "markdown",
   "id": "4707aced",
   "metadata": {},
   "source": [
    "This scatter plot looks incomplete. The x-axis and y-axis do not have labels yet. Readers will not be able to understand what they represent or the units they describe. We also need a legend telling the readers what the different colors of the data points mean. Finally, we need a title for this figure. \n",
    "\n",
    "The axis labels, the legend and the title of a figure are called Artists. It is easy to add these Artists to the axes object we have created."
   ]
  },
  {
   "cell_type": "code",
   "execution_count": null,
   "id": "2dbee999",
   "metadata": {
    "tags": []
   },
   "outputs": [],
   "source": [
    "### Add axis labels, legend and title\n",
    "fig, ax = plt.subplots()\n",
    "\n",
    "ax.scatter(x.loc[:3], y.loc[:3], c='blue', label='Hippo Class')\n",
    "ax.scatter(x.loc[3:], y.loc[3:], c='orange', label='Butterfly Class');\n",
    "\n",
    "# make a label for the x-axis\n",
    "ax.set_xlabel('Number of novels read')\n",
    "\n",
    "# make a label for the y-axis\n",
    "ax.set_ylabel('English grades')\n",
    "\n",
    "# make a title for the figure\n",
    "ax.set_title('Relationship between novel reading and English grades')\n",
    "\n",
    "# add a legend\n",
    "ax.legend(loc='upper left');"
   ]
  },
  {
   "cell_type": "markdown",
   "id": "59d811f9",
   "metadata": {},
   "source": [
    "<h3 style=\"color:red; display:inline\">Coding Challenge! &lt; / &gt; </h3>\n",
    "\n",
    "It's your turn to write some code and make a scatterplot!\n",
    "\n",
    "Suppose you are the owner of an ice cream store and in the last ten days you kept a record of how much ice cream you sold a day and how high the temperature was at noon that day. \n",
    "\n",
    "|Temperature˚C|Sales|\n",
    "|---|---|\n",
    "|14.2˚|\\\\$250|\n",
    "|11.9˚ |\\\\$185|\n",
    "|15.2˚ |\\\\$332|\n",
    "|18.1˚ |\\\\$421|\n",
    "|17.2˚ |\\\\$380|\n",
    "|19.4˚ |\\\\$450|\n",
    "|22.1˚ |\\\\$500|\n",
    "|25.1˚ |\\\\$614|\n",
    "|22.6˚ |\\\\$520|\n",
    "|24.8˚ |\\\\$570|"
   ]
  },
  {
   "cell_type": "code",
   "execution_count": null,
   "id": "174762e8",
   "metadata": {},
   "outputs": [],
   "source": [
    "# Create a df containing the data\n"
   ]
  },
  {
   "cell_type": "code",
   "execution_count": null,
   "id": "d368c178",
   "metadata": {},
   "outputs": [],
   "source": [
    "# Assign the values in the temperature column to x\n",
    "# Assign the values in the Sales column to y\n"
   ]
  },
  {
   "cell_type": "code",
   "execution_count": null,
   "id": "ff1020e9",
   "metadata": {},
   "outputs": [],
   "source": [
    "# Make a scatterplot displaying the relationship between \n",
    "# the temperature and the sales\n"
   ]
  },
  {
   "cell_type": "markdown",
   "id": "75094ecc",
   "metadata": {},
   "source": [
    "## Line graphs\n",
    "\n",
    "A line graph contains points connected by line segments. It is commonly used to demonstrate changes in value. The horizontal axis holds a value that has a continuous progression, often \"time,\" and the vertical axis shows the change in a value of interest.\n",
    "\n",
    "Let's use the childhood lead poisoning data from [Mass.gov](https://www.mass.gov/info-details/childhood-lead-poisoning-data) as an example. Suppose we are interested in the data on lead poisoning in children between 9 and 48 months of age in the county of Lowell from 2012 - 2020. Specifically, we are interested in those children with estimated confirmed blood lead levels $\\geq$ 5$\\mu g/dL$, which is regarded as high risk. "
   ]
  },
  {
   "cell_type": "code",
   "execution_count": null,
   "id": "8cb5b1c6",
   "metadata": {
    "tags": []
   },
   "outputs": [],
   "source": [
    "# download the sample file\n",
    "\n",
    "from pathlib import Path\n",
    "\n",
    "# Check if a data folder exists. If not, create it.\n",
    "data_folder = Path('./data/')\n",
    "data_folder.mkdir(exist_ok=True)\n",
    "\n",
    "# Get the file path to the file and download it to the data folde\n",
    "file_path = '../All-sample-files/DataViz2_childhood_lead_poisoning.csv'"
   ]
  },
  {
   "cell_type": "markdown",
   "id": "2f2d719f",
   "metadata": {},
   "source": [
    "Again, let's go to `File->Open->data` to find the downloaded file and take a look. "
   ]
  },
  {
   "cell_type": "code",
   "execution_count": null,
   "id": "a1ea480a",
   "metadata": {
    "tags": []
   },
   "outputs": [],
   "source": [
    "# create a dataframe from the csv file\n",
    "lead = pd.read_csv(file_path)\n",
    "lead"
   ]
  },
  {
   "cell_type": "code",
   "execution_count": null,
   "id": "3dc47cc9",
   "metadata": {
    "tags": []
   },
   "outputs": [],
   "source": [
    "# get a general idea of the data\n",
    "lead.info()"
   ]
  },
  {
   "cell_type": "markdown",
   "id": "966fc24f",
   "metadata": {},
   "source": [
    "Suppose we would like to plot a line graph to show the increase/decrease of the percentage of the children with high risk lead level in their blood between 2012 - 2020. For now, assume that we just want to plot the data for all the children regardless of their sex."
   ]
  },
  {
   "cell_type": "code",
   "execution_count": null,
   "id": "5a1f3d5b",
   "metadata": {
    "tags": []
   },
   "outputs": [],
   "source": [
    "# Drop the unnecessary columns\n",
    "lead_copy = lead[['Year', 'Sex', 'Rate', 'State Rate per 1,000']].copy()\n",
    "\n",
    "# Change the rate per 1000 to percentage \n",
    "lead_copy['Rate'] = lead_copy['Rate'] * 0.1\n",
    "lead_copy['State Rate per 1,000'] = lead_copy['State Rate per 1,000'] * 0.1\n",
    "\n",
    "\n",
    "# Update the column name for the Lowell rate column\n",
    "lead_copy = lead_copy.rename(columns={'Rate': 'Lowell Percentage', 'State Rate per 1,000': 'State Percentage'})\n",
    "\n",
    "# Take a look at the updated dataframe\n",
    "lead_copy"
   ]
  },
  {
   "cell_type": "code",
   "execution_count": null,
   "id": "4ade67a0",
   "metadata": {
    "tags": []
   },
   "outputs": [],
   "source": [
    "# take a look at the range of rates in the two columns of interest\n",
    "print(lead_copy['Lowell Percentage'].min(), lead_copy['Lowell Percentage'].max())\n",
    "print(lead_copy['State Percentage'].min(), lead_copy['State Percentage'].max())"
   ]
  },
  {
   "cell_type": "code",
   "execution_count": null,
   "id": "e918d993",
   "metadata": {
    "tags": []
   },
   "outputs": [],
   "source": [
    "# Plot the line graph\n",
    "x = range(2012, 2021)\n",
    "\n",
    "# Get the rate of children with high risk BLL in Lowell\n",
    "rate = lead_copy.loc[lead_copy['Sex']=='Total', 'Lowell Percentage'].tolist()\n",
    "\n",
    "# plot a line for the Lowell data\n",
    "fig, ax = plt.subplots()\n",
    "ax.plot(x, rate,'o-',label='Lowell') # plot the line for the Lowell\n",
    "\n",
    "# Give a y-axis label\n",
    "ax.set_ylabel('Percentage of children\\nwith blood lead level >=5g/dL');"
   ]
  },
  {
   "cell_type": "markdown",
   "id": "c6ae7f5c",
   "metadata": {},
   "source": [
    "How does the rate of children with high risk BLL compare to that of the entire state? We can add a line showing the state rate. "
   ]
  },
  {
   "cell_type": "code",
   "execution_count": null,
   "id": "07b0f249",
   "metadata": {
    "tags": []
   },
   "outputs": [],
   "source": [
    "### add a line for the statewide data\n",
    "\n",
    "# get the data of the rate of the children with high risk BLL in the entire state\n",
    "state_rate = lead_copy.loc[lead_copy['Sex']=='Total', 'State Percentage'].tolist()\n",
    "ax.plot(x, state_rate,'D-',label='State')\n",
    "\n",
    "# Add a legend\n",
    "ax.legend(loc='upper center')\n",
    "fig"
   ]
  },
  {
   "cell_type": "markdown",
   "id": "df08a7cb",
   "metadata": {},
   "source": [
    "<h3 style=\"color:red; display:inline\">Coding Challenge! &lt; / &gt; </h3>\n",
    "\n",
    "It's your turn to write some code and plot a line graph! \n",
    "\n",
    "You have seen that the dataframe we created from the original csv file contains data for both female and male children between 9 and 48 months old in the county of Lowell. Can you plot a line graph with two lines, one showing the percentage of female children with blood lead level >= 5g/dL and one showing the percentage of the male children with blood lead level >=5g/dL? "
   ]
  },
  {
   "cell_type": "code",
   "execution_count": null,
   "id": "74c3070a",
   "metadata": {},
   "outputs": [],
   "source": []
  },
  {
   "cell_type": "markdown",
   "id": "eeb71bad",
   "metadata": {},
   "source": [
    "## Bar charts\n",
    "\n",
    "A bar chart plots numeric values for different categorical values as bars. The categorical values are plotted on one axis, and the numerical values are plotted on the other axis. \n",
    "\n",
    "### Vertical bar charts"
   ]
  },
  {
   "cell_type": "markdown",
   "id": "ae28d9e8",
   "metadata": {},
   "source": [
    "In a vertical bar chart, the x-axis holds categorical values and the y-axis holds numerical values. Each categorical value claims one bar, and the height of each bar shows the magnitude of the bar's value. The bars are plotted on a common baseline to allow for easy comparison of values. \n",
    "\n",
    "Let's use the opioid addiction data from [Mass.gov](https://www.mass.gov/info-details/addiction-opioid-use) to make a bar chart. The data is stored in a `.csv` file."
   ]
  },
  {
   "cell_type": "code",
   "execution_count": null,
   "id": "317adbf4",
   "metadata": {
    "tags": []
   },
   "outputs": [],
   "source": [
    "# Get the file\n",
    "file = '../All-sample-files/DataViz2_OpioidAddictionData.csv'"
   ]
  },
  {
   "cell_type": "markdown",
   "id": "6577db72",
   "metadata": {},
   "source": [
    "Let's go take a look at the downloaded file before reading it into a dataframe. \n",
    "Go to `File -> open -> data` to find the file.\n",
    "\n",
    "As we can see, there are two charts in the csv file. Suppose we are interested in the first chart titled \"Opioid-Related Overdose Death Rates (2014-2020)\". After reading in the data, we will need to do some preprocessing to reduce the data to what we are interested in."
   ]
  },
  {
   "cell_type": "code",
   "execution_count": null,
   "id": "5cc2aa3b",
   "metadata": {
    "tags": []
   },
   "outputs": [],
   "source": [
    "# Make a dataframe \n",
    "opioid = pd.read_csv(file)\n",
    "opioid"
   ]
  },
  {
   "cell_type": "markdown",
   "id": "b2ea3b9f",
   "metadata": {},
   "source": [
    "We saw that in the csv file, the metadata of the second chart begins in row 55. Let's slice the dataframe to identify the ending row of the first chart. We can get rows with indexes 50 - 60 and take a look. "
   ]
  },
  {
   "cell_type": "code",
   "execution_count": null,
   "id": "5ac28682",
   "metadata": {
    "tags": []
   },
   "outputs": [],
   "source": [
    "# Get the ending line of the first chart\n",
    "opioid.loc[50:60]"
   ]
  },
  {
   "cell_type": "markdown",
   "id": "358bf71e",
   "metadata": {},
   "source": [
    "Now, let's drop the data of the second chart and reduce our dataframe to the first chart. "
   ]
  },
  {
   "cell_type": "code",
   "execution_count": null,
   "id": "f4a95cd2",
   "metadata": {
    "tags": []
   },
   "outputs": [],
   "source": [
    "# Preprocess the dataframe\n",
    "opioid = opioid.drop(opioid.index[54:]) # drop the data from the second chart \n",
    "\n",
    "# drop the metadata of the first chart, rename the columns with row 5, drop row 5 and reset the index\n",
    "opioid = opioid.drop(opioid.index[:4]).rename(columns=opioid.loc[4]).drop(index=4).reset_index(drop=True)\n",
    "opioid"
   ]
  },
  {
   "cell_type": "markdown",
   "id": "d1472866",
   "metadata": {},
   "source": [
    "Suppose we would like to plot a bar chart showing the age-adjusted death rate from 2014 - 2020 for the males in each race group. The years will be plotted on the x-axis and the rate will be plotted on the y-axis. Each year will have as many bars as there are race groups in the dataframe. "
   ]
  },
  {
   "cell_type": "code",
   "execution_count": null,
   "id": "d68d55bf",
   "metadata": {
    "tags": []
   },
   "outputs": [],
   "source": [
    "# Filter the dataframe to get the data for males\n",
    "opioid = opioid.loc[opioid['Sex']=='Male'].reset_index()\n",
    "\n",
    "# Round the death rate to 2 decimal places\n",
    "opioid['Age-Adjusted Rate per 100,000'] = round(opioid['Age-Adjusted Rate per 100,000'].astype(float), 2)"
   ]
  },
  {
   "cell_type": "code",
   "execution_count": null,
   "id": "405db3cc",
   "metadata": {
    "tags": []
   },
   "outputs": [],
   "source": [
    "# Get the race groups in the dataframe\n",
    "race = opioid['Race/Ethnicity'].unique()\n",
    "race = np.sort(race) # Sort the racial groups by alphabetical order"
   ]
  },
  {
   "cell_type": "code",
   "execution_count": null,
   "id": "d01bc1e8",
   "metadata": {
    "tags": []
   },
   "outputs": [],
   "source": [
    "# Get the x values\n",
    "years = list(range(2014, 2021))\n",
    "\n",
    "# Get the y values\n",
    "death_rate = {r: opioid.loc[opioid['Race/Ethnicity']==r, 'Age-Adjusted Rate per 100,000'].tolist() \n",
    "              for r in race\n",
    "             }"
   ]
  },
  {
   "cell_type": "code",
   "execution_count": null,
   "id": "bfba978b",
   "metadata": {
    "tags": []
   },
   "outputs": [],
   "source": [
    "### Plot the bar chart\n",
    "\n",
    "# Create the x label locations \n",
    "x = np.arange(len(years))  # the label locations\n",
    "width = 0.2  # the width of the bars\n",
    "multiplier = -2\n",
    "c = 0\n",
    " \n",
    "fig, ax = plt.subplots(figsize=(10, 4))\n",
    "colors=['blue', 'orange', 'green', 'grey']\n",
    "for race, drate in death_rate.items():\n",
    "    offset = width * multiplier\n",
    "    rects = ax.bar(x + offset, drate, width, label=race, color=colors[c], align='edge')\n",
    "    multiplier += 1\n",
    "    c = c+1\n",
    "\n",
    "# Add some text for labels, title and custom x-axis tick labels, etc.\n",
    "ax.set_ylabel('Age-Adjusted rate per 100,000')\n",
    "ax.set_title('Opioid-Related Overdose Death Rates')\n",
    "ax.set_xticks(x, years)\n",
    "ax.legend(loc='upper center', ncol=4)\n",
    "ax.set_ylim(0, 80);"
   ]
  },
  {
   "cell_type": "markdown",
   "id": "dd036ac0",
   "metadata": {},
   "source": [
    "We have one last thing to do. Can you check the documentation of Matplotlib and figure out how to put the rate numbers on the bars? "
   ]
  },
  {
   "cell_type": "code",
   "execution_count": null,
   "id": "05729c91",
   "metadata": {},
   "outputs": [],
   "source": [
    "# Put the rate numbers on the bars\n"
   ]
  },
  {
   "cell_type": "markdown",
   "id": "11bad4f6",
   "metadata": {},
   "source": [
    "### Horizontal bar charts\n",
    "\n",
    "It's a good idea to use a horizontal bar chart when the category labels are really long. In a vertical bar chart, you may need to rotate the labels for them not to be overlapped, and the horizontal orientation nicely avoids this issue.\n",
    "\n",
    "In a horizontal bar chart, the x-axis holds numerical values and the y-axis holds categorical values. Each categorical value claims one bar, and the length of each bar shows the magnitude of the bar's value. The bars are plotted on a common baseline to allow for easy comparison of values. \n",
    "\n",
    "In the last section, we focused on the childhood lead poisoning data in the town of Lowell. In this section, let's get the childhood lead poisoning data across all the counties in Massachusetts in 2020. "
   ]
  },
  {
   "cell_type": "code",
   "execution_count": null,
   "id": "d951c283",
   "metadata": {
    "tags": []
   },
   "outputs": [],
   "source": [
    "# Get the file\n",
    "file ='../All-sample-files/DataViz2_ChildhoodLeadPoisoning_County_2020.csv'"
   ]
  },
  {
   "cell_type": "code",
   "execution_count": null,
   "id": "40c9d126",
   "metadata": {
    "tags": []
   },
   "outputs": [],
   "source": [
    "# create a dataframe\n",
    "lead_county = pd.read_csv(file)"
   ]
  },
  {
   "cell_type": "code",
   "execution_count": null,
   "id": "74934f23",
   "metadata": {
    "tags": []
   },
   "outputs": [],
   "source": [
    "### Plot a horizontal bar chart showing the \n",
    "### percentage of children with high risk BLL in each county of MA in 2020\n",
    "\n",
    "# reduce the dataframe to the data of interest\n",
    "lead_county_copy = lead_county[['Geo Description', 'Sex', 'Rate']].copy()\n",
    "lead_county_copy = lead_county_copy.loc[lead_county_copy['Sex']=='Total', ['Geo Description', 'Sex', 'Rate']]\n",
    "\n",
    "# Change rate per 1000 to percentage\n",
    "lead_county_copy['Rate'] = lead_county_copy['Rate'] * 0.1\n",
    "\n",
    "# rename the columns to more descriptive names\n",
    "lead_county_copy = lead_county_copy.rename(columns={'Geo Description':'County', 'Rate': 'Percentage'})\n",
    "\n",
    "# Sort the df by the percentage\n",
    "lead_county_copy = lead_county_copy.sort_values(by='Percentage')\n",
    "\n",
    "# Get the x values\n",
    "x = lead_county_copy['Percentage'].tolist()\n",
    "\n",
    "# Get the y values\n",
    "y = lead_county_copy['County']\n",
    "\n",
    "# plot the horizontal bar chart\n",
    "\n",
    "fig, ax = plt.subplots(figsize=(7,7))\n",
    "ax.barh(y, x)\n",
    "ax.set_title('Percentage of children with high risk blood lead level by county');"
   ]
  },
  {
   "cell_type": "markdown",
   "id": "1be9926f",
   "metadata": {},
   "source": [
    "## Lesson Complete\n",
    "\n",
    "Congratulations! You have completed *Data Visualization 2*.\n",
    "\n",
    "### Start Next Lesson: [Data Visualization 3 ->](./data-viz3.ipynb)\n",
    "\n",
    "### Exercise Solutions\n",
    "Here are a few solutions for the exercises in this lesson."
   ]
  },
  {
   "cell_type": "code",
   "execution_count": null,
   "id": "2522f49c",
   "metadata": {
    "tags": []
   },
   "outputs": [],
   "source": [
    "### Plot a scatter plot to display the relationship between\n",
    "### noon temperature and ice cream sales\n",
    "\n",
    "x = [14.2, 11.9, 15.2, 18.1, 17.2, 19.4, 22.1, 25.1, 22.6, 24.8]\n",
    "y = [250, 185, 332, 421, 380, 450, 500, 614, 520, 570]\n",
    "\n",
    "fig, ax = plt.subplots()\n",
    "ax.scatter(x, y)\n",
    "ax.set_xlabel('Temperature ˚C')\n",
    "ax.set_ylabel('Ice Cream Sales');"
   ]
  },
  {
   "cell_type": "code",
   "execution_count": null,
   "id": "2fb79115",
   "metadata": {
    "tags": []
   },
   "outputs": [],
   "source": [
    "### Plot a line graph for the female and male children data\n",
    "\n",
    "# Get the data for the female children\n",
    "lead_female = lead_copy.loc[lead_copy['Sex']=='Female', 'Lowell Percentage']\n",
    "\n",
    "# Get the data for the male children\n",
    "lead_male = lead_copy.loc[lead_copy['Sex']=='Male', 'Lowell Percentage']\n",
    "\n",
    "# Get the x values\n",
    "x = range(2012, 2021)\n",
    "\n",
    "# Plot the line graph\n",
    "fig, ax = plt.subplots()\n",
    "ax.plot(x, lead_female, 'o-', label='Female')\n",
    "ax.plot(x, lead_male, 'D-', label='Male')\n",
    "ax.legend(loc='upper center');"
   ]
  },
  {
   "cell_type": "code",
   "execution_count": null,
   "id": "a82b586f",
   "metadata": {},
   "outputs": [],
   "source": []
  },
  {
   "cell_type": "code",
   "execution_count": null,
   "id": "bbf7a777-92cf-4565-a299-087bb0128837",
   "metadata": {},
   "outputs": [],
   "source": []
  }
 ],
 "metadata": {
  "kernelspec": {
   "display_name": "Python 3 (ipykernel)",
   "language": "python",
   "name": "python3"
  },
  "language_info": {
   "codemirror_mode": {
    "name": "ipython",
    "version": 3
   },
   "file_extension": ".py",
   "mimetype": "text/x-python",
   "name": "python",
   "nbconvert_exporter": "python",
   "pygments_lexer": "ipython3",
   "version": "3.11.9"
  },
  "toc": {
   "base_numbering": 1,
   "nav_menu": {},
   "number_sections": true,
   "sideBar": true,
   "skip_h1_title": true,
   "title_cell": "Table of Contents",
   "title_sidebar": "Contents",
   "toc_cell": false,
   "toc_position": {},
   "toc_section_display": true,
   "toc_window_display": false
  }
 },
 "nbformat": 4,
 "nbformat_minor": 5
}

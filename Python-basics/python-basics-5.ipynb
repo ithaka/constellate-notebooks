{
 "cells": [
  {
   "cell_type": "markdown",
   "id": "9b3de194",
   "metadata": {},
   "source": [
    "<img align=\"left\" src=\"../All-sample-files/CC_BY.png\"><br />\n",
    "\n",
    "Created by [Nathan Kelber](http://nkelber.com) for [JSTOR Labs](https://labs.jstor.org/) under [Creative Commons CC BY License](https://creativecommons.org/licenses/by/4.0/)<br />\n",
    "For questions/comments/improvements, email nathan.kelber@ithaka.org.<br />\n",
    "____"
   ]
  },
  {
   "cell_type": "markdown",
   "id": "c619379c",
   "metadata": {},
   "source": [
    "# Python Basics 5\n",
    "\n",
    "**Description:**\n",
    "This notebook focuses on strings, preparing learners to use:\n",
    "* Escape characters\n",
    "* String methods\n",
    "\n",
    "**Use Case:** For Learners (Detailed explanation, not ideal for researchers)\n",
    "\n",
    "**Difficulty:** Beginner\n",
    "\n",
    "**Completion time:** 75-90 minutes\n",
    "\n",
    "**Knowledge Required:** \n",
    "* [Getting Started with Jupyter Notebooks](./getting-started-with-jupyter.ipynb)\n",
    "* [Python Basics 1](./python-basics-1.ipynb)\n",
    "* [Python Basics 2](./python-basics-2.ipynb)\n",
    "* [Python Basics 3](./python-basics-3.ipynb)\n",
    "* [Python Basics 4](./python-basics-4.ipynb)\n",
    "\n",
    "**Knowledge Recommended:** None\n",
    "\n",
    "**Data Format:** None\n",
    "\n",
    "**Libraries Used:** None\n",
    "\n",
    "**Research Pipeline:** None\n",
    "___"
   ]
  },
  {
   "cell_type": "markdown",
   "id": "76c472c1",
   "metadata": {},
   "source": [
    "## The `print()` function\n",
    "\n"
   ]
  },
  {
   "cell_type": "markdown",
   "id": "129651fc",
   "metadata": {},
   "source": [
    "Often when working with strings, we use the `print()` function. A deeper understanding of `print()` will help us work with strings more flexibly."
   ]
  },
  {
   "cell_type": "markdown",
   "id": "3597b244",
   "metadata": {},
   "source": [
    "### Escape characters\n",
    "\n",
    "Python strings can use single or double quotes. If the string contains a single quote character, it may be beneficial to use double quotes. Try printing out the string in the next code cell:"
   ]
  },
  {
   "cell_type": "code",
   "execution_count": null,
   "id": "82427fa8",
   "metadata": {},
   "outputs": [],
   "source": [
    "# Print out a string using single or double quotes\n",
    "string = 'Hello World: Here's a string.'\n",
    "print(string)"
   ]
  },
  {
   "cell_type": "markdown",
   "id": "8f0ecf62",
   "metadata": {},
   "source": [
    "An easy solution would be to use double quotes, such as:\n",
    "> string = \"Hello World: Here's a string.\"\n",
    "\n",
    "The use of double quotes keeps Python from ending the string prematurely. But what if your string contains both single and double quotes? Escape characters help us insert certain characters into a string. An escape character begins with a `\\`. For example, we could insert a single quote into a string surrounded by single quotes by using an escape character."
   ]
  },
  {
   "cell_type": "code",
   "execution_count": null,
   "id": "3789d134",
   "metadata": {},
   "outputs": [],
   "source": [
    "# Print out a single quote in a Python string\n",
    "string = 'There\\'s an escape character in this string.'\n",
    "print(string)"
   ]
  },
  {
   "cell_type": "markdown",
   "id": "d2c92240",
   "metadata": {},
   "source": [
    "The backslash character `\\` in front of the single quote tells Python not to end the string prematurely. Of course, this opens a new question: How do we create a string with a backslash? The answer is another escape character using two backslashes."
   ]
  },
  {
   "cell_type": "code",
   "execution_count": null,
   "id": "5259ad33",
   "metadata": {},
   "outputs": [],
   "source": [
    "# Print a backslash using an escape character\n",
    "string = 'Adding a backslash \\\\ requires an escape character.'\n",
    "print(string)"
   ]
  },
  {
   "cell_type": "markdown",
   "id": "8e0a8229",
   "metadata": {},
   "source": [
    "Another option is to use a raw string, which ignores any escape characters. A raw string simply starts with an `r` similar to an `f` string."
   ]
  },
  {
   "cell_type": "code",
   "execution_count": null,
   "id": "1e2c936a",
   "metadata": {},
   "outputs": [],
   "source": [
    "string = r'No escape characters \\ here'\n",
    "print(string)"
   ]
  },
  {
   "cell_type": "markdown",
   "id": "777c3dad",
   "metadata": {},
   "source": [
    "Escape characters also do more than just allow us to add quotes and backslashes. They are also responsible for string formatting for aspects such as tabs and new lines."
   ]
  },
  {
   "cell_type": "markdown",
   "id": "9d6f8e62",
   "metadata": {},
   "source": [
    "|Code|Result|\n",
    "|---|---|\n",
    "|`\\'`| ' |\n",
    "|`\\\\`| \\ |\n",
    "|`\\t`| tab |\n",
    "|`\\n`| new line|"
   ]
  },
  {
   "cell_type": "code",
   "execution_count": null,
   "id": "0ca47314",
   "metadata": {
    "scrolled": true
   },
   "outputs": [],
   "source": [
    "# Print out a string with two lines\n"
   ]
  },
  {
   "cell_type": "code",
   "execution_count": null,
   "id": "d7022443",
   "metadata": {},
   "outputs": [],
   "source": [
    "# Print out a string with a tab\n"
   ]
  },
  {
   "cell_type": "markdown",
   "id": "99ea0eea",
   "metadata": {},
   "source": [
    "___\n",
    "<h3 style=\"color:red; display:inline\">Try it! &lt; / &gt; </h3>\n",
    "\n",
    "**Can you print a string with a new line? How about a tab?**\n",
    "___"
   ]
  },
  {
   "cell_type": "markdown",
   "id": "92c9f387",
   "metadata": {},
   "source": [
    "The newline escape character `\\n` can affect readability for many lines. Consider this string containing four lines of a Shakespeare sonnet."
   ]
  },
  {
   "cell_type": "code",
   "execution_count": null,
   "id": "8f6f445d",
   "metadata": {
    "scrolled": true
   },
   "outputs": [],
   "source": [
    "string = 'Shall I compare thee to a summer’s day?\\nThou art more lovely and more temperate:\\nRough winds do shake the darling buds of May,\\nAnd summer’s lease hath all too short a date;\\n'\n",
    "print(string)"
   ]
  },
  {
   "cell_type": "markdown",
   "id": "0bfd3f7e",
   "metadata": {},
   "source": [
    "A more readable option is to create a string with a triple quote (single or double). This string type can also automatically interpret new lines and tabs."
   ]
  },
  {
   "cell_type": "code",
   "execution_count": null,
   "id": "5e60b074",
   "metadata": {},
   "outputs": [],
   "source": [
    "# Print out Shakespeare's Sonnet 18\n",
    "string = \"\"\"Shall I compare thee to a summer’s day?\n",
    "Thou art more lovely and more temperate:\n",
    "Rough winds do shake the darling buds of May,\n",
    "And summer’s lease hath all too short a date;\n",
    "Sometime too hot the eye of heaven shines,\n",
    "And often is his gold complexion dimm'd;\n",
    "And every fair from fair sometime declines,\n",
    "By chance or nature’s changing course untrimm'd;\n",
    "But thy eternal summer shall not fade,\n",
    "Nor lose possession of that fair thou ow’st;\n",
    "Nor shall death brag thou wander’st in his shade,\n",
    "When in eternal lines to time thou grow’st:\n",
    "    So long as men can breathe or eyes can see,\n",
    "    So long lives this, and this gives life to thee.\"\"\"\n",
    "\n",
    "print(string)\n"
   ]
  },
  {
   "cell_type": "markdown",
   "id": "c11ddb56",
   "metadata": {},
   "source": [
    "### Formatted strings (f-strings)\n",
    "\n",
    "An f-string can help us concatenate a variable inside of string. Consider this example where a print function must concatenate three strings:"
   ]
  },
  {
   "cell_type": "code",
   "execution_count": null,
   "id": "f7b0ab96",
   "metadata": {},
   "outputs": [],
   "source": [
    "# Greeting a user with a concatenated string\n",
    "username = input('Hi. What is your name? ')\n",
    "\n",
    "print('Hello ' + username + '!')"
   ]
  },
  {
   "cell_type": "markdown",
   "id": "68dc2f89",
   "metadata": {},
   "source": [
    "We used the `+` operator twice to concatenate `username` between the strings `'Hello '` and `'!'`. A simpler method would be to use an f-string. Similar to the way a raw string begins with an **r** `r'string'`, the formatted string begins with an **f** `f'string'`. The variable to be concatenated is then included in curly brackets `{}`."
   ]
  },
  {
   "cell_type": "code",
   "execution_count": null,
   "id": "bb82830b",
   "metadata": {},
   "outputs": [],
   "source": [
    "# Print the username inside a formatted string\n",
    "print(f'Hello {username}!')"
   ]
  },
  {
   "cell_type": "markdown",
   "id": "9b5a7105",
   "metadata": {},
   "source": [
    "### Using `print()` with a `sep` or `end` argument\n",
    "The `print()` function can accept additional arguments such as `sep` or `end`. These can help format a string appropriately for output. By default, the print function will print many objects separated by a comma."
   ]
  },
  {
   "cell_type": "code",
   "execution_count": null,
   "id": "ab505b0b",
   "metadata": {},
   "outputs": [],
   "source": [
    "# Print multiple objects with a single print() statement\n",
    "string1 = 'Hello'\n",
    "string2 = 'World'\n",
    "string3 = '!'\n",
    "\n",
    "print(string1, string2, string3)"
   ]
  },
  {
   "cell_type": "markdown",
   "id": "9d2c0e03",
   "metadata": {},
   "source": [
    "Notice that the `print()` function defaults to include a single space separator between the objects it prints. We can change this default separator by using the `sep` parameter."
   ]
  },
  {
   "cell_type": "code",
   "execution_count": null,
   "id": "2c09dc1e",
   "metadata": {},
   "outputs": [],
   "source": [
    "# Use a plus as a separator\n",
    "print(string1, string2, string3, sep='+')"
   ]
  },
  {
   "cell_type": "markdown",
   "id": "17dbca0c",
   "metadata": {},
   "source": [
    "We can even remove the separator by specifying an empty string."
   ]
  },
  {
   "cell_type": "code",
   "execution_count": null,
   "id": "7adf6664",
   "metadata": {},
   "outputs": [],
   "source": [
    "# Specify an empty string for no separation\n",
    "print(string1, string2, string3, sep='')"
   ]
  },
  {
   "cell_type": "markdown",
   "id": "61457b17",
   "metadata": {},
   "source": [
    "The print `print()` function also concatenates a new line by default. The is specified in the default argument `end='\\n'`."
   ]
  },
  {
   "cell_type": "code",
   "execution_count": null,
   "id": "17e38ed5",
   "metadata": {},
   "outputs": [],
   "source": [
    "# Two strings printed on separate lines\n",
    "print('Hello')\n",
    "print('World')"
   ]
  },
  {
   "cell_type": "markdown",
   "id": "34d45ce7",
   "metadata": {},
   "source": [
    "___\n",
    "<h3 style=\"color:red; display:inline\">Try it! &lt; / &gt; </h3>\n",
    "\n",
    "**Keeping both `print()` functions above, can you print the outputs on the same line?**\n",
    "___"
   ]
  },
  {
   "cell_type": "markdown",
   "id": "87d47712",
   "metadata": {},
   "source": [
    "## String slices and methods"
   ]
  },
  {
   "cell_type": "markdown",
   "id": "d25aa3c5",
   "metadata": {},
   "source": [
    "### String slices\n",
    "The characters of a string can also be indexed and sliced like the items of a list. "
   ]
  },
  {
   "cell_type": "code",
   "execution_count": null,
   "id": "68247bf4",
   "metadata": {},
   "outputs": [],
   "source": [
    "# Using a string index\n",
    "string = 'Python Basics'\n",
    "string[0]"
   ]
  },
  {
   "cell_type": "code",
   "execution_count": null,
   "id": "69fede5a",
   "metadata": {},
   "outputs": [],
   "source": [
    "# Slicing a string\n",
    "string = 'Python Basics'\n",
    "string[0:6]"
   ]
  },
  {
   "cell_type": "markdown",
   "id": "cc435661",
   "metadata": {},
   "source": [
    "We can use flow control on a string the same way we would with a list."
   ]
  },
  {
   "cell_type": "code",
   "execution_count": null,
   "id": "1dce18e5",
   "metadata": {},
   "outputs": [],
   "source": [
    "# Use a for loop on the string\n",
    "# To print each character except any letter 'o'\n",
    "string = 'Hello World'\n"
   ]
  },
  {
   "cell_type": "markdown",
   "id": "6ff7f667",
   "metadata": {},
   "source": [
    "___\n",
    "<h3 style=\"color:red; display:inline\">Try it! &lt; / &gt; </h3>\n",
    "\n",
    "**Can you use a `for` loop to print each character of the string `Hello World` without printing the letter 'o'?**\n",
    "___"
   ]
  },
  {
   "cell_type": "markdown",
   "id": "62b96ff9",
   "metadata": {},
   "source": [
    "### String methods"
   ]
  },
  {
   "cell_type": "markdown",
   "id": "627ab00f",
   "metadata": {},
   "source": [
    "There are a variety of methods for manipulating strings. \n",
    "\n",
    "\n",
    "|Method | Purpose | Form |\n",
    "|---|---|---|\n",
    "|.lower()| change the string to lowercase | string.lower()|\n",
    "|.upper()| change the string to uppercase | string.upper()|\n",
    "|.join()| joins together a list of strings | ' '.join(string_list)|\n",
    "|.split()| splits strings apart | string.split()|\n",
    "|.replace()| replaces characters in a string | string.replace(oldvalue, newvalue)|\n",
    "|.rjust(), .ljust(), .center()| pad out a string | string.rjust(5)|\n",
    "|.rstrip(), .lstrip(), .strip()| strip out whitespace | string.rstrip()|\n"
   ]
  },
  {
   "cell_type": "markdown",
   "id": "dc115416",
   "metadata": {},
   "source": [
    "All of the characters in a string can be lowercased with `.lower()` or uppercased with `.upper()`."
   ]
  },
  {
   "cell_type": "code",
   "execution_count": null,
   "id": "dd711113",
   "metadata": {},
   "outputs": [],
   "source": [
    "# Lowercase a string\n",
    "string = 'Hello World'\n",
    "string.lower()"
   ]
  },
  {
   "cell_type": "markdown",
   "id": "f662ad15",
   "metadata": {},
   "source": [
    "These methods do not change the original string, but they return a string that can be saved to a new variable."
   ]
  },
  {
   "cell_type": "code",
   "execution_count": null,
   "id": "07355978",
   "metadata": {},
   "outputs": [],
   "source": [
    "# The original string is unchanged\n",
    "print(string)\n",
    "\n",
    "# The returned string can be assigned to a new variable\n",
    "new_string = string.upper()\n",
    "print(new_string)"
   ]
  },
  {
   "cell_type": "markdown",
   "id": "ed8475ef",
   "metadata": {},
   "source": [
    "A string can be split on any character, or set of characters, passed into `.split()`. By default, strings are split on any whitespace including spaces, new lines, and tabs."
   ]
  },
  {
   "cell_type": "code",
   "execution_count": null,
   "id": "715edb2a",
   "metadata": {},
   "outputs": [],
   "source": [
    "# Splitting a string on white space\n",
    "string = 'This string will be split on whitespace.'\n",
    "string.split()"
   ]
  },
  {
   "cell_type": "code",
   "execution_count": null,
   "id": "74aa2f03",
   "metadata": {},
   "outputs": [],
   "source": [
    "# Splitting a phone string based on the '-' character\n",
    "phone_string = '313-555-3434'\n",
    "phone_string.split('-')"
   ]
  },
  {
   "cell_type": "markdown",
   "id": "19bdaa25",
   "metadata": {},
   "source": [
    "Similarly, lists of strings can be joined together by passing them into `.join()`. A joining string must be specified before the `.join()`, even if it is the empty string `''`."
   ]
  },
  {
   "cell_type": "code",
   "execution_count": null,
   "id": "4a1ac4a0",
   "metadata": {},
   "outputs": [],
   "source": [
    "# List of strings joined together\n",
    "name_list = ['Sam', 'Delilah', 'Jordan']\n",
    "', '.join(name_list)"
   ]
  },
  {
   "cell_type": "markdown",
   "id": "e9ef7c18",
   "metadata": {},
   "source": [
    "The `.strip()` method will strip leading and trailing whitespace (including spaces, tabs, and new lines) from a string. Remember, these changes will not affect the original string, but they can be assigned to a new variable."
   ]
  },
  {
   "cell_type": "code",
   "execution_count": null,
   "id": "eef78d92",
   "metadata": {},
   "outputs": [],
   "source": [
    "# Stripping leading and trailing whitespaces from a string\n",
    "string = '    Python Basics '\n",
    "string.strip()"
   ]
  },
  {
   "cell_type": "markdown",
   "id": "ba3411fd",
   "metadata": {},
   "source": [
    "It is also possible to only strip whitespace from the right or left of a string."
   ]
  },
  {
   "cell_type": "code",
   "execution_count": null,
   "id": "6feb4695",
   "metadata": {},
   "outputs": [],
   "source": [
    "# Stripping leading whitespace from the leftside of a string\n",
    "string = '    Python Basics '\n",
    "string.lstrip()"
   ]
  },
  {
   "cell_type": "markdown",
   "id": "2b5bdf99",
   "metadata": {},
   "source": [
    "Characters in a string can be replaced with other characters using the `.replace()` method."
   ]
  },
  {
   "cell_type": "code",
   "execution_count": null,
   "id": "44f57f41",
   "metadata": {},
   "outputs": [],
   "source": [
    "# Replacing characters in a string with .replace()\n",
    "string = 'Hello world'\n",
    "string.replace('l', 'x')"
   ]
  },
  {
   "cell_type": "code",
   "execution_count": null,
   "id": "64291285",
   "metadata": {},
   "outputs": [],
   "source": [
    "# Removing characters from a string\n",
    "# using .replace with an empty string\n",
    "string = 'Hello! World!'\n",
    "string.replace('!', '')"
   ]
  },
  {
   "cell_type": "markdown",
   "id": "08ce5b1d",
   "metadata": {},
   "source": [
    "Finally, strings can be justified (or padded out) with characters leading, trailing, or both. By default, strings are justified with spaces but other characters can be specified by passing a second argument."
   ]
  },
  {
   "cell_type": "code",
   "execution_count": null,
   "id": "59f5efdf",
   "metadata": {},
   "outputs": [],
   "source": [
    "# Left justifying a string\n",
    "string1 = 'Hello'\n",
    "string2 = 'world!'\n",
    "\n",
    "print(string1.ljust(10) + string2)"
   ]
  },
  {
   "cell_type": "code",
   "execution_count": null,
   "id": "d7f4ed4f",
   "metadata": {},
   "outputs": [],
   "source": [
    "# Left justifying a string with pluses\n",
    "string1 = 'Hello'\n",
    "string2 = 'world!'\n",
    "\n",
    "print(string1.ljust(10, '+') + string2)"
   ]
  },
  {
   "cell_type": "code",
   "execution_count": null,
   "id": "521c61e9",
   "metadata": {},
   "outputs": [],
   "source": [
    "# Right justifying a string\n",
    "string1 = 'Hello'\n",
    "string2 = 'world!'\n",
    "\n",
    "print(string1 + string2.rjust(10))"
   ]
  },
  {
   "cell_type": "code",
   "execution_count": null,
   "id": "c8d4029c",
   "metadata": {},
   "outputs": [],
   "source": [
    "# Center a string\n",
    "string = 'Hello world!'\n",
    "\n",
    "print('|' + string.center(20) + '|')"
   ]
  },
  {
   "cell_type": "code",
   "execution_count": null,
   "id": "a9096482",
   "metadata": {},
   "outputs": [],
   "source": [
    "# Center a string\n",
    "string = 'Hello world!'\n",
    "\n",
    "print('|' + string.center(20, '+') + '|')"
   ]
  },
  {
   "cell_type": "code",
   "execution_count": null,
   "id": "6dd3b489",
   "metadata": {},
   "outputs": [],
   "source": [
    "# Printing a dictionary of contacts in neat columns\n",
    "contacts ={\n",
    " 'Amanda Bennett': 'Engineer, electrical',\n",
    " 'Bryan Miller': 'Radiation protection practitioner',\n",
    " 'Christopher Garrison': 'Planning and development surveyor',\n",
    " 'Debra Allen': 'Intelligence analyst'}\n",
    "\n",
    "print('Name', 'Occupation')\n",
    "for name, occupation in contacts.items():\n",
    "    print(name, occupation)"
   ]
  },
  {
   "cell_type": "markdown",
   "id": "f9c9520b",
   "metadata": {},
   "source": [
    "___\n",
    "<h3 style=\"color:red; display:inline\">Try it! &lt; / &gt; </h3>\n",
    "\n",
    "**Can you clean up the printing of the contacts dictionary?**\n",
    "___"
   ]
  },
  {
   "cell_type": "markdown",
   "id": "54c6f97a",
   "metadata": {},
   "source": [
    "### Checking string contents\n",
    "\n",
    "There are a variety of ways to to verify the contents of a string. These return a Boolean `True` or `False` and are useful for flow control. For example, we can check if a particular set of characters is inside of a string with the `in` and `not in` operators. The result is a Boolean True or False."
   ]
  },
  {
   "cell_type": "code",
   "execution_count": null,
   "id": "f4a960cb",
   "metadata": {},
   "outputs": [],
   "source": [
    "# Check whether a set of characters can be found in a string\n",
    "string = 'Python Basics'\n",
    "'Basics' in string"
   ]
  },
  {
   "cell_type": "markdown",
   "id": "f9f5cd5d",
   "metadata": {},
   "source": [
    "The following string methods also return Boolean `True` or `False` values.\n",
    "\n",
    "|Method | Purpose | Form |\n",
    "|---|---|---|\n",
    "|.startswith(), .endswith()| returns `True` if the string starts/ends with another string | string.startswith('abc')|\n",
    "|.isupper(), .islower()| returns `True` if all characters are upper or lowercase| string.isupper()|\n",
    "|.isalpha()| returns `True` if string is only letters and not blank | string.isalpha()|\n",
    "|.isalnum()| returns `True` if string only letters or numbers but not blank | string.alnum()|\n",
    "|.isdigit()| returns`True` if string is only numbers and not blank | string.isdigit()|"
   ]
  },
  {
   "cell_type": "code",
   "execution_count": null,
   "id": "83686070",
   "metadata": {},
   "outputs": [],
   "source": [
    "# Checking if a string starts \n",
    "# with a particular set of characters\n",
    "\n",
    "string = 'Python Basics'\n",
    "string.startswith('Python')"
   ]
  },
  {
   "cell_type": "code",
   "execution_count": null,
   "id": "446c6f2e",
   "metadata": {},
   "outputs": [],
   "source": [
    "# Checking if a string is lowercased\n",
    "string = 'python basics'\n",
    "string.islower()"
   ]
  },
  {
   "cell_type": "code",
   "execution_count": null,
   "id": "7faf2cef",
   "metadata": {},
   "outputs": [],
   "source": [
    "# Checking if a string is alphabet characters\n",
    "string = 'PythonBasics'\n",
    "string.isalpha()"
   ]
  },
  {
   "cell_type": "code",
   "execution_count": null,
   "id": "6e1796b8",
   "metadata": {},
   "outputs": [],
   "source": [
    "# Checking if a string only\n",
    "# alphabetic characters and numbers\n",
    "string = 'PythonBasics5'\n",
    "string.isalnum()"
   ]
  },
  {
   "cell_type": "code",
   "execution_count": null,
   "id": "be02879a",
   "metadata": {},
   "outputs": [],
   "source": [
    "# Checking if a string is only numbers\n",
    "string = '50'\n",
    "string.isdigit()"
   ]
  },
  {
   "cell_type": "markdown",
   "id": "989e820b",
   "metadata": {},
   "source": [
    "The `.isdigit()` method checks each character to verify it is a digit between 0-9. It will return `false` if there is a negative (-) or decimal point (.) character."
   ]
  },
  {
   "cell_type": "markdown",
   "id": "2ec43ee3",
   "metadata": {},
   "source": [
    "___\n",
    "<h2 style=\"color:red; display:inline\">Coding Challenge! &lt; / &gt; </h2>\n",
    "\n",
    "**Use flow control on the staff list below to print the name of every person with the first name 'Patricia' or the the last name 'Mitchell'**\n",
    "___"
   ]
  },
  {
   "cell_type": "code",
   "execution_count": null,
   "id": "b02ea9e9",
   "metadata": {},
   "outputs": [],
   "source": [
    "# A list of staff members\n",
    "staff = ['Tara Richards',\n",
    " 'Tammy French',\n",
    " 'Justin Douglas',\n",
    " 'Lauren Marquez',\n",
    " 'Aaron Wilson',\n",
    " 'Dennis Howell',\n",
    " 'Brandon Reed',\n",
    " 'Kelly Baker',\n",
    " 'Justin Howard',\n",
    " 'Sarah Myers',\n",
    " 'Vanessa Burgess',\n",
    " 'Timothy Davidson',\n",
    " 'Jessica Lee',\n",
    " 'Christopher Miller',\n",
    " 'Lisa Grant',\n",
    " 'Ryan Chan',\n",
    " 'Gary Carson',\n",
    " 'Anthony Mitchell',\n",
    " 'Jacob Turner',\n",
    " 'Jennifer Bonilla',\n",
    " 'Rachel Gonzalez',\n",
    " 'Patricia Clark',\n",
    " 'Richard Pearson',\n",
    " 'Glenn Allen',\n",
    " 'Jacqueline Gallagher',\n",
    " 'Carlos Mcdowell',\n",
    " 'Jeffrey Harris',\n",
    " 'Danielle Mitchell',\n",
    " 'Sarah Craig',\n",
    " 'Vernon Vasquez',\n",
    " 'Anthony Burton',\n",
    " 'Erica Bryant',\n",
    " 'Patricia Walker',\n",
    " 'Karen Brown',\n",
    " 'Terri Walker',\n",
    " 'Michelle Knight',\n",
    " 'Kathleen Douglas',\n",
    " 'Debbie Estrada',\n",
    " 'Jennifer Brewer',\n",
    " 'Taylor Rodriguez',\n",
    " 'Lisa Turner',\n",
    " 'Julie Hudson',\n",
    " 'Christina Cox',\n",
    " 'Nancy Patrick',\n",
    " 'Patricia Mosley',\n",
    " 'Nicholas Gordon',\n",
    " 'Wanda Vasquez',\n",
    " 'Jason Lopez',\n",
    " 'Anna Mitchell',\n",
    " 'Tyler Perez']"
   ]
  },
  {
   "cell_type": "markdown",
   "id": "bd4c9c17",
   "metadata": {},
   "source": [
    "___\n",
    "<h2 style=\"color:red; display:inline\">Coding Challenge! &lt; / &gt; </h2>\n",
    "\n",
    "**Print all the first names in the staff list. The `.split()` method would be useful.**\n",
    "___"
   ]
  },
  {
   "cell_type": "code",
   "execution_count": null,
   "id": "61116417",
   "metadata": {},
   "outputs": [],
   "source": [
    "# Print all the first names in the staff list\n"
   ]
  },
  {
   "cell_type": "markdown",
   "id": "07a22cd1",
   "metadata": {},
   "source": [
    "___\n",
    "<h2 style=\"color:red; display:inline\">Coding Challenge! &lt; / &gt; </h2>\n",
    "\n",
    "**Use flow control on the staff list to add all of the staff list to the colleagues list below. You will need to split the first and last names apart using the `.split()` method. You will also need to create a dictionary for each entry in the colleagues list and append the dictionary to colleagues list. Print out the first names of all colleagues.**\n",
    "___"
   ]
  },
  {
   "cell_type": "code",
   "execution_count": null,
   "id": "ad70ad86",
   "metadata": {},
   "outputs": [],
   "source": [
    "colleagues = [\n",
    "    {'first_name': 'Ada', 'last_name': 'Lovelace'},\n",
    "    {'first_name': 'Charles', 'last_name': 'Babbage'}\n",
    "]\n",
    "\n",
    "# Print the first name of the first colleague\n",
    "print(colleagues[0]['first_name'])"
   ]
  },
  {
   "cell_type": "markdown",
   "id": "27309841",
   "metadata": {},
   "source": [
    "___\n",
    "## Lesson Complete\n",
    "Congratulations! You've completed the *Python Basics* series. \n",
    "\n",
    "Considering the amount of material in *Python Basics 1-5* there's a good chance you won't retain it all. That's okay. Programmers often need to look up things to accomplish a task they haven't done in a while, particularly if it is in a language they don't often use. When you're working on a project, you can always come back to these lessons as reference materials. In other words, you've learned an incredible amount, so don't be surprised if it doesn't all stick at first.\n",
    "\n",
    "If you want to help yourself retain what you've learned, the best way is to start putting it into practice. Try your hand at creating some small Python projects and recognize that the things you've learned here will cement with time and practice. When you do forget a particular thing&mdash;as we all do&mdash;a quick web search often turns up some useful examples.\n",
    "\n",
    "\n",
    "### Start An Intermediate Python Skills Lesson: \n",
    "* [Python Intermediate 1](../Python-intermediate/python-intermediate-1.ipynb)\n",
    "* [Pandas basics 1](../Pandas-basics/pandas-basics-1.ipynb)\n",
    "\n",
    "### Start a Text Analysis Lesson:\n",
    "* [Exploring Metadata](../Exploring-metadata/exploring-metadata.ipynb) \n",
    "\n",
    "\n",
    "### Coding Solutions\n",
    "\n",
    "Here are a few solutions for exercises in this lesson.\n",
    "___"
   ]
  },
  {
   "cell_type": "code",
   "execution_count": null,
   "id": "ddd0114d",
   "metadata": {},
   "outputs": [],
   "source": [
    "# Using a for loop on a string\n",
    "string = 'Hello World'\n",
    "\n",
    "for character in string:\n",
    "    if character != 'o':\n",
    "        print(character, end='')"
   ]
  },
  {
   "cell_type": "code",
   "execution_count": null,
   "id": "a1a0dec0",
   "metadata": {},
   "outputs": [],
   "source": [
    "# Printing a dictionary of contacts in neat columns\n",
    "contacts ={\n",
    " 'Amanda Bennett': 'Engineer, electrical',\n",
    " 'Bryan Miller': 'Radiation protection practitioner',\n",
    " 'Christopher Garrison': 'Planning and development surveyor',\n",
    " 'Debra Allen': 'Intelligence analyst'}\n",
    "\n",
    "print('Name'.ljust(22), 'Occupation')\n",
    "print('|'.center(44, '-'))\n",
    "for name, occupation in contacts.items():\n",
    "    print(name.ljust(20), '|', occupation)"
   ]
  },
  {
   "cell_type": "code",
   "execution_count": null,
   "id": "dea437e9",
   "metadata": {},
   "outputs": [],
   "source": [
    "# Print all staff names with the first name Patricia or last name Mitchell\n",
    "for name in staff:\n",
    "   if name.startswith('Patricia') or name.endswith('Mitchell'):\n",
    "        print(name)"
   ]
  },
  {
   "cell_type": "code",
   "execution_count": null,
   "id": "c3c07a7e",
   "metadata": {},
   "outputs": [],
   "source": [
    "# Print all the first names in the staff list\n",
    "for name in staff:\n",
    "    print(name.split()[0])"
   ]
  },
  {
   "cell_type": "code",
   "execution_count": null,
   "id": "6695cd9b",
   "metadata": {},
   "outputs": [],
   "source": [
    "# Add the first and last names of the staff list to the colleagues list\n",
    "\n",
    "colleagues = [\n",
    "    {'first_name': 'Ada', 'last_name': 'Lovelace'},\n",
    "    {'first_name': 'Charles', 'last_name': 'Babbage'}\n",
    "]\n",
    "\n",
    "# Add staff names to colleagues list\n",
    "for name in staff:\n",
    "    colleague_dict = {}\n",
    "    first_name = name.split()[0]\n",
    "    last_name = name.split()[1]\n",
    "    colleague_dict['first_name'] = first_name\n",
    "    colleague_dict['last_name'] = last_name\n",
    "    colleagues.append(colleague_dict)\n",
    "\n",
    "for entry in colleagues:\n",
    "    print(entry['first_name'])\n",
    "    \n",
    "# Verify all the colleagues were added    \n",
    "#from pprint import pprint\n",
    "#pprint(colleagues)"
   ]
  }
 ],
 "metadata": {
  "kernelspec": {
   "display_name": "Python 3 (ipykernel)",
   "language": "python",
   "name": "python3"
  },
  "language_info": {
   "codemirror_mode": {
    "name": "ipython",
    "version": 3
   },
   "file_extension": ".py",
   "mimetype": "text/x-python",
   "name": "python",
   "nbconvert_exporter": "python",
   "pygments_lexer": "ipython3",
   "version": "3.11.4"
  },
  "toc": {
   "base_numbering": 1,
   "nav_menu": {},
   "number_sections": true,
   "sideBar": true,
   "skip_h1_title": true,
   "title_cell": "Table of Contents",
   "title_sidebar": "Contents",
   "toc_cell": false,
   "toc_position": {
    "height": "calc(100% - 180px)",
    "left": "10px",
    "top": "150px",
    "width": "165px"
   },
   "toc_section_display": true,
   "toc_window_display": false
  }
 },
 "nbformat": 4,
 "nbformat_minor": 5
}
